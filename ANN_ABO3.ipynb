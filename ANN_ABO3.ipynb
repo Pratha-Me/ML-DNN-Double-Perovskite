{
 "cells": [
  {
   "cell_type": "markdown",
   "id": "naked-record",
   "metadata": {
    "id": "iraqi-thriller"
   },
   "source": [
    "## Introduction\n",
    "This notebook aims to replicate the studies that were successful in predicting the lattice constants of the Perovskite crystal ($ABO_{3}$). The papers preoduced the results with the model's error around 2%. It's important to identify the features neccessary to perform predictions. The lattice constants of the $ABO_{3}$ -type may be correlated compounds as a general function of nine variables as below\n",
    "\n",
    "$Lattice constant = f(z_A + z_B + z_O + r_A + r_B + r_O + x_A + x_B + x_O)$\n",
    "\n",
    "where z, r and x denote the valence, the radius and the electronegativity of the ions (A, B, O), respectively. It is noted that the three variables associated with anion $O^{2-}$ , namely $z_{O}, r_{O},$ and $x_{O}$ can be ignored as they remain unchanged for all of the samples.\n",
    "\n",
    "The lattice constant can be reduced as a ﬁve-parameter function shown below.\n",
    "\n",
    "$Lattice constant = f(z_A + r_A + r_B + x_A + x_B)$\n",
    "\n",
    "The Goldschmidt’s tolerance factor (t) can condense the coation atomic radii into one expression. It has been widely accepted as a criterion for the formation of the perovskite structure, up to now. I will use $\\textbf{four features}$ including the tolerance factor and others are denoted by, $r_{A}, r_{B}$ and $\\frac{r_{A}}{t}$. The list of feature does not include electronegativity and valence number. Basically, other sets of features that includes these two atomic configurations can be used to predict the lattice constant with great accuracy. However, I will only take the atomic radii of the two cations in to my account. The tolerance factor (t) is expressed as below.\n",
    "\n",
    "$t = \\frac{r_A + r_O}{\\sqrt{2}(r_B + r_O)}$\n",
    "\n",
    "## Procedure\n",
    "First I will perform feature engineering. Next I will build the ANN (Hereafter called as ANN) model and also perform a GridSearch (GS). GS fine tunes the hyperparameters of the ANN. Finally I will perform the predictions from the model. The model will be prepared with the fine tuned hyperparameters. The GridSearch in the sklearn package convineintly provides the best model which can be used to fit and predict.\n",
    "\n",
    "## Feature engineering\n",
    "In the following section, the \".csv\" file is loaded into the program. The data is inspected for assurity. I observed the '.csv' provides the atomic radii for two atoms A and B in the crystal ($r_{A}$ and $r_{b}$), and the tolerance factor is absent. So the tolerance factor and $\\frac{r_{A}}{t}$ needs to be calculated. I have concanated them as columns in the following code."
   ]
  },
  {
   "cell_type": "code",
   "execution_count": null,
   "id": "bigger-plastic",
   "metadata": {
    "colab": {
     "base_uri": "https://localhost:8080/"
    },
    "id": "actual-cemetery",
    "outputId": "6dbe1700-fcb6-4d60-b8f7-e8a6b217be5e"
   },
   "outputs": [],
   "source": [
    "import pandas as pd\n",
    "import numpy as np\n",
    "import warnings\n",
    "warnings.filterwarnings('ignore')\n",
    "warnings.simplefilter('ignore')\n",
    "\n",
    "\n",
    "# data structure\n",
    "columns = ['compound',\n",
    "    'atomic_ra', 'atomic_rb', 'atomic_rc',  # Atomic radius\n",
    "    'covl_ra', 'covl_rb', 'covl_rc',  # Covalant radius\n",
    "    'van_ra', 'van_rb', 'van_rc',  # Van der Wall radius\n",
    "    'ionic_ra', 'ionic_rb', 'ionic_rc',  # Ionic radius\n",
    "    'atomic_mass_a', 'atomic_mass_b', 'atomic_mass_c',  # Atomic mass\n",
    "    'eNeg_a', 'eNeg_b', 'eNeg_c',  # Electronegativity\n",
    "    'eAffin_a', 'eAffin_b', 'eAffin_c',  # Electron affinity\n",
    "    'firstIoniz_a', 'firstIoniz_b', 'firstIoniz_c',  # First ionization potential\n",
    "    'oxidation_a', 'oxidation_b', 'oxidation_c',  # Oxydation state\n",
    "    'a', 'b', 'c', 'alpha', 'beta', 'gamma',  # Lattice parameters\n",
    "    'BandGap',  # Band gap (some are metal too!)\n",
    "    'formationE',  # Formation enerrgy per atom\n",
    "]\n",
    "\n",
    "lat_df = pd.read_csv('dataFile_new.csv', header=0,\n",
    "                     index_col=0, usecols=columns)\n",
    "print(\"The first five smaples from the DataFrame\\n\")\n",
    "print(lat_df.head())\n"
   ]
  },
  {
   "cell_type": "code",
   "execution_count": null,
   "id": "broken-walnut",
   "metadata": {
    "colab": {
     "base_uri": "https://localhost:8080/"
    },
    "id": "editorial-provider",
    "outputId": "759b4126-9bf4-4762-c1a1-dc53a770cdd0"
   },
   "outputs": [],
   "source": [
    "\n",
    "features = np.array(lat_df.loc[:, 'atomic_ra':'oxidation_c'], np.float32)\n",
    "targets = np.array(lat_df.loc[:, 'a':'c'], np.float32)\n",
    "# features = np.array(lat_df[['ra', 'rb', 'tolerance', 'rat']], np.float32)\n",
    "# targets = np.array(lat_df[['a', 'b', 'c']], np.float32)\n",
    "\n",
    "print (\"\\nThe first five observations of the features\")\n",
    "print (features[:5,:])\n",
    "print (\"\\nThe first five observations of the targets\")\n",
    "print (targets[:5,:])"
   ]
  },
  {
   "cell_type": "markdown",
   "id": "4a68466c",
   "metadata": {},
   "source": [
    "### Feature Scaling"
   ]
  },
  {
   "cell_type": "code",
   "execution_count": null,
   "id": "1f6aca96",
   "metadata": {},
   "outputs": [],
   "source": [
    "from sklearn.preprocessing import MinMaxScaler\n",
    "scaler = MinMaxScaler()\n",
    "\n",
    "scaler.fit(features)\n",
    "features = scaler.transform(features)\n",
    "print(features)"
   ]
  },
  {
   "cell_type": "markdown",
   "id": "5121a36f",
   "metadata": {},
   "source": [
    "### Dimensionality Reduction (PCA)"
   ]
  },
  {
   "cell_type": "code",
   "execution_count": null,
   "id": "84bad854",
   "metadata": {},
   "outputs": [],
   "source": [
    "from sklearn.decomposition import PCA\n",
    "\n",
    "pca = PCA(features.shape[1])\n",
    "pca.fit(features)\n",
    "\n",
    "print (pca.explained_variance_ratio_)\n",
    "\n",
    "cumulative_sum = np.cumsum(pca.explained_variance_ratio_)\n",
    "\n",
    "plt.figure()\n",
    "plt.plot(cumulative_sum)\n",
    "plt.title(\"Elbow Plot for PCA\")\n",
    "plt.ylabel(\"Explained Variance\")\n",
    "plt.xlabel(\"Dimensions/Features\")\n",
    "plt.show()"
   ]
  },
  {
   "cell_type": "code",
   "execution_count": null,
   "id": "15e06287",
   "metadata": {},
   "outputs": [],
   "source": [
    "pca = PCA(n_components=8)\n",
    "reduced_features = pca.fit_transform(features)\n",
    "\n",
    "print (np.cumsum(pca.explained_variance_ratio_)[-1])"
   ]
  },
  {
   "cell_type": "markdown",
   "id": "established-maintenance",
   "metadata": {},
   "source": [
    "## Machine Learning Model\n",
    "\n",
    "The prediction of lattice constants for $ABO_{3}$ from the atomic configurations like radii and tolerance has enigmatic mechanism. A linear regression model can not be conceived to solve multiple target variables. It can be deployed only in the case of single target variable. Here, the artificial neural network comes to the rescue. ANNs performance is remarkable for regression model. ANN works for any kind of numerical system.\n",
    "\n",
    "For the ANN, I will choose the loss function as the mean absolute error. \"MAE\" does not penalise the outliers in predictions compared to mean square error and huber loss function. I will choose Adam optimizer over Stochastic gradient descent (SGD). Besides Adam optimizer the other hyperparameters are number of neural nodes, number of hidden layers, learning rate (Adam optimizer), activation functions and so on. The ANN has lots of hyperparameters to be tuned before I set out to predict the target variables. So a GS will be neccessary to narrow down the optimal set of hyperparameters.\n",
    "\n",
    "A quick run down to my model's parameter is below.\n",
    "1. Number of epochs = 350\n",
    "2. Train and test data split ratio = 80:20\n",
    "3. Number of hidden layers = 2\n",
    "4. Number of neurons in each hidden layer = 400\n",
    "\n",
    "Once the model finishes its job, the loss (mean absolute error) and the graph for train and test loss against number of epochs is shown. Next, I will perform the GridSearch."
   ]
  },
  {
   "cell_type": "code",
   "execution_count": null,
   "id": "hispanic-location",
   "metadata": {
    "colab": {
     "base_uri": "https://localhost:8080/",
     "height": 1000
    },
    "id": "weird-offense",
    "outputId": "21326357-b249-4129-816b-cfd4692d28d4"
   },
   "outputs": [],
   "source": [
    "from sklearn.model_selection import train_test_split\n",
    "from tensorflow import keras\n",
    "from matplotlib import pyplot as plt\n",
    "\n",
    "# The seed is required for replication of results. Parameters defined.\n",
    "seed = 1111\n",
    "tolerance_value = 90\n",
    "n_epochs = 3000\n",
    "\n",
    "X_train, X_test, y_train, y_test = train_test_split(features, targets,\n",
    "                                                    random_state=seed,\n",
    "                                                    test_size=0.2)\n",
    "\n",
    "def build_model(n_hidden=4, n_neurons=400, learning_rate=1e-4, input_shape=[features.shape[1],]):\n",
    "    model = keras.Sequential()\n",
    "\n",
    "    model.add(keras.layers.InputLayer(input_shape=input_shape))\n",
    "    for layer in range(n_hidden):\n",
    "        model.add(keras.layers.Dense(n_neurons, activation=\"relu\"))\n",
    "    model.add(keras.layers.Dense(targets.shape[1]))\n",
    "\n",
    "    model.compile(loss=\"mae\", optimizer=keras.optimizers.Adam(lr=learning_rate))\n",
    "\n",
    "    return model\n",
    "\n",
    "# The wrapper is neccessary for GridSearch later in this notebook\n",
    "keras_reg = keras.wrappers.scikit_learn.KerasRegressor(build_model)\n",
    "\n",
    "# The history dictionary is useful for 'loss' plot of the model. In this case, the 'loss' is mean absolute error \n",
    "history = keras_reg.fit(X_train, y_train, epochs=n_epochs,\n",
    "              validation_data=(X_test, y_test))\n",
    "            #   callbacks=[keras.callbacks.EarlyStopping(patience=tolerance_value)])\n",
    "\n",
    "# Test on the holdout data\n",
    "mae_test = keras_reg.score(X_test, y_test)\n",
    "y_pred = keras_reg.predict(X_test)\n",
    "\n",
    "plt.figure()\n",
    "plt.plot(history.history['train_loss'])\n",
    "plt.plot(history.history['val_loss/test_loss'])\n",
    "plt.title(\"Model loss\")\n",
    "plt.ylabel(\"Loss (MAE)\")\n",
    "plt.xlabel(\"Epoch\")\n",
    "plt.legend([\"Train\", \"Test\"])\n",
    "plt.show()\n",
    "\n",
    "\n",
    "print (\"\\n The predicted values (Lattice constants)\")\n",
    "print (y_pred)\n",
    "print (\"\\n The mean absolute error (MAE)\")\n",
    "print (mae_test)"
   ]
  },
  {
   "cell_type": "markdown",
   "id": "hybrid-bunch",
   "metadata": {
    "id": "atlantic-arrow"
   },
   "source": [
    "## GridSearch\n",
    "Grid search (GS) as the name suggests requires a grid made up by the hyperparamters. The alogorithm then runs the model over the grid and finds the best set of parameters for which the model perform best, i.e. low error (MSE, MAE, huber loss, etc in case of refression). The algorithm is heavy because it is performing a brute force approach. There are some techniques like Bayesian inference methods which are very quick in findig the hyperparameters. \n",
    "\n",
    "In the GS, I will set cross-validation option which results in more accurate loss metrics. Cross-validation is a statistical method of evaluating generalization performance that is more stable and thorough than using a split into a training and a test set.\n",
    "\n",
    "The parameter grid for my models are bulleted below.\n",
    "\n",
    "1.   number of hidden layers (n_hidden)\n",
    "2.   number of neural nodes in each hidden layers (n_neurons)\n",
    "3.   learning rate for Adam optimizer\n",
    "\n",
    "Since GS is a type of brute force approach I have employed a callback function which will terminate the GS once the patience level is crossed. This way I do not have to lose the computational power once the model loss starts saturating. "
   ]
  },
  {
   "cell_type": "code",
   "execution_count": null,
   "id": "metric-realtor",
   "metadata": {
    "colab": {
     "base_uri": "https://localhost:8080/",
     "height": 1000
    },
    "id": "Y2FNniocgLzQ",
    "outputId": "46dbc949-688d-4577-c759-1fedbe6a267b"
   },
   "outputs": [],
   "source": [
    "# GridSearch for the ANN\n",
    "from sklearn.model_selection import GridSearchCV\n",
    "from sklearn.metrics import mean_absolute_error, make_scorer\n",
    "\n",
    "# param_distribs = {\n",
    "#     \"n_hidden\": [1, 2, 3, 4],\n",
    "#     \"n_neurons\": [900, 1100, 1300, 1500],\n",
    "#     \"learning_rate\": [1e-2, 1e-3],\n",
    "# }\n",
    "\n",
    "tolerance_value = 25\n",
    "\n",
    "param_distribs = {\n",
    "    \"n_hidden\": [2, 3, 4],\n",
    "#   \"n_neurons\": [5500, 5700, 5900],\n",
    "    \"n_neurons\": [350, 400, 450],\n",
    "    \"learning_rate\": [5*1e-4, 5*1e-5],\n",
    "}\n",
    "\n",
    "search_cv = GridSearchCV(estimator= keras_reg,\n",
    "                         param_grid= param_distribs, \n",
    "                         cv= 4, \n",
    "                         #scoring= make_scorer(mean_absolute_error, greater_is_better=True),\n",
    "                         scoring ='neg_mean_absolute_error',\n",
    "                         #refit=False,\n",
    "                         n_jobs= -1)\n",
    "\n",
    "\n",
    "# Best estimator is selected for further proceedings\n",
    "grid_result = search_cv.fit( X_train, y_train)\n",
    "#                   validation_data=(X_test, y_test),\n",
    "#                   callbacks=[keras.callbacks.EarlyStopping(monitor='loss', patience=tolerance_value)])\n",
    "\n",
    "\n",
    "print(\"Best: %f using %s\" % (grid_result.best_score_, grid_result.best_params_))\n",
    "means = grid_result.cv_results_['mean_test_score']\n",
    "stds = grid_result.cv_results_['std_test_score']\n",
    "params = grid_result.cv_results_['params']\n",
    "\n",
    "for mean, stdev, param in zip(means, stds, params):\n",
    "    print(\"mean: %f, std: (%f) parameters: %r\" % (mean, stdev, param))"
   ]
  },
  {
   "cell_type": "markdown",
   "id": "million-worse",
   "metadata": {},
   "source": [
    "The result from GS is in. And the quick look can be done in following bullets\n",
    "- number of hidden layers (n_hidden) = 2\n",
    "- number of neural nodes in each hidden layers (n_neurons) = 450\n",
    "- learning rate for Adam optimizer = 0.0005\n",
    "\n",
    "I will now extract the best performing model from the GS object. This model is already set up with the set of hyperparameters for which the loss was minimium. The outcome of the model is same as before and is appended to the code."
   ]
  },
  {
   "cell_type": "code",
   "execution_count": null,
   "id": "federal-algorithm",
   "metadata": {},
   "outputs": [],
   "source": [
    "best_model = grid_result.best_estimator_\n",
    "\n",
    "print (\"\\nHistory object\\n\")\n",
    "best_model_history = best_model.fit(X_train, y_train, epochs=n_epochs,\n",
    "              validation_data=(X_test, y_test),\n",
    "              callbacks=[keras.callbacks.EarlyStopping(patience=tolerance_value)])\n",
    "              \n",
    "plt.figure()\n",
    "plt.plot(best_model_history.history['loss'])\n",
    "plt.plot(best_model_history.history['val_loss'])\n",
    "plt.title(\"Model loss\")\n",
    "plt.ylabel(\"Loss (MAE)\")\n",
    "plt.xlabel(\"Epoch\")\n",
    "plt.legend([\"Train\", \"Test\"])\n",
    "plt.show()\n",
    "\n",
    "print (\"\\n Best Model's Parameters\")\n",
    "print (best_model.get_params())\n",
    "print (\"\\n The mean absolute error (MAE)\")\n",
    "print (best_model.score(X_test, y_test))\n",
    "print (\"\\n The predicted values (Lattice constants)\")\n",
    "print (best_model.predict(X_test))"
   ]
  },
  {
   "cell_type": "markdown",
   "id": "european-vulnerability",
   "metadata": {
    "id": "PyWxHUQn92zG"
   },
   "source": [
    "## Conclusion\n",
    "\n",
    "In this notebook too I deployed the ANN and found was successful in predicting the lattice constants with the mean absolute error around -0.05. The GridSearch did not perform well I would have expected it do. However, it along a few techniques like feature scaling and the commented out linear model is next task in my schedule. \n",
    "\n",
    "This notebook could not be amongst the best performer. However, especially after building an ANN I am motivated to work further on Machine Learning domain. I have all the incentives to move ahead. "
   ]
  },
  {
   "cell_type": "markdown",
   "id": "comparable-township",
   "metadata": {},
   "source": [
    "## References\n",
    "\n",
    "[1] Chonghe, Li, et al. \"Prediction of lattice constant in perovskites of GdFeO3 structure.\" Journal of Physics and Chemistry of Solids 64.11 (2003): 2147-2156.\n",
    "\n",
    "[2] Alade, Ibrahim Olanrewaju, Ismail Adewale Olumegbon, and Aliyu Bagudu. \"Lattice constant prediction of A2XY6 cubic crystals (A= K, Cs, Rb, TI; X= tetravalent cation; Y= F, Cl, Br, I) using computational intelligence approach.\" Journal of Applied Physics 127.1 (2020): 015303.\n",
    "\n",
    "[3] Jiang, L. Q., et al. \"Prediction of lattice constant in cubic perovskites.\" Journal of Physics and Chemistry of Solids 67.7 (2006): 1531-1536.\n",
    "\n",
    "[4] “Introduction to Machine Learning with Python, A Guide for Data Scientists\", by Andreas C. Müller and Sarah Guido\n",
    "\n",
    "[5] “Hands-On Machine Learning with Scikit-Learn, Keras, and TensorFlow\", by Aurélien Géron\n",
    "\n",
    "[6] \"The Hundred-Page Machine Learning Book\", by Andriy Burkov"
   ]
  },
  {
   "cell_type": "code",
   "execution_count": null,
   "id": "general-magnet",
   "metadata": {},
   "outputs": [],
   "source": []
  }
 ],
 "metadata": {
  "colab": {
   "collapsed_sections": [],
   "name": "ANN-ABO3.ipynb",
   "provenance": []
  },
  "kernelspec": {
   "display_name": "Python 3.8.8 ('base')",
   "language": "python",
   "name": "python3"
  },
  "language_info": {
   "codemirror_mode": {
    "name": "ipython",
    "version": 3
   },
   "file_extension": ".py",
   "mimetype": "text/x-python",
   "name": "python",
   "nbconvert_exporter": "python",
   "pygments_lexer": "ipython3",
   "version": "3.8.8"
  },
  "vscode": {
   "interpreter": {
    "hash": "e2bdd490934a09705ff8383ec209f981ee6c3f52d9195f76ed6e6522e520a5e6"
   }
  }
 },
 "nbformat": 4,
 "nbformat_minor": 5
}
