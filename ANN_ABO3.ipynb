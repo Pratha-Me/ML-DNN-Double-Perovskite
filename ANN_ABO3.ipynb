{
 "cells": [
  {
   "cell_type": "markdown",
   "id": "naked-record",
   "metadata": {
    "id": "iraqi-thriller"
   },
   "source": [
    "## Introduction\n",
    "This notebook aims to replicate the studies that were successful in predicting the lattice constants of the Perovskite crystal ($ABO_{3}$). The papers preoduced the results with the model's error around 2%. It's important to identify the features neccessary to perform predictions. The lattice constants of the $ABO_{3}$ -type may be correlated compounds as a general function of nine variables as below\n",
    "\n",
    "$Lattice constant = f(z_A + z_B + z_O + r_A + r_B + r_O + x_A + x_B + x_O)$\n",
    "\n",
    "where z, r and x denote the valence, the radius and the electronegativity of the ions (A, B, O), respectively. It is noted that the three variables associated with anion $O^{2-}$ , namely $z_{O}, r_{O},$ and $x_{O}$ can be ignored as they remain unchanged for all of the samples.\n",
    "\n",
    "The lattice constant can be reduced as a ﬁve-parameter function shown below.\n",
    "\n",
    "$Lattice constant = f(z_A + r_A + r_B + x_A + x_B)$\n",
    "\n",
    "The Goldschmidt’s tolerance factor (t) can condense the coation atomic radii into one expression. It has been widely accepted as a criterion for the formation of the perovskite structure, up to now. I will use $\\textbf{four features}$ including the tolerance factor and others are denoted by, $r_{A}, r_{B}$ and $\\frac{r_{A}}{t}$. The list of feature does not include electronegativity and valence number. Basically, other sets of features that includes these two atomic configurations can be used to predict the lattice constant with great accuracy. However, I will only take the atomic radii of the two cations in to my account. The tolerance factor (t) is expressed as below.\n",
    "\n",
    "$t = \\frac{r_A + r_O}{\\sqrt{2}(r_B + r_O)}$\n",
    "\n",
    "## Procedure\n",
    "First I will perform feature engineering. Next I will build the ANN (Hereafter called as ANN) model and also perform a GridSearch (GS). GS fine tunes the hyperparameters of the ANN. Finally I will perform the predictions from the model. The model will be prepared with the fine tuned hyperparameters. The GridSearch in the sklearn package convineintly provides the best model which can be used to fit and predict.\n",
    "\n",
    "## Feature engineering\n",
    "In the following section, the \".csv\" file is loaded into the program. The data is inspected for assurity. I observed the '.csv' provides the atomic radii for two atoms A and B in the crystal ($r_{A}$ and $r_{b}$), and the tolerance factor is absent. So the tolerance factor and $\\frac{r_{A}}{t}$ needs to be calculated. I have concanated them as columns in the following code."
   ]
  },
  {
   "cell_type": "code",
   "execution_count": 1,
   "id": "bigger-plastic",
   "metadata": {
    "colab": {
     "base_uri": "https://localhost:8080/"
    },
    "id": "actual-cemetery",
    "outputId": "6dbe1700-fcb6-4d60-b8f7-e8a6b217be5e"
   },
   "outputs": [
    {
     "name": "stdout",
     "output_type": "stream",
     "text": [
      "The first five smaples from the DataFrame\n",
      "\n",
      "           atomic_ra  atomic_rb  atomic_rc  covl_ra  covl_rb  covl_rc  van_ra  \\\n",
      "compound                                                                        \n",
      "Sr2YTaO6         2.0       1.80       1.45     1.92     1.62     1.38    2.55   \n",
      "Sr2YReO6         2.0       1.80       1.35     1.92     1.62     1.59    2.55   \n",
      "Sr2YIrO6         2.0       1.80       1.35     1.92     1.62     1.37    2.55   \n",
      "Sr2CdWO6         2.0       1.55       1.35     1.92     1.48     1.46    2.55   \n",
      "Sr2ScNbO6        2.0       1.60       1.45     1.92     1.44     1.37    2.55   \n",
      "\n",
      "           van_rb  van_rc  ionic_ra  ...  oxidation_b  oxidation_c      a  \\\n",
      "compound                             ...                                    \n",
      "Sr2YTaO6      2.4    2.20      1.12  ...            3            5  5.927   \n",
      "Sr2YReO6      2.4    2.05      1.12  ...            3            5  5.909   \n",
      "Sr2YIrO6      2.4    0.00      1.12  ...            3            5  5.880   \n",
      "Sr2CdWO6      2.2    2.10      1.12  ...            2            6  5.959   \n",
      "Sr2ScNbO6     2.3    2.15      1.12  ...            3            5  5.765   \n",
      "\n",
      "               b       c    alpha     beta  gamma  BandGap  formationE  \n",
      "compound                                                                \n",
      "Sr2YTaO6   5.927   5.927  120.777  120.777  88.66    3.826      -3.585  \n",
      "Sr2YReO6   5.909   5.909   60.000   60.000  60.00    0.000      -2.997  \n",
      "Sr2YIrO6   5.885  10.084   55.101   90.000  90.00    0.000      -2.780  \n",
      "Sr2CdWO6   5.808  10.098   54.844   90.000  90.00   54.844      -2.625  \n",
      "Sr2ScNbO6  5.767   9.981   54.630   90.000  90.00    2.940      -3.510  \n",
      "\n",
      "[5 rows x 35 columns]\n"
     ]
    }
   ],
   "source": [
    "import pandas as pd\n",
    "import numpy as np\n",
    "import warnings\n",
    "warnings.filterwarnings('ignore')\n",
    "warnings.simplefilter('ignore')\n",
    "\n",
    "\n",
    "# data structure\n",
    "columns = ['compound',\n",
    "    'atomic_ra', 'atomic_rb', 'atomic_rc',  # Atomic radius\n",
    "    'covl_ra', 'covl_rb', 'covl_rc',  # Covalant radius\n",
    "    'van_ra', 'van_rb', 'van_rc',  # Van der Wall radius\n",
    "    'ionic_ra', 'ionic_rb', 'ionic_rc',  # Ionic radius\n",
    "    'atomic_mass_a', 'atomic_mass_b', 'atomic_mass_c',  # Atomic mass\n",
    "    'eNeg_a', 'eNeg_b', 'eNeg_c',  # Electronegativity\n",
    "    'eAffin_a', 'eAffin_b', 'eAffin_c',  # Electron affinity\n",
    "    'firstIoniz_a', 'firstIoniz_b', 'firstIoniz_c',  # First ionization potential\n",
    "    'oxidation_a', 'oxidation_b', 'oxidation_c',  # Oxydation state\n",
    "    'a', 'b', 'c', 'alpha', 'beta', 'gamma',  # Lattice parameters\n",
    "    'BandGap',  # Band gap (some are metal too!)\n",
    "    'formationE',  # Formation enerrgy per atom\n",
    "]\n",
    "\n",
    "lat_df = pd.read_csv('dataFile_new.csv', header=0,\n",
    "                     index_col=0, usecols=columns)\n",
    "print(\"The first five smaples from the DataFrame\\n\")\n",
    "print(lat_df.head())\n"
   ]
  },
  {
   "cell_type": "code",
   "execution_count": 2,
   "id": "broken-walnut",
   "metadata": {
    "colab": {
     "base_uri": "https://localhost:8080/"
    },
    "id": "editorial-provider",
    "outputId": "759b4126-9bf4-4762-c1a1-dc53a770cdd0"
   },
   "outputs": [
    {
     "name": "stdout",
     "output_type": "stream",
     "text": [
      "\n",
      "The first five observations of the features\n",
      "[[2.0000000e+00 1.8000000e+00 1.4500000e+00 1.9200000e+00 1.6200000e+00\n",
      "  1.3800000e+00 2.5500000e+00 2.4000001e+00 2.2000000e+00 1.1200000e+00\n",
      "  8.9999998e-01 6.3999999e-01 8.7620003e+01 8.8905853e+01 1.8094788e+02\n",
      "  9.4999999e-01 1.2200000e+00 1.5000000e+00 5.0200000e+00 3.0000000e+01\n",
      "  3.1000000e+01 5.4950000e+02 6.0000000e+02 7.6100000e+02 2.0000000e+00\n",
      "  3.0000000e+00 5.0000000e+00]\n",
      " [2.0000000e+00 1.8000000e+00 1.3500000e+00 1.9200000e+00 1.6200000e+00\n",
      "  1.5900000e+00 2.5500000e+00 2.4000001e+00 2.0500000e+00 1.1200000e+00\n",
      "  8.9999998e-01 5.7999998e-01 8.7620003e+01 8.8905853e+01 1.8620700e+02\n",
      "  9.4999999e-01 1.2200000e+00 1.9000000e+00 5.0200000e+00 3.0000000e+01\n",
      "  0.0000000e+00 5.4950000e+02 6.0000000e+02 7.6000000e+02 2.0000000e+00\n",
      "  3.0000000e+00 5.0000000e+00]\n",
      " [2.0000000e+00 1.8000000e+00 1.3500000e+00 1.9200000e+00 1.6200000e+00\n",
      "  1.3700000e+00 2.5500000e+00 2.4000001e+00 0.0000000e+00 1.1200000e+00\n",
      "  8.9999998e-01 5.6999999e-01 8.7620003e+01 8.8905853e+01 1.9221700e+02\n",
      "  9.4999999e-01 1.2200000e+00 2.2000000e+00 5.0200000e+00 3.0000000e+01\n",
      "  1.5089999e+02 5.4950000e+02 6.0000000e+02 8.8000000e+02 2.0000000e+00\n",
      "  3.0000000e+00 5.0000000e+00]\n",
      " [2.0000000e+00 1.5500000e+00 1.3500000e+00 1.9200000e+00 1.4800000e+00\n",
      "  1.4600000e+00 2.5500000e+00 2.2000000e+00 2.0999999e+00 1.1200000e+00\n",
      "  9.7000003e-01 6.6000003e-01 8.7620003e+01 1.1241100e+02 1.8384000e+02\n",
      "  9.4999999e-01 1.6900001e+00 2.3599999e+00 5.0200000e+00 0.0000000e+00\n",
      "  7.9000000e+01 5.4950000e+02 8.6779999e+02 7.7000000e+02 2.0000000e+00\n",
      "  2.0000000e+00 6.0000000e+00]\n",
      " [2.0000000e+00 1.6000000e+00 1.4500000e+00 1.9200000e+00 1.4400001e+00\n",
      "  1.3700000e+00 2.5500000e+00 2.3000000e+00 2.1500001e+00 1.1200000e+00\n",
      "  7.2299999e-01 6.3999999e-01 8.7620003e+01 4.4955914e+01 9.2906380e+01\n",
      "  9.4999999e-01 1.3600000e+00 1.6000000e+00 5.0200000e+00 1.8000000e+01\n",
      "  8.6000000e+01 5.4950000e+02 6.3309998e+02 6.5209998e+02 2.0000000e+00\n",
      "  3.0000000e+00 5.0000000e+00]]\n",
      "\n",
      "The first five observations of the targets\n",
      "[[ 5.927  5.927  5.927]\n",
      " [ 5.909  5.909  5.909]\n",
      " [ 5.88   5.885 10.084]\n",
      " [ 5.959  5.808 10.098]\n",
      " [ 5.765  5.767  9.981]]\n"
     ]
    }
   ],
   "source": [
    "\n",
    "features = np.array(lat_df.loc[:, 'atomic_ra':'oxidation_c'], np.float32)\n",
    "targets = np.array(lat_df.loc[:, 'a':'c'], np.float32)\n",
    "# features = np.array(lat_df[['ra', 'rb', 'tolerance', 'rat']], np.float32)\n",
    "# targets = np.array(lat_df[['a', 'b', 'c']], np.float32)\n",
    "\n",
    "print (\"\\nThe first five observations of the features\")\n",
    "print (features[:5,:])\n",
    "print (\"\\nThe first five observations of the targets\")\n",
    "print (targets[:5,:])"
   ]
  },
  {
   "cell_type": "markdown",
   "id": "4a68466c",
   "metadata": {},
   "source": [
    "### Feature Scaling"
   ]
  },
  {
   "cell_type": "code",
   "execution_count": 3,
   "id": "1f6aca96",
   "metadata": {},
   "outputs": [
    {
     "name": "stdout",
     "output_type": "stream",
     "text": [
      "[[0.5714283  0.74999976 0.7500005  ... 0.         0.5        0.6       ]\n",
      " [0.5714283  0.74999976 0.25000048 ... 0.         0.5        0.6       ]\n",
      " [0.5714283  0.74999976 0.25000048 ... 0.         0.5        0.6       ]\n",
      " ...\n",
      " [0.         0.08333325 0.25000048 ... 0.         0.5        0.6       ]\n",
      " [0.         0.08333325 0.25000048 ... 0.         0.5        0.6       ]\n",
      " [0.         0.16666675 0.5        ... 0.         1.         0.20000002]]\n"
     ]
    }
   ],
   "source": [
    "from sklearn.preprocessing import MinMaxScaler\n",
    "scaler = MinMaxScaler()\n",
    "\n",
    "scaler.fit(features)\n",
    "features = scaler.transform(features)\n",
    "print(features)"
   ]
  },
  {
   "cell_type": "markdown",
   "id": "5121a36f",
   "metadata": {},
   "source": [
    "### Dimensionality Reduction (PCA)"
   ]
  },
  {
   "cell_type": "code",
   "execution_count": 4,
   "id": "84bad854",
   "metadata": {},
   "outputs": [
    {
     "name": "stdout",
     "output_type": "stream",
     "text": [
      "[5.3424281e-01 1.1627321e-01 8.8478610e-02 7.0172362e-02 3.8426850e-02\n",
      " 3.3469580e-02 2.2367621e-02 2.0881090e-02 1.7493797e-02 1.5799327e-02\n",
      " 1.1397921e-02 8.6626699e-03 6.0382718e-03 4.5424583e-03 3.0979749e-03\n",
      " 2.2248211e-03 1.6572273e-03 1.5974449e-03 1.2417339e-03 9.5608254e-04\n",
      " 8.3970092e-04 1.3842707e-04 1.8529401e-15 1.6522469e-15 1.6522469e-15\n",
      " 1.6522469e-15 1.6522469e-15]\n"
     ]
    },
    {
     "data": {
      "image/png": "[encoded data removed]",
      "text/plain": [
       "<Figure size 432x288 with 1 Axes>"
      ]
     },
     "metadata": {
      "needs_background": "light"
     },
     "output_type": "display_data"
    }
   ],
   "source": [
    "from sklearn.decomposition import PCA\n",
    "from matplotlib import pyplot as plt\n",
    "\n",
    "pca = PCA(features.shape[1])\n",
    "pca.fit(features)\n",
    "\n",
    "print (pca.explained_variance_ratio_)\n",
    "\n",
    "cumulative_sum = np.cumsum(pca.explained_variance_ratio_)\n",
    "\n",
    "plt.figure()\n",
    "plt.plot(cumulative_sum)\n",
    "plt.title(\"Elbow Plot for PCA\")\n",
    "plt.ylabel(\"Explained Variance\")\n",
    "plt.xlabel(\"Dimensions/Features\")\n",
    "plt.show()"
   ]
  },
  {
   "cell_type": "code",
   "execution_count": 5,
   "id": "15e06287",
   "metadata": {},
   "outputs": [
    {
     "name": "stdout",
     "output_type": "stream",
     "text": [
      "0.9690032\n"
     ]
    }
   ],
   "source": [
    "pca = PCA(n_components=11)\n",
    "reduced_features = pca.fit_transform(features)\n",
    "\n",
    "print (np.cumsum(pca.explained_variance_ratio_)[-1])"
   ]
  },
  {
   "cell_type": "markdown",
   "id": "established-maintenance",
   "metadata": {},
   "source": [
    "## Machine Learning Model\n",
    "\n",
    "The prediction of lattice constants for $ABO_{3}$ from the atomic configurations like radii and tolerance has enigmatic mechanism. A linear regression model can not be conceived to solve multiple target variables. It can be deployed only in the case of single target variable. Here, the artificial neural network comes to the rescue. ANNs performance is remarkable for regression model. ANN works for any kind of numerical system.\n",
    "\n",
    "For the ANN, I will choose the loss function as the mean absolute error. \"MAE\" does not penalise the outliers in predictions compared to mean square error and huber loss function. I will choose Adam optimizer over Stochastic gradient descent (SGD). Besides Adam optimizer the other hyperparameters are number of neural nodes, number of hidden layers, learning rate (Adam optimizer), activation functions and so on. The ANN has lots of hyperparameters to be tuned before I set out to predict the target variables. So a GS will be neccessary to narrow down the optimal set of hyperparameters.\n",
    "\n",
    "A quick run down to my model's parameter is below.\n",
    "1. Number of epochs = 350\n",
    "2. Train and test data split ratio = 80:20\n",
    "3. Number of hidden layers = 2\n",
    "4. Number of neurons in each hidden layer = 400\n",
    "\n",
    "Once the model finishes its job, the loss (mean absolute error) and the graph for train and test loss against number of epochs is shown. Next, I will perform the GridSearch."
   ]
  },
  {
   "cell_type": "code",
   "execution_count": 24,
   "id": "hispanic-location",
   "metadata": {
    "colab": {
     "base_uri": "https://localhost:8080/",
     "height": 1000
    },
    "id": "weird-offense",
    "outputId": "21326357-b249-4129-816b-cfd4692d28d4"
   },
   "outputs": [
    {
     "name": "stdout",
     "output_type": "stream",
     "text": [
      "Epoch 1/600\n",
      "3/3 [==============================] - 0s 53ms/step - loss: 6.2868 - val_loss: 3.7889\n",
      "Epoch 2/600\n",
      "3/3 [==============================] - 0s 12ms/step - loss: 3.8683 - val_loss: 1.5797\n",
      "Epoch 3/600\n",
      "3/3 [==============================] - 0s 12ms/step - loss: 2.1123 - val_loss: 1.1926\n",
      "Epoch 4/600\n",
      "3/3 [==============================] - 0s 13ms/step - loss: 1.8688 - val_loss: 1.3670\n",
      "Epoch 5/600\n",
      "3/3 [==============================] - 0s 24ms/step - loss: 1.8320 - val_loss: 1.2545\n",
      "Epoch 6/600\n",
      "3/3 [==============================] - 0s 16ms/step - loss: 1.6932 - val_loss: 1.2003\n",
      "Epoch 7/600\n",
      "3/3 [==============================] - 0s 14ms/step - loss: 1.6811 - val_loss: 1.1765\n",
      "Epoch 8/600\n",
      "3/3 [==============================] - 0s 27ms/step - loss: 1.6591 - val_loss: 1.1512\n",
      "Epoch 9/600\n",
      "3/3 [==============================] - 0s 13ms/step - loss: 1.6334 - val_loss: 1.1033\n",
      "Epoch 10/600\n",
      "3/3 [==============================] - 0s 12ms/step - loss: 1.5951 - val_loss: 1.0554\n",
      "Epoch 11/600\n",
      "3/3 [==============================] - 0s 12ms/step - loss: 1.5619 - val_loss: 1.0020\n",
      "Epoch 12/600\n",
      "3/3 [==============================] - 0s 14ms/step - loss: 1.5384 - val_loss: 0.9424\n",
      "Epoch 13/600\n",
      "3/3 [==============================] - 0s 15ms/step - loss: 1.4954 - val_loss: 0.8931\n",
      "Epoch 14/600\n",
      "3/3 [==============================] - 0s 13ms/step - loss: 1.4740 - val_loss: 0.8549\n",
      "Epoch 15/600\n",
      "3/3 [==============================] - 0s 16ms/step - loss: 1.4803 - val_loss: 0.8273\n",
      "Epoch 16/600\n",
      "3/3 [==============================] - 0s 13ms/step - loss: 1.4740 - val_loss: 0.8302\n",
      "Epoch 17/600\n",
      "3/3 [==============================] - 0s 20ms/step - loss: 1.4808 - val_loss: 0.8144\n",
      "Epoch 18/600\n",
      "3/3 [==============================] - 0s 15ms/step - loss: 1.4788 - val_loss: 0.8142\n",
      "Epoch 19/600\n",
      "3/3 [==============================] - 0s 12ms/step - loss: 1.4799 - val_loss: 0.8064\n",
      "Epoch 20/600\n",
      "3/3 [==============================] - 0s 24ms/step - loss: 1.4765 - val_loss: 0.8157\n",
      "Epoch 21/600\n",
      "3/3 [==============================] - 0s 17ms/step - loss: 1.4753 - val_loss: 0.8177\n",
      "Epoch 22/600\n",
      "3/3 [==============================] - 0s 13ms/step - loss: 1.4706 - val_loss: 0.8314\n",
      "Epoch 23/600\n",
      "3/3 [==============================] - 0s 12ms/step - loss: 1.4718 - val_loss: 0.8378\n",
      "Epoch 24/600\n",
      "3/3 [==============================] - 0s 12ms/step - loss: 1.4627 - val_loss: 0.8425\n",
      "Epoch 25/600\n",
      "3/3 [==============================] - 0s 12ms/step - loss: 1.4599 - val_loss: 0.8518\n",
      "Epoch 26/600\n",
      "3/3 [==============================] - 0s 12ms/step - loss: 1.4634 - val_loss: 0.8523\n",
      "Epoch 27/600\n",
      "3/3 [==============================] - 0s 12ms/step - loss: 1.4619 - val_loss: 0.8491\n",
      "Epoch 28/600\n",
      "3/3 [==============================] - 0s 13ms/step - loss: 1.4637 - val_loss: 0.8468\n",
      "Epoch 29/600\n",
      "3/3 [==============================] - 0s 12ms/step - loss: 1.4604 - val_loss: 0.8481\n",
      "Epoch 30/600\n",
      "3/3 [==============================] - 0s 13ms/step - loss: 1.4619 - val_loss: 0.8479\n",
      "Epoch 31/600\n",
      "3/3 [==============================] - 0s 13ms/step - loss: 1.4619 - val_loss: 0.8558\n",
      "Epoch 32/600\n",
      "3/3 [==============================] - 0s 13ms/step - loss: 1.4647 - val_loss: 0.8550\n",
      "Epoch 33/600\n",
      "3/3 [==============================] - 0s 14ms/step - loss: 1.4671 - val_loss: 0.8638\n",
      "Epoch 34/600\n",
      "3/3 [==============================] - 0s 13ms/step - loss: 1.4630 - val_loss: 0.8559\n",
      "Epoch 35/600\n",
      "3/3 [==============================] - 0s 12ms/step - loss: 1.4682 - val_loss: 0.8458\n",
      "Epoch 36/600\n",
      "3/3 [==============================] - 0s 13ms/step - loss: 1.4668 - val_loss: 0.8622\n",
      "Epoch 37/600\n",
      "3/3 [==============================] - 0s 12ms/step - loss: 1.4702 - val_loss: 0.8476\n",
      "Epoch 38/600\n",
      "3/3 [==============================] - 0s 12ms/step - loss: 1.4638 - val_loss: 0.8426\n",
      "Epoch 39/600\n",
      "3/3 [==============================] - 0s 13ms/step - loss: 1.4612 - val_loss: 0.8585\n",
      "Epoch 40/600\n",
      "3/3 [==============================] - 0s 12ms/step - loss: 1.4656 - val_loss: 0.8536\n",
      "Epoch 41/600\n",
      "3/3 [==============================] - 0s 12ms/step - loss: 1.4712 - val_loss: 0.8474\n",
      "Epoch 42/600\n",
      "3/3 [==============================] - 0s 13ms/step - loss: 1.4621 - val_loss: 0.8651\n",
      "Epoch 43/600\n",
      "3/3 [==============================] - 0s 15ms/step - loss: 1.4669 - val_loss: 0.8430\n",
      "Epoch 44/600\n",
      "3/3 [==============================] - 0s 15ms/step - loss: 1.4687 - val_loss: 0.8553\n",
      "Epoch 45/600\n",
      "3/3 [==============================] - 0s 15ms/step - loss: 1.4655 - val_loss: 0.8618\n",
      "Epoch 46/600\n",
      "3/3 [==============================] - 0s 14ms/step - loss: 1.4671 - val_loss: 0.8426\n",
      "Epoch 47/600\n",
      "3/3 [==============================] - 0s 18ms/step - loss: 1.4653 - val_loss: 0.8514\n",
      "Epoch 48/600\n",
      "3/3 [==============================] - 0s 12ms/step - loss: 1.4611 - val_loss: 0.8503\n",
      "Epoch 49/600\n",
      "3/3 [==============================] - 0s 13ms/step - loss: 1.4631 - val_loss: 0.8472\n",
      "Epoch 50/600\n",
      "3/3 [==============================] - 0s 12ms/step - loss: 1.4588 - val_loss: 0.8572\n",
      "Epoch 51/600\n",
      "3/3 [==============================] - 0s 11ms/step - loss: 1.4626 - val_loss: 0.8608\n",
      "Epoch 52/600\n",
      "3/3 [==============================] - 0s 12ms/step - loss: 1.4632 - val_loss: 0.8508\n",
      "Epoch 53/600\n",
      "3/3 [==============================] - 0s 13ms/step - loss: 1.4605 - val_loss: 0.8520\n",
      "Epoch 54/600\n",
      "3/3 [==============================] - 0s 12ms/step - loss: 1.4586 - val_loss: 0.8548\n",
      "Epoch 55/600\n",
      "3/3 [==============================] - 0s 13ms/step - loss: 1.4586 - val_loss: 0.8485\n",
      "Epoch 56/600\n",
      "3/3 [==============================] - 0s 13ms/step - loss: 1.4620 - val_loss: 0.8460\n",
      "Epoch 57/600\n",
      "3/3 [==============================] - 0s 13ms/step - loss: 1.4553 - val_loss: 0.8591\n",
      "Epoch 58/600\n",
      "3/3 [==============================] - 0s 14ms/step - loss: 1.4642 - val_loss: 0.8496\n",
      "Epoch 59/600\n",
      "3/3 [==============================] - 0s 13ms/step - loss: 1.4599 - val_loss: 0.8531\n",
      "Epoch 60/600\n",
      "3/3 [==============================] - 0s 12ms/step - loss: 1.4584 - val_loss: 0.8419\n",
      "Epoch 61/600\n",
      "3/3 [==============================] - 0s 13ms/step - loss: 1.4578 - val_loss: 0.8424\n",
      "Epoch 62/600\n",
      "3/3 [==============================] - 0s 14ms/step - loss: 1.4578 - val_loss: 0.8364\n",
      "Epoch 63/600\n",
      "3/3 [==============================] - 0s 14ms/step - loss: 1.4577 - val_loss: 0.8407\n",
      "Epoch 64/600\n",
      "3/3 [==============================] - 0s 13ms/step - loss: 1.4576 - val_loss: 0.8389\n",
      "Epoch 65/600\n",
      "3/3 [==============================] - 0s 13ms/step - loss: 1.4577 - val_loss: 0.8389\n",
      "Epoch 66/600\n",
      "3/3 [==============================] - 0s 12ms/step - loss: 1.4562 - val_loss: 0.8469\n",
      "Epoch 67/600\n",
      "3/3 [==============================] - 0s 12ms/step - loss: 1.4559 - val_loss: 0.8597\n",
      "Epoch 68/600\n",
      "3/3 [==============================] - 0s 32ms/step - loss: 1.4548 - val_loss: 0.8641\n",
      "Epoch 69/600\n",
      "3/3 [==============================] - 0s 16ms/step - loss: 1.4642 - val_loss: 0.8369\n",
      "Epoch 70/600\n",
      "3/3 [==============================] - 0s 12ms/step - loss: 1.4549 - val_loss: 0.8344\n",
      "Epoch 71/600\n",
      "3/3 [==============================] - 0s 11ms/step - loss: 1.4526 - val_loss: 0.8387\n",
      "Epoch 72/600\n",
      "3/3 [==============================] - 0s 12ms/step - loss: 1.4547 - val_loss: 0.8496\n",
      "Epoch 73/600\n",
      "3/3 [==============================] - 0s 11ms/step - loss: 1.4623 - val_loss: 0.8368\n",
      "Epoch 74/600\n",
      "3/3 [==============================] - 0s 11ms/step - loss: 1.4468 - val_loss: 0.8528\n",
      "Epoch 75/600\n",
      "3/3 [==============================] - 0s 12ms/step - loss: 1.4526 - val_loss: 0.8587\n",
      "Epoch 76/600\n",
      "3/3 [==============================] - 0s 12ms/step - loss: 1.4566 - val_loss: 0.8457\n",
      "Epoch 77/600\n",
      "3/3 [==============================] - 0s 12ms/step - loss: 1.4538 - val_loss: 0.8385\n",
      "Epoch 78/600\n",
      "3/3 [==============================] - 0s 11ms/step - loss: 1.4561 - val_loss: 0.8243\n",
      "Epoch 79/600\n",
      "3/3 [==============================] - 0s 11ms/step - loss: 1.4491 - val_loss: 0.8249\n",
      "Epoch 80/600\n",
      "3/3 [==============================] - 0s 11ms/step - loss: 1.4557 - val_loss: 0.8291\n",
      "Epoch 81/600\n",
      "3/3 [==============================] - 0s 11ms/step - loss: 1.4480 - val_loss: 0.8374\n",
      "Epoch 82/600\n",
      "3/3 [==============================] - 0s 11ms/step - loss: 1.4472 - val_loss: 0.8452\n",
      "Epoch 83/600\n",
      "3/3 [==============================] - 0s 11ms/step - loss: 1.4482 - val_loss: 0.8544\n",
      "Epoch 84/600\n",
      "3/3 [==============================] - 0s 12ms/step - loss: 1.4612 - val_loss: 0.8653\n",
      "Epoch 85/600\n",
      "3/3 [==============================] - 0s 12ms/step - loss: 1.4547 - val_loss: 0.8509\n",
      "Epoch 86/600\n",
      "3/3 [==============================] - 0s 23ms/step - loss: 1.4478 - val_loss: 0.8544\n",
      "Epoch 87/600\n",
      "3/3 [==============================] - 0s 17ms/step - loss: 1.4607 - val_loss: 0.8224\n",
      "Epoch 88/600\n",
      "3/3 [==============================] - 0s 13ms/step - loss: 1.4430 - val_loss: 0.8216\n",
      "Epoch 89/600\n",
      "3/3 [==============================] - 0s 15ms/step - loss: 1.4419 - val_loss: 0.8273\n",
      "Epoch 90/600\n",
      "3/3 [==============================] - 0s 12ms/step - loss: 1.4442 - val_loss: 0.8415\n",
      "Epoch 91/600\n",
      "3/3 [==============================] - 0s 13ms/step - loss: 1.4456 - val_loss: 0.8295\n",
      "Epoch 92/600\n",
      "3/3 [==============================] - 0s 12ms/step - loss: 1.4441 - val_loss: 0.8465\n",
      "Epoch 93/600\n",
      "3/3 [==============================] - 0s 13ms/step - loss: 1.4537 - val_loss: 0.8277\n",
      "Epoch 94/600\n",
      "3/3 [==============================] - 0s 13ms/step - loss: 1.4411 - val_loss: 0.8408\n",
      "Epoch 95/600\n",
      "3/3 [==============================] - 0s 14ms/step - loss: 1.4657 - val_loss: 0.8246\n",
      "Epoch 96/600\n",
      "3/3 [==============================] - 0s 15ms/step - loss: 1.4645 - val_loss: 0.8306\n",
      "Epoch 97/600\n",
      "3/3 [==============================] - 0s 14ms/step - loss: 1.4546 - val_loss: 0.8378\n",
      "Epoch 98/600\n",
      "3/3 [==============================] - 0s 12ms/step - loss: 1.4384 - val_loss: 0.8238\n",
      "Epoch 99/600\n",
      "3/3 [==============================] - 0s 11ms/step - loss: 1.4470 - val_loss: 0.8394\n",
      "Epoch 100/600\n",
      "3/3 [==============================] - 0s 14ms/step - loss: 1.4438 - val_loss: 0.8276\n",
      "Epoch 101/600\n",
      "3/3 [==============================] - 0s 15ms/step - loss: 1.4535 - val_loss: 0.8440\n",
      "Epoch 102/600\n",
      "3/3 [==============================] - 0s 13ms/step - loss: 1.4460 - val_loss: 0.8378\n",
      "Epoch 103/600\n",
      "3/3 [==============================] - 0s 12ms/step - loss: 1.4538 - val_loss: 0.8479\n",
      "Epoch 104/600\n",
      "3/3 [==============================] - 0s 13ms/step - loss: 1.4523 - val_loss: 0.8277\n",
      "Epoch 105/600\n",
      "3/3 [==============================] - 0s 14ms/step - loss: 1.4404 - val_loss: 0.8166\n",
      "Epoch 106/600\n",
      "3/3 [==============================] - 0s 14ms/step - loss: 1.4386 - val_loss: 0.8243\n",
      "Epoch 107/600\n",
      "3/3 [==============================] - 0s 12ms/step - loss: 1.4372 - val_loss: 0.8128\n",
      "Epoch 108/600\n",
      "3/3 [==============================] - 0s 11ms/step - loss: 1.4351 - val_loss: 0.8180\n",
      "Epoch 109/600\n",
      "3/3 [==============================] - 0s 12ms/step - loss: 1.4324 - val_loss: 0.8041\n",
      "Epoch 110/600\n",
      "3/3 [==============================] - 0s 11ms/step - loss: 1.4409 - val_loss: 0.8064\n",
      "Epoch 111/600\n",
      "3/3 [==============================] - 0s 12ms/step - loss: 1.4318 - val_loss: 0.8098\n",
      "Epoch 112/600\n",
      "3/3 [==============================] - 0s 11ms/step - loss: 1.4340 - val_loss: 0.8417\n",
      "Epoch 113/600\n",
      "3/3 [==============================] - 0s 11ms/step - loss: 1.4435 - val_loss: 0.8234\n",
      "Epoch 114/600\n",
      "3/3 [==============================] - 0s 11ms/step - loss: 1.4390 - val_loss: 0.8274\n",
      "Epoch 115/600\n",
      "3/3 [==============================] - 0s 11ms/step - loss: 1.4407 - val_loss: 0.8109\n",
      "Epoch 116/600\n",
      "3/3 [==============================] - 0s 11ms/step - loss: 1.4322 - val_loss: 0.8109\n",
      "Epoch 117/600\n",
      "3/3 [==============================] - 0s 11ms/step - loss: 1.4353 - val_loss: 0.8028\n",
      "Epoch 118/600\n",
      "3/3 [==============================] - 0s 11ms/step - loss: 1.4380 - val_loss: 0.8194\n",
      "Epoch 119/600\n",
      "3/3 [==============================] - 0s 12ms/step - loss: 1.4360 - val_loss: 0.7985\n",
      "Epoch 120/600\n",
      "3/3 [==============================] - 0s 11ms/step - loss: 1.4358 - val_loss: 0.8042\n",
      "Epoch 121/600\n",
      "3/3 [==============================] - 0s 12ms/step - loss: 1.4380 - val_loss: 0.8032\n",
      "Epoch 122/600\n",
      "3/3 [==============================] - 0s 11ms/step - loss: 1.4380 - val_loss: 0.8024\n",
      "Epoch 123/600\n",
      "3/3 [==============================] - 0s 12ms/step - loss: 1.4382 - val_loss: 0.7872\n",
      "Epoch 124/600\n",
      "3/3 [==============================] - 0s 12ms/step - loss: 1.4353 - val_loss: 0.7974\n",
      "Epoch 125/600\n",
      "3/3 [==============================] - 0s 24ms/step - loss: 1.4295 - val_loss: 0.7860\n",
      "Epoch 126/600\n",
      "3/3 [==============================] - 0s 15ms/step - loss: 1.4271 - val_loss: 0.7856\n",
      "Epoch 127/600\n",
      "3/3 [==============================] - 0s 13ms/step - loss: 1.4235 - val_loss: 0.7881\n",
      "Epoch 128/600\n",
      "3/3 [==============================] - 0s 14ms/step - loss: 1.4236 - val_loss: 0.7900\n",
      "Epoch 129/600\n",
      "3/3 [==============================] - 0s 13ms/step - loss: 1.4233 - val_loss: 0.7747\n",
      "Epoch 130/600\n",
      "3/3 [==============================] - 0s 11ms/step - loss: 1.4222 - val_loss: 0.8018\n",
      "Epoch 131/600\n",
      "3/3 [==============================] - 0s 13ms/step - loss: 1.4539 - val_loss: 0.7873\n",
      "Epoch 132/600\n",
      "3/3 [==============================] - 0s 12ms/step - loss: 1.4524 - val_loss: 0.7665\n",
      "Epoch 133/600\n",
      "3/3 [==============================] - 0s 12ms/step - loss: 1.4476 - val_loss: 0.8160\n",
      "Epoch 134/600\n",
      "3/3 [==============================] - 0s 12ms/step - loss: 1.4386 - val_loss: 0.7858\n",
      "Epoch 135/600\n",
      "3/3 [==============================] - 0s 12ms/step - loss: 1.4328 - val_loss: 0.7981\n",
      "Epoch 136/600\n",
      "3/3 [==============================] - 0s 12ms/step - loss: 1.4456 - val_loss: 0.7795\n",
      "Epoch 137/600\n",
      "3/3 [==============================] - 0s 12ms/step - loss: 1.4223 - val_loss: 0.7612\n",
      "Epoch 138/600\n",
      "3/3 [==============================] - 0s 11ms/step - loss: 1.4140 - val_loss: 0.7668\n",
      "Epoch 139/600\n",
      "3/3 [==============================] - 0s 11ms/step - loss: 1.4166 - val_loss: 0.7235\n",
      "Epoch 140/600\n",
      "3/3 [==============================] - 0s 11ms/step - loss: 1.4129 - val_loss: 0.7088\n",
      "Epoch 141/600\n",
      "3/3 [==============================] - 0s 11ms/step - loss: 1.4044 - val_loss: 0.6923\n",
      "Epoch 142/600\n",
      "3/3 [==============================] - 0s 12ms/step - loss: 1.3992 - val_loss: 0.7033\n",
      "Epoch 143/600\n",
      "3/3 [==============================] - 0s 12ms/step - loss: 1.3923 - val_loss: 0.6907\n",
      "Epoch 144/600\n",
      "3/3 [==============================] - 0s 16ms/step - loss: 1.3856 - val_loss: 0.7028\n",
      "Epoch 145/600\n",
      "3/3 [==============================] - 0s 16ms/step - loss: 1.3894 - val_loss: 0.6775\n",
      "Epoch 146/600\n",
      "3/3 [==============================] - 0s 14ms/step - loss: 1.3995 - val_loss: 0.6959\n",
      "Epoch 147/600\n",
      "3/3 [==============================] - 0s 12ms/step - loss: 1.3841 - val_loss: 0.6906\n",
      "Epoch 148/600\n",
      "3/3 [==============================] - 0s 11ms/step - loss: 1.3826 - val_loss: 0.6793\n",
      "Epoch 149/600\n",
      "3/3 [==============================] - 0s 11ms/step - loss: 1.3741 - val_loss: 0.6625\n",
      "Epoch 150/600\n",
      "3/3 [==============================] - 0s 11ms/step - loss: 1.3766 - val_loss: 0.6822\n",
      "Epoch 151/600\n",
      "3/3 [==============================] - 0s 11ms/step - loss: 1.3742 - val_loss: 0.6919\n",
      "Epoch 152/600\n",
      "3/3 [==============================] - 0s 22ms/step - loss: 1.3725 - val_loss: 0.6713\n",
      "Epoch 153/600\n",
      "3/3 [==============================] - 0s 12ms/step - loss: 1.3740 - val_loss: 0.6616\n",
      "Epoch 154/600\n",
      "3/3 [==============================] - 0s 12ms/step - loss: 1.3720 - val_loss: 0.6752\n",
      "Epoch 155/600\n",
      "3/3 [==============================] - 0s 11ms/step - loss: 1.3780 - val_loss: 0.6932\n",
      "Epoch 156/600\n",
      "3/3 [==============================] - 0s 11ms/step - loss: 1.3730 - val_loss: 0.6694\n",
      "Epoch 157/600\n",
      "3/3 [==============================] - 0s 11ms/step - loss: 1.3636 - val_loss: 0.6648\n",
      "Epoch 158/600\n",
      "3/3 [==============================] - 0s 11ms/step - loss: 1.3633 - val_loss: 0.6839\n",
      "Epoch 159/600\n",
      "3/3 [==============================] - 0s 11ms/step - loss: 1.3597 - val_loss: 0.6840\n",
      "Epoch 160/600\n",
      "3/3 [==============================] - 0s 11ms/step - loss: 1.3741 - val_loss: 0.6971\n",
      "Epoch 161/600\n",
      "3/3 [==============================] - 0s 11ms/step - loss: 1.3776 - val_loss: 0.6504\n",
      "Epoch 162/600\n",
      "3/3 [==============================] - 0s 11ms/step - loss: 1.3577 - val_loss: 0.6715\n",
      "Epoch 163/600\n",
      "3/3 [==============================] - 0s 11ms/step - loss: 1.3525 - val_loss: 0.6920\n",
      "Epoch 164/600\n",
      "3/3 [==============================] - 0s 11ms/step - loss: 1.3568 - val_loss: 0.7007\n",
      "Epoch 165/600\n",
      "3/3 [==============================] - 0s 11ms/step - loss: 1.3608 - val_loss: 0.6856\n",
      "Epoch 166/600\n",
      "3/3 [==============================] - 0s 11ms/step - loss: 1.3500 - val_loss: 0.6457\n",
      "Epoch 167/600\n",
      "3/3 [==============================] - 0s 11ms/step - loss: 1.3587 - val_loss: 0.6712\n",
      "Epoch 168/600\n",
      "3/3 [==============================] - 0s 12ms/step - loss: 1.3592 - val_loss: 0.6707\n",
      "Epoch 169/600\n",
      "3/3 [==============================] - 0s 11ms/step - loss: 1.3520 - val_loss: 0.6885\n",
      "Epoch 170/600\n",
      "3/3 [==============================] - 0s 12ms/step - loss: 1.3503 - val_loss: 0.6768\n",
      "Epoch 171/600\n",
      "3/3 [==============================] - 0s 13ms/step - loss: 1.3466 - val_loss: 0.6510\n",
      "Epoch 172/600\n",
      "3/3 [==============================] - 0s 11ms/step - loss: 1.3484 - val_loss: 0.6356\n",
      "Epoch 173/600\n",
      "3/3 [==============================] - 0s 13ms/step - loss: 1.3487 - val_loss: 0.6521\n",
      "Epoch 174/600\n",
      "3/3 [==============================] - 0s 13ms/step - loss: 1.3483 - val_loss: 0.6669\n",
      "Epoch 175/600\n",
      "3/3 [==============================] - 0s 14ms/step - loss: 1.3442 - val_loss: 0.6719\n",
      "Epoch 176/600\n",
      "3/3 [==============================] - 0s 14ms/step - loss: 1.3442 - val_loss: 0.6617\n",
      "Epoch 177/600\n",
      "3/3 [==============================] - 0s 13ms/step - loss: 1.3429 - val_loss: 0.6655\n",
      "Epoch 178/600\n",
      "3/3 [==============================] - 0s 11ms/step - loss: 1.3398 - val_loss: 0.6593\n",
      "Epoch 179/600\n",
      "3/3 [==============================] - 0s 12ms/step - loss: 1.3390 - val_loss: 0.6614\n",
      "Epoch 180/600\n",
      "3/3 [==============================] - 0s 11ms/step - loss: 1.3389 - val_loss: 0.6774\n",
      "Epoch 181/600\n",
      "3/3 [==============================] - 0s 11ms/step - loss: 1.3440 - val_loss: 0.7007\n",
      "Epoch 182/600\n",
      "3/3 [==============================] - 0s 12ms/step - loss: 1.3478 - val_loss: 0.6472\n",
      "Epoch 183/600\n",
      "3/3 [==============================] - 0s 11ms/step - loss: 1.3450 - val_loss: 0.6358\n",
      "Epoch 184/600\n",
      "3/3 [==============================] - 0s 12ms/step - loss: 1.3507 - val_loss: 0.6535\n",
      "Epoch 185/600\n",
      "3/3 [==============================] - 0s 11ms/step - loss: 1.3381 - val_loss: 0.6775\n",
      "Epoch 186/600\n",
      "3/3 [==============================] - 0s 11ms/step - loss: 1.3393 - val_loss: 0.6698\n",
      "Epoch 187/600\n",
      "3/3 [==============================] - 0s 11ms/step - loss: 1.3397 - val_loss: 0.6426\n",
      "Epoch 188/600\n",
      "3/3 [==============================] - 0s 11ms/step - loss: 1.3473 - val_loss: 0.6706\n",
      "Epoch 189/600\n",
      "3/3 [==============================] - 0s 11ms/step - loss: 1.3290 - val_loss: 0.6737\n",
      "Epoch 190/600\n",
      "3/3 [==============================] - 0s 11ms/step - loss: 1.3297 - val_loss: 0.6677\n",
      "Epoch 191/600\n",
      "3/3 [==============================] - 0s 11ms/step - loss: 1.3323 - val_loss: 0.6761\n",
      "Epoch 192/600\n",
      "3/3 [==============================] - 0s 11ms/step - loss: 1.3260 - val_loss: 0.6406\n",
      "Epoch 193/600\n",
      "3/3 [==============================] - 0s 11ms/step - loss: 1.3274 - val_loss: 0.6328\n",
      "Epoch 194/600\n",
      "3/3 [==============================] - 0s 11ms/step - loss: 1.3325 - val_loss: 0.6661\n",
      "Epoch 195/600\n",
      "3/3 [==============================] - 0s 11ms/step - loss: 1.3250 - val_loss: 0.6703\n",
      "Epoch 196/600\n",
      "3/3 [==============================] - 0s 11ms/step - loss: 1.3222 - val_loss: 0.6508\n",
      "Epoch 197/600\n",
      "3/3 [==============================] - 0s 11ms/step - loss: 1.3190 - val_loss: 0.6610\n",
      "Epoch 198/600\n",
      "3/3 [==============================] - 0s 11ms/step - loss: 1.3239 - val_loss: 0.6625\n",
      "Epoch 199/600\n",
      "3/3 [==============================] - 0s 11ms/step - loss: 1.3129 - val_loss: 0.6457\n",
      "Epoch 200/600\n",
      "3/3 [==============================] - 0s 11ms/step - loss: 1.3323 - val_loss: 0.6457\n",
      "Epoch 201/600\n",
      "3/3 [==============================] - 0s 11ms/step - loss: 1.3140 - val_loss: 0.6794\n",
      "Epoch 202/600\n",
      "3/3 [==============================] - 0s 11ms/step - loss: 1.3323 - val_loss: 0.6735\n",
      "Epoch 203/600\n",
      "3/3 [==============================] - 0s 11ms/step - loss: 1.3128 - val_loss: 0.6383\n",
      "Epoch 204/600\n",
      "3/3 [==============================] - 0s 11ms/step - loss: 1.3219 - val_loss: 0.6567\n",
      "Epoch 205/600\n",
      "3/3 [==============================] - 0s 11ms/step - loss: 1.3148 - val_loss: 0.6784\n",
      "Epoch 206/600\n",
      "3/3 [==============================] - 0s 11ms/step - loss: 1.3240 - val_loss: 0.6916\n",
      "Epoch 207/600\n",
      "3/3 [==============================] - 0s 11ms/step - loss: 1.3181 - val_loss: 0.6736\n",
      "Epoch 208/600\n",
      "3/3 [==============================] - 0s 11ms/step - loss: 1.3383 - val_loss: 0.6984\n",
      "Epoch 209/600\n",
      "3/3 [==============================] - 0s 11ms/step - loss: 1.3416 - val_loss: 0.6896\n",
      "Epoch 210/600\n",
      "3/3 [==============================] - 0s 11ms/step - loss: 1.3404 - val_loss: 0.6634\n",
      "Epoch 211/600\n",
      "3/3 [==============================] - 0s 12ms/step - loss: 1.3235 - val_loss: 0.6578\n",
      "Epoch 212/600\n",
      "3/3 [==============================] - 0s 12ms/step - loss: 1.3226 - val_loss: 0.6658\n",
      "Epoch 213/600\n",
      "3/3 [==============================] - 0s 12ms/step - loss: 1.3186 - val_loss: 0.6842\n",
      "Epoch 214/600\n",
      "3/3 [==============================] - 0s 13ms/step - loss: 1.3229 - val_loss: 0.6712\n",
      "Epoch 215/600\n",
      "3/3 [==============================] - 0s 13ms/step - loss: 1.3195 - val_loss: 0.6585\n",
      "Epoch 216/600\n",
      "3/3 [==============================] - 0s 14ms/step - loss: 1.3125 - val_loss: 0.6610\n",
      "Epoch 217/600\n",
      "3/3 [==============================] - 0s 25ms/step - loss: 1.3125 - val_loss: 0.6820\n",
      "Epoch 218/600\n",
      "3/3 [==============================] - 0s 15ms/step - loss: 1.3131 - val_loss: 0.6617\n",
      "Epoch 219/600\n",
      "3/3 [==============================] - 0s 12ms/step - loss: 1.3093 - val_loss: 0.6555\n",
      "Epoch 220/600\n",
      "3/3 [==============================] - 0s 11ms/step - loss: 1.3124 - val_loss: 0.6772\n",
      "Epoch 221/600\n",
      "3/3 [==============================] - 0s 11ms/step - loss: 1.3170 - val_loss: 0.6751\n",
      "Epoch 222/600\n",
      "3/3 [==============================] - 0s 17ms/step - loss: 1.3111 - val_loss: 0.6644\n",
      "Epoch 223/600\n",
      "3/3 [==============================] - 0s 12ms/step - loss: 1.3163 - val_loss: 0.6534\n",
      "Epoch 224/600\n",
      "3/3 [==============================] - 0s 11ms/step - loss: 1.3104 - val_loss: 0.6666\n",
      "Epoch 225/600\n",
      "3/3 [==============================] - 0s 11ms/step - loss: 1.3120 - val_loss: 0.6871\n",
      "Epoch 226/600\n",
      "3/3 [==============================] - 0s 11ms/step - loss: 1.3196 - val_loss: 0.6591\n",
      "Epoch 227/600\n",
      "3/3 [==============================] - 0s 11ms/step - loss: 1.3149 - val_loss: 0.6726\n",
      "Epoch 228/600\n",
      "3/3 [==============================] - 0s 12ms/step - loss: 1.3166 - val_loss: 0.7008\n",
      "Epoch 229/600\n",
      "3/3 [==============================] - 0s 11ms/step - loss: 1.3212 - val_loss: 0.6863\n",
      "Epoch 230/600\n",
      "3/3 [==============================] - 0s 12ms/step - loss: 1.3287 - val_loss: 0.6953\n",
      "Epoch 231/600\n",
      "3/3 [==============================] - 0s 23ms/step - loss: 1.3166 - val_loss: 0.6792\n",
      "Epoch 232/600\n",
      "3/3 [==============================] - 0s 16ms/step - loss: 1.3137 - val_loss: 0.6839\n",
      "Epoch 233/600\n",
      "3/3 [==============================] - 0s 13ms/step - loss: 1.3170 - val_loss: 0.6726\n",
      "Epoch 234/600\n",
      "3/3 [==============================] - 0s 14ms/step - loss: 1.3048 - val_loss: 0.6716\n",
      "Epoch 235/600\n",
      "3/3 [==============================] - 0s 12ms/step - loss: 1.3084 - val_loss: 0.6682\n",
      "Epoch 236/600\n",
      "3/3 [==============================] - 0s 12ms/step - loss: 1.3101 - val_loss: 0.6714\n",
      "Epoch 237/600\n",
      "3/3 [==============================] - 0s 14ms/step - loss: 1.3038 - val_loss: 0.6840\n",
      "Epoch 238/600\n",
      "3/3 [==============================] - 0s 12ms/step - loss: 1.3136 - val_loss: 0.6730\n",
      "Epoch 239/600\n",
      "3/3 [==============================] - 0s 13ms/step - loss: 1.3019 - val_loss: 0.6662\n",
      "Epoch 240/600\n",
      "3/3 [==============================] - 0s 13ms/step - loss: 1.3022 - val_loss: 0.6739\n",
      "Epoch 241/600\n",
      "3/3 [==============================] - 0s 13ms/step - loss: 1.3039 - val_loss: 0.6708\n",
      "Epoch 242/600\n",
      "3/3 [==============================] - 0s 12ms/step - loss: 1.2998 - val_loss: 0.6708\n",
      "Epoch 243/600\n",
      "3/3 [==============================] - 0s 16ms/step - loss: 1.2996 - val_loss: 0.6753\n",
      "Epoch 244/600\n",
      "3/3 [==============================] - 0s 16ms/step - loss: 1.2942 - val_loss: 0.6820\n",
      "Epoch 245/600\n",
      "3/3 [==============================] - 0s 14ms/step - loss: 1.2953 - val_loss: 0.6851\n",
      "Epoch 246/600\n",
      "3/3 [==============================] - 0s 13ms/step - loss: 1.2942 - val_loss: 0.6740\n",
      "Epoch 247/600\n",
      "3/3 [==============================] - 0s 13ms/step - loss: 1.2972 - val_loss: 0.6715\n",
      "Epoch 248/600\n",
      "3/3 [==============================] - 0s 13ms/step - loss: 1.2956 - val_loss: 0.6701\n",
      "Epoch 249/600\n",
      "3/3 [==============================] - 0s 15ms/step - loss: 1.2929 - val_loss: 0.6819\n",
      "Epoch 250/600\n",
      "3/3 [==============================] - 0s 31ms/step - loss: 1.2956 - val_loss: 0.6955\n",
      "Epoch 251/600\n",
      "3/3 [==============================] - 0s 26ms/step - loss: 1.3070 - val_loss: 0.6730\n",
      "Epoch 252/600\n",
      "3/3 [==============================] - 0s 15ms/step - loss: 1.2901 - val_loss: 0.6964\n",
      "Epoch 253/600\n",
      "3/3 [==============================] - 0s 13ms/step - loss: 1.3004 - val_loss: 0.6930\n",
      "Epoch 254/600\n",
      "3/3 [==============================] - 0s 19ms/step - loss: 1.2980 - val_loss: 0.6784\n",
      "Epoch 255/600\n",
      "3/3 [==============================] - 0s 24ms/step - loss: 1.2945 - val_loss: 0.7004\n",
      "Epoch 256/600\n",
      "3/3 [==============================] - 0s 14ms/step - loss: 1.2954 - val_loss: 0.7069\n",
      "Epoch 257/600\n",
      "3/3 [==============================] - 0s 14ms/step - loss: 1.3243 - val_loss: 0.6931\n",
      "Epoch 258/600\n",
      "3/3 [==============================] - 0s 14ms/step - loss: 1.3083 - val_loss: 0.7051\n",
      "Epoch 259/600\n",
      "3/3 [==============================] - 0s 14ms/step - loss: 1.2959 - val_loss: 0.7061\n",
      "Epoch 260/600\n",
      "3/3 [==============================] - 0s 14ms/step - loss: 1.3174 - val_loss: 0.6992\n",
      "Epoch 261/600\n",
      "3/3 [==============================] - 0s 13ms/step - loss: 1.3074 - val_loss: 0.7200\n",
      "Epoch 262/600\n",
      "3/3 [==============================] - 0s 12ms/step - loss: 1.3113 - val_loss: 0.7227\n",
      "Epoch 263/600\n",
      "3/3 [==============================] - 0s 18ms/step - loss: 1.3061 - val_loss: 0.6866\n",
      "Epoch 264/600\n",
      "3/3 [==============================] - 0s 12ms/step - loss: 1.2980 - val_loss: 0.6855\n",
      "Epoch 265/600\n",
      "3/3 [==============================] - 0s 12ms/step - loss: 1.2900 - val_loss: 0.6975\n",
      "Epoch 266/600\n",
      "3/3 [==============================] - 0s 12ms/step - loss: 1.2917 - val_loss: 0.6914\n",
      "Epoch 267/600\n",
      "3/3 [==============================] - 0s 13ms/step - loss: 1.2968 - val_loss: 0.7035\n",
      "Epoch 268/600\n",
      "3/3 [==============================] - 0s 14ms/step - loss: 1.2985 - val_loss: 0.7049\n",
      "Epoch 269/600\n",
      "3/3 [==============================] - 0s 12ms/step - loss: 1.2943 - val_loss: 0.7117\n",
      "Epoch 270/600\n",
      "3/3 [==============================] - 0s 13ms/step - loss: 1.3017 - val_loss: 0.7071\n",
      "Epoch 271/600\n",
      "3/3 [==============================] - 0s 14ms/step - loss: 1.2976 - val_loss: 0.7174\n",
      "Epoch 272/600\n",
      "3/3 [==============================] - 0s 18ms/step - loss: 1.2937 - val_loss: 0.7084\n",
      "Epoch 273/600\n",
      "3/3 [==============================] - 0s 23ms/step - loss: 1.2920 - val_loss: 0.6960\n",
      "Epoch 274/600\n",
      "3/3 [==============================] - 0s 32ms/step - loss: 1.2962 - val_loss: 0.7104\n",
      "Epoch 275/600\n",
      "3/3 [==============================] - 0s 16ms/step - loss: 1.2912 - val_loss: 0.7140\n",
      "Epoch 276/600\n",
      "3/3 [==============================] - 0s 14ms/step - loss: 1.2915 - val_loss: 0.7018\n",
      "Epoch 277/600\n",
      "3/3 [==============================] - 0s 14ms/step - loss: 1.2954 - val_loss: 0.7062\n",
      "Epoch 278/600\n",
      "3/3 [==============================] - 0s 25ms/step - loss: 1.2865 - val_loss: 0.7261\n",
      "Epoch 279/600\n",
      "3/3 [==============================] - 0s 16ms/step - loss: 1.3013 - val_loss: 0.7279\n",
      "Epoch 280/600\n",
      "3/3 [==============================] - 0s 12ms/step - loss: 1.3059 - val_loss: 0.7155\n",
      "Epoch 281/600\n",
      "3/3 [==============================] - 0s 17ms/step - loss: 1.3076 - val_loss: 0.7016\n",
      "Epoch 282/600\n",
      "3/3 [==============================] - 0s 12ms/step - loss: 1.2935 - val_loss: 0.7169\n",
      "Epoch 283/600\n",
      "3/3 [==============================] - 0s 12ms/step - loss: 1.2951 - val_loss: 0.7182\n",
      "Epoch 284/600\n",
      "3/3 [==============================] - 0s 11ms/step - loss: 1.2939 - val_loss: 0.7048\n",
      "Epoch 285/600\n",
      "3/3 [==============================] - 0s 12ms/step - loss: 1.2847 - val_loss: 0.7183\n",
      "Epoch 286/600\n",
      "3/3 [==============================] - 0s 13ms/step - loss: 1.2919 - val_loss: 0.7247\n",
      "Epoch 287/600\n",
      "3/3 [==============================] - 0s 12ms/step - loss: 1.2896 - val_loss: 0.7172\n",
      "Epoch 288/600\n",
      "3/3 [==============================] - 0s 12ms/step - loss: 1.2945 - val_loss: 0.7131\n",
      "Epoch 289/600\n",
      "3/3 [==============================] - 0s 12ms/step - loss: 1.3046 - val_loss: 0.7187\n",
      "Epoch 290/600\n",
      "3/3 [==============================] - 0s 15ms/step - loss: 1.2887 - val_loss: 0.7140\n",
      "Epoch 291/600\n",
      "3/3 [==============================] - 0s 12ms/step - loss: 1.2861 - val_loss: 0.7132\n",
      "Epoch 292/600\n",
      "3/3 [==============================] - 0s 13ms/step - loss: 1.2864 - val_loss: 0.7112\n",
      "Epoch 293/600\n",
      "3/3 [==============================] - 0s 13ms/step - loss: 1.2888 - val_loss: 0.7345\n",
      "Epoch 294/600\n",
      "3/3 [==============================] - 0s 13ms/step - loss: 1.2870 - val_loss: 0.7281\n",
      "Epoch 295/600\n",
      "3/3 [==============================] - 0s 12ms/step - loss: 1.3065 - val_loss: 0.7183\n",
      "Epoch 296/600\n",
      "3/3 [==============================] - 0s 13ms/step - loss: 1.2890 - val_loss: 0.7204\n",
      "Epoch 297/600\n",
      "3/3 [==============================] - 0s 12ms/step - loss: 1.2896 - val_loss: 0.7322\n",
      "Epoch 298/600\n",
      "3/3 [==============================] - 0s 12ms/step - loss: 1.2886 - val_loss: 0.7190\n",
      "Epoch 299/600\n",
      "3/3 [==============================] - 0s 27ms/step - loss: 1.2894 - val_loss: 0.7146\n",
      "Epoch 300/600\n",
      "3/3 [==============================] - 0s 15ms/step - loss: 1.2812 - val_loss: 0.7191\n",
      "Epoch 301/600\n",
      "3/3 [==============================] - 0s 13ms/step - loss: 1.2882 - val_loss: 0.7239\n",
      "Epoch 302/600\n",
      "3/3 [==============================] - 0s 13ms/step - loss: 1.2876 - val_loss: 0.7154\n",
      "Epoch 303/600\n",
      "3/3 [==============================] - 0s 25ms/step - loss: 1.2853 - val_loss: 0.7183\n",
      "Epoch 304/600\n",
      "3/3 [==============================] - 0s 17ms/step - loss: 1.2829 - val_loss: 0.7249\n",
      "Epoch 305/600\n",
      "3/3 [==============================] - 0s 13ms/step - loss: 1.2814 - val_loss: 0.7177\n",
      "Epoch 306/600\n",
      "3/3 [==============================] - 0s 12ms/step - loss: 1.2958 - val_loss: 0.7115\n",
      "Epoch 307/600\n",
      "3/3 [==============================] - 0s 16ms/step - loss: 1.2880 - val_loss: 0.7365\n",
      "Epoch 308/600\n",
      "3/3 [==============================] - 0s 13ms/step - loss: 1.2901 - val_loss: 0.7347\n",
      "Epoch 309/600\n",
      "3/3 [==============================] - 0s 13ms/step - loss: 1.2909 - val_loss: 0.7246\n",
      "Epoch 310/600\n",
      "3/3 [==============================] - 0s 13ms/step - loss: 1.2873 - val_loss: 0.7243\n",
      "Epoch 311/600\n",
      "3/3 [==============================] - 0s 26ms/step - loss: 1.2920 - val_loss: 0.7267\n",
      "Epoch 312/600\n",
      "3/3 [==============================] - 0s 14ms/step - loss: 1.2910 - val_loss: 0.7427\n",
      "Epoch 313/600\n",
      "3/3 [==============================] - 0s 13ms/step - loss: 1.3045 - val_loss: 0.7258\n",
      "1/1 [==============================] - 0s 18ms/step - loss: 0.7258\n",
      "1/1 [==============================] - 0s 52ms/step\n"
     ]
    },
    {
     "data": {
      "image/png": "[encoded data removed]",
      "text/plain": [
       "<Figure size 432x288 with 1 Axes>"
      ]
     },
     "metadata": {
      "needs_background": "light"
     },
     "output_type": "display_data"
    }
   ],
   "source": [
    "from sklearn.model_selection import train_test_split\n",
    "from tensorflow import keras\n",
    "\n",
    "# The seed is required for replication of results. Parameters defined.\n",
    "seed = 1234\n",
    "tolerance_value = 120\n",
    "n_epochs = 600\n",
    "\n",
    "X_train, X_test, y_train, y_test = train_test_split(reduced_features,\n",
    "                                                    targets,\n",
    "                                                    random_state=seed,\n",
    "                                                    test_size=0.20)\n",
    "\n",
    "\n",
    "def build_model(n_hidden=3, n_neurons=350, learning_rate=1e-3, input_shape=[reduced_features.shape[1], ]):\n",
    "    model = keras.Sequential()\n",
    "\n",
    "    model.add(keras.layers.InputLayer(input_shape=input_shape))\n",
    "    for layer in range(n_hidden):\n",
    "        model.add(\n",
    "            keras.layers.Dense(n_neurons, activation='sigmoid', use_bias = True, bias_initializer = keras.initializers.HeUniform())\n",
    "            # keras.layers.Dense(n_neurons, use_bias=False)\n",
    "            # keras.layers.Dense(n_neurons, activation='relu', use_bias = False)\n",
    "        )\n",
    "        # model.add(keras.layers.LeakyReLU(alpha=0.2))\n",
    "        # model.add(keras.layers.BatchNormalization())\n",
    "        # model.add(keras.layers.Dropout(0.2))\n",
    "    model.add(keras.layers.Dense(targets.shape[1]))\n",
    "\n",
    "    model.compile(loss=\"mae\", optimizer=keras.optimizers.Adam(lr=learning_rate))\n",
    "\n",
    "    return model\n",
    "\n",
    "\n",
    "# The wrapper is neccessary for GridSearch later in this notebook\n",
    "keras_reg = keras.wrappers.scikit_learn.KerasRegressor(build_model)\n",
    "\n",
    "# The history dictionary is useful for 'loss' plot of the model. In this case, the 'loss' is mean absolute error\n",
    "history = keras_reg.fit(X_train, y_train, epochs=n_epochs,\n",
    "                        validation_data=(X_test, y_test),\n",
    "                        callbacks=[keras.callbacks.EarlyStopping(patience=tolerance_value)])\n",
    "\n",
    "# Test on the holdout data\n",
    "mae_test = keras_reg.score(X_test, y_test)\n",
    "y_pred = keras_reg.predict(X_test)\n",
    "\n",
    "plt.figure()\n",
    "plt.plot(history.history['loss'])\n",
    "plt.plot(history.history['val_loss'])\n",
    "plt.title(\"Model loss\")\n",
    "plt.ylabel(\"Loss (MAE)\")\n",
    "plt.xlabel(\"Epoch\")\n",
    "plt.ylim(bottom=0, top = 6)\n",
    "plt.legend([\"Train\", \"Test\"])\n",
    "plt.show()\n",
    "\n",
    "# print(keras_reg.model.summary())"
   ]
  },
  {
   "cell_type": "code",
   "execution_count": 7,
   "id": "51340bd9",
   "metadata": {},
   "outputs": [
    {
     "name": "stdout",
     "output_type": "stream",
     "text": [
      "\n",
      " The predicted values (Lattice constants)\n",
      "[[ 5.8234177  5.839976   8.421666 ]\n",
      " [ 5.848967   5.884994   5.929422 ]\n",
      " [ 5.958366   5.9394     6.1031733]\n",
      " [ 5.615967   5.7450614  9.178809 ]\n",
      " [ 5.684734   5.7623425  9.477972 ]\n",
      " [ 5.789965   5.8391232  7.248831 ]\n",
      " [ 5.8743997  5.8989944  5.9663305]\n",
      " [ 5.967966   5.9443665  6.1167746]\n",
      " [ 5.903079   5.91435    6.01621  ]\n",
      " [ 5.7162337  5.7785206  9.620669 ]\n",
      " [ 5.8348536  5.84277   10.013954 ]\n",
      " [ 5.763699   5.796592   9.799982 ]\n",
      " [ 5.6789885  5.7640433  9.451199 ]\n",
      " [ 5.928877   5.9259906  6.058525 ]\n",
      " [ 5.870727   5.896979   5.9605303]\n",
      " [ 5.6298914  5.750777   9.236172 ]\n",
      " [ 5.844186   5.858172  10.121841 ]\n",
      " [ 5.890553   5.9037232  5.985898 ]\n",
      " [ 5.954582   5.9375043  6.0976195]\n",
      " [ 5.7894244  5.854133   6.038748 ]]\n",
      "\n",
      " The mean absolute error (MAE)\n",
      "-0.9097226858139038\n"
     ]
    }
   ],
   "source": [
    "print(\"\\n The predicted values (Lattice constants)\")\n",
    "print(y_pred)\n",
    "print(\"\\n The mean absolute error (MAE)\")\n",
    "print(mae_test)\n"
   ]
  },
  {
   "cell_type": "code",
   "execution_count": 8,
   "id": "2fe2d531",
   "metadata": {},
   "outputs": [
    {
     "name": "stdout",
     "output_type": "stream",
     "text": [
      "0.9097226\n"
     ]
    }
   ],
   "source": [
    "from sklearn.metrics import mean_absolute_error\n",
    "\n",
    "print (mean_absolute_error(y_test, y_pred))"
   ]
  },
  {
   "cell_type": "markdown",
   "id": "hybrid-bunch",
   "metadata": {
    "id": "atlantic-arrow"
   },
   "source": [
    "## GridSearch\n",
    "Grid search (GS) as the name suggests requires a grid made up by the hyperparamters. The alogorithm then runs the model over the grid and finds the best set of parameters for which the model perform best, i.e. low error (MSE, MAE, huber loss, etc in case of refression). The algorithm is heavy because it is performing a brute force approach. There are some techniques like Bayesian inference methods which are very quick in findig the hyperparameters. \n",
    "\n",
    "In the GS, I will set cross-validation option which results in more accurate loss metrics. Cross-validation is a statistical method of evaluating generalization performance that is more stable and thorough than using a split into a training and a test set.\n",
    "\n",
    "The parameter grid for my models are bulleted below.\n",
    "\n",
    "1.   number of hidden layers (n_hidden)\n",
    "2.   number of neural nodes in each hidden layers (n_neurons)\n",
    "3.   learning rate for Adam optimizer\n",
    "\n",
    "Since GS is a type of brute force approach I have employed a callback function which will terminate the GS once the patience level is crossed. This way I do not have to lose the computational power once the model loss starts saturating. "
   ]
  },
  {
   "cell_type": "code",
   "execution_count": 9,
   "id": "metric-realtor",
   "metadata": {
    "colab": {
     "base_uri": "https://localhost:8080/",
     "height": 1000
    },
    "id": "Y2FNniocgLzQ",
    "outputId": "46dbc949-688d-4577-c759-1fedbe6a267b"
   },
   "outputs": [
    {
     "name": "stderr",
     "output_type": "stream",
     "text": [
      "2022-07-26 11:45:27.770520: I tensorflow/core/platform/cpu_feature_guard.cc:193] This TensorFlow binary is optimized with oneAPI Deep Neural Network Library (oneDNN) to use the following CPU instructions in performance-critical operations:  AVX2 FMA\n",
      "To enable them in other operations, rebuild TensorFlow with the appropriate compiler flags.\n",
      "2022-07-26 11:45:27.771265: I tensorflow/core/platform/cpu_feature_guard.cc:193] This TensorFlow binary is optimized with oneAPI Deep Neural Network Library (oneDNN) to use the following CPU instructions in performance-critical operations:  AVX2 FMA\n",
      "To enable them in other operations, rebuild TensorFlow with the appropriate compiler flags.\n",
      "2022-07-26 11:45:27.772531: I tensorflow/core/platform/cpu_feature_guard.cc:193] This TensorFlow binary is optimized with oneAPI Deep Neural Network Library (oneDNN) to use the following CPU instructions in performance-critical operations:  AVX2 FMA\n",
      "To enable them in other operations, rebuild TensorFlow with the appropriate compiler flags.\n",
      "2022-07-26 11:45:27.772642: I tensorflow/core/platform/cpu_feature_guard.cc:193] This TensorFlow binary is optimized with oneAPI Deep Neural Network Library (oneDNN) to use the following CPU instructions in performance-critical operations:  AVX2 FMA\n",
      "To enable them in other operations, rebuild TensorFlow with the appropriate compiler flags.\n",
      "2022-07-26 11:45:27.772721: I tensorflow/core/platform/cpu_feature_guard.cc:193] This TensorFlow binary is optimized with oneAPI Deep Neural Network Library (oneDNN) to use the following CPU instructions in performance-critical operations:  AVX2 FMA\n",
      "To enable them in other operations, rebuild TensorFlow with the appropriate compiler flags.\n",
      "2022-07-26 11:45:27.773588: I tensorflow/core/platform/cpu_feature_guard.cc:193] This TensorFlow binary is optimized with oneAPI Deep Neural Network Library (oneDNN) to use the following CPU instructions in performance-critical operations:  AVX2 FMA\n",
      "To enable them in other operations, rebuild TensorFlow with the appropriate compiler flags.\n",
      "2022-07-26 11:45:27.773675: I tensorflow/core/platform/cpu_feature_guard.cc:193] This TensorFlow binary is optimized with oneAPI Deep Neural Network Library (oneDNN) to use the following CPU instructions in performance-critical operations:  AVX2 FMA\n",
      "To enable them in other operations, rebuild TensorFlow with the appropriate compiler flags.\n",
      "2022-07-26 11:45:27.775231: I tensorflow/core/platform/cpu_feature_guard.cc:193] This TensorFlow binary is optimized with oneAPI Deep Neural Network Library (oneDNN) to use the following CPU instructions in performance-critical operations:  AVX2 FMA\n",
      "To enable them in other operations, rebuild TensorFlow with the appropriate compiler flags.\n",
      "/Users/pratha/opt/anaconda3/lib/python3.8/site-packages/keras/optimizers/optimizer_v2/adam.py:110: UserWarning: The `lr` argument is deprecated, use `learning_rate` instead.\n",
      "  super(Adam, self).__init__(name, **kwargs)\n",
      "/Users/pratha/opt/anaconda3/lib/python3.8/site-packages/keras/optimizers/optimizer_v2/adam.py:110: UserWarning: The `lr` argument is deprecated, use `learning_rate` instead.\n",
      "  super(Adam, self).__init__(name, **kwargs)\n",
      "/Users/pratha/opt/anaconda3/lib/python3.8/site-packages/keras/optimizers/optimizer_v2/adam.py:110: UserWarning: The `lr` argument is deprecated, use `learning_rate` instead.\n",
      "  super(Adam, self).__init__(name, **kwargs)\n",
      "/Users/pratha/opt/anaconda3/lib/python3.8/site-packages/keras/optimizers/optimizer_v2/adam.py:110: UserWarning: The `lr` argument is deprecated, use `learning_rate` instead.\n",
      "  super(Adam, self).__init__(name, **kwargs)\n",
      "/Users/pratha/opt/anaconda3/lib/python3.8/site-packages/keras/optimizers/optimizer_v2/adam.py:110: UserWarning: The `lr` argument is deprecated, use `learning_rate` instead.\n",
      "  super(Adam, self).__init__(name, **kwargs)\n",
      "/Users/pratha/opt/anaconda3/lib/python3.8/site-packages/keras/optimizers/optimizer_v2/adam.py:110: UserWarning: The `lr` argument is deprecated, use `learning_rate` instead.\n",
      "  super(Adam, self).__init__(name, **kwargs)\n",
      "/Users/pratha/opt/anaconda3/lib/python3.8/site-packages/keras/optimizers/optimizer_v2/adam.py:110: UserWarning: The `lr` argument is deprecated, use `learning_rate` instead.\n",
      "  super(Adam, self).__init__(name, **kwargs)\n",
      "/Users/pratha/opt/anaconda3/lib/python3.8/site-packages/keras/optimizers/optimizer_v2/adam.py:110: UserWarning: The `lr` argument is deprecated, use `learning_rate` instead.\n",
      "  super(Adam, self).__init__(name, **kwargs)\n"
     ]
    },
    {
     "name": "stdout",
     "output_type": "stream",
     "text": [
      "2/2 [==============================] - 1s 236ms/step - loss: 5.7537 - val_loss: 2.2277\n",
      "2/2 [==============================] - 1s 251ms/step - loss: 5.9894 - val_loss: 1.8775\n",
      "2/2 [==============================] - 1s 257ms/step - loss: 6.5554 - val_loss: 2.4295\n",
      "2/2 [==============================] - 1s 258ms/step - loss: 5.0923 - val_loss: 1.3275\n",
      "2/2 [==============================] - 1s 257ms/step - loss: 6.2377 - val_loss: 2.8438\n",
      "2/2 [==============================] - 1s 263ms/step - loss: 6.2204 - val_loss: 2.6158\n",
      "2/2 [==============================] - 1s 275ms/step - loss: 5.8222 - val_loss: 1.6944\n",
      "2/2 [==============================] - 1s 281ms/step - loss: 6.3138 - val_loss: 2.9128\n",
      "1/1 [==============================] - 0s 142ms/step\n",
      "1/1 [==============================] - 0s 139ms/step\n",
      "1/1 [==============================] - 0s 140ms/step\n",
      "1/1 [==============================] - 0s 153ms/step\n",
      "1/1 [==============================] - 0s 152ms/step\n",
      "1/1 [==============================] - 0s 157ms/step\n",
      "1/1 [==============================] - 0s 187ms/step\n",
      "1/1 [==============================] - 0s 258ms/step\n"
     ]
    },
    {
     "name": "stderr",
     "output_type": "stream",
     "text": [
      "/Users/pratha/opt/anaconda3/lib/python3.8/site-packages/keras/optimizers/optimizer_v2/adam.py:110: UserWarning: The `lr` argument is deprecated, use `learning_rate` instead.\n",
      "  super(Adam, self).__init__(name, **kwargs)\n",
      "/Users/pratha/opt/anaconda3/lib/python3.8/site-packages/keras/optimizers/optimizer_v2/adam.py:110: UserWarning: The `lr` argument is deprecated, use `learning_rate` instead.\n",
      "  super(Adam, self).__init__(name, **kwargs)\n",
      "/Users/pratha/opt/anaconda3/lib/python3.8/site-packages/keras/optimizers/optimizer_v2/adam.py:110: UserWarning: The `lr` argument is deprecated, use `learning_rate` instead.\n",
      "  super(Adam, self).__init__(name, **kwargs)\n",
      "/Users/pratha/opt/anaconda3/lib/python3.8/site-packages/keras/optimizers/optimizer_v2/adam.py:110: UserWarning: The `lr` argument is deprecated, use `learning_rate` instead.\n",
      "  super(Adam, self).__init__(name, **kwargs)\n",
      "/Users/pratha/opt/anaconda3/lib/python3.8/site-packages/keras/optimizers/optimizer_v2/adam.py:110: UserWarning: The `lr` argument is deprecated, use `learning_rate` instead.\n",
      "  super(Adam, self).__init__(name, **kwargs)\n",
      "/Users/pratha/opt/anaconda3/lib/python3.8/site-packages/keras/optimizers/optimizer_v2/adam.py:110: UserWarning: The `lr` argument is deprecated, use `learning_rate` instead.\n",
      "  super(Adam, self).__init__(name, **kwargs)\n",
      "/Users/pratha/opt/anaconda3/lib/python3.8/site-packages/keras/optimizers/optimizer_v2/adam.py:110: UserWarning: The `lr` argument is deprecated, use `learning_rate` instead.\n",
      "  super(Adam, self).__init__(name, **kwargs)\n",
      "/Users/pratha/opt/anaconda3/lib/python3.8/site-packages/keras/optimizers/optimizer_v2/adam.py:110: UserWarning: The `lr` argument is deprecated, use `learning_rate` instead.\n",
      "  super(Adam, self).__init__(name, **kwargs)\n"
     ]
    },
    {
     "name": "stdout",
     "output_type": "stream",
     "text": [
      "2/2 [==============================] - 1s 199ms/step - loss: 5.6900 - val_loss: 1.7732\n",
      "2/2 [==============================] - 1s 222ms/step - loss: 6.1622 - val_loss: 1.3093\n",
      "2/2 [==============================] - 1s 217ms/step - loss: 4.8341 - val_loss: 1.7257\n",
      "2/2 [==============================] - 1s 214ms/step - loss: 5.3339 - val_loss: 1.4261\n",
      "2/2 [==============================] - 1s 233ms/step - loss: 5.3513 - val_loss: 0.9363\n",
      "2/2 [==============================] - 1s 220ms/step - loss: 5.6222 - val_loss: 1.0959\n",
      "2/2 [==============================] - 1s 219ms/step - loss: 5.8552 - val_loss: 1.0700\n",
      "1/1 [==============================] - 0s 103ms/step\n",
      "1/1 [==============================] - 0s 107ms/step\n",
      "1/1 [==============================] - 0s 101ms/step\n",
      "1/1 [==============================] - 0s 106ms/step\n",
      "2/2 [==============================] - 1s 236ms/step - loss: 5.4771 - val_loss: 1.2721\n",
      "1/1 [==============================] - 0s 110ms/step\n"
     ]
    },
    {
     "name": "stderr",
     "output_type": "stream",
     "text": [
      "/Users/pratha/opt/anaconda3/lib/python3.8/site-packages/keras/optimizers/optimizer_v2/adam.py:110: UserWarning: The `lr` argument is deprecated, use `learning_rate` instead.\n",
      "  super(Adam, self).__init__(name, **kwargs)\n",
      "/Users/pratha/opt/anaconda3/lib/python3.8/site-packages/keras/optimizers/optimizer_v2/adam.py:110: UserWarning: The `lr` argument is deprecated, use `learning_rate` instead.\n",
      "  super(Adam, self).__init__(name, **kwargs)\n",
      "/Users/pratha/opt/anaconda3/lib/python3.8/site-packages/keras/optimizers/optimizer_v2/adam.py:110: UserWarning: The `lr` argument is deprecated, use `learning_rate` instead.\n",
      "  super(Adam, self).__init__(name, **kwargs)\n",
      "/Users/pratha/opt/anaconda3/lib/python3.8/site-packages/keras/optimizers/optimizer_v2/adam.py:110: UserWarning: The `lr` argument is deprecated, use `learning_rate` instead.\n",
      "  super(Adam, self).__init__(name, **kwargs)\n",
      "/Users/pratha/opt/anaconda3/lib/python3.8/site-packages/keras/optimizers/optimizer_v2/adam.py:110: UserWarning: The `lr` argument is deprecated, use `learning_rate` instead.\n",
      "  super(Adam, self).__init__(name, **kwargs)\n",
      "/Users/pratha/opt/anaconda3/lib/python3.8/site-packages/keras/optimizers/optimizer_v2/adam.py:110: UserWarning: The `lr` argument is deprecated, use `learning_rate` instead.\n",
      "  super(Adam, self).__init__(name, **kwargs)\n",
      "/Users/pratha/opt/anaconda3/lib/python3.8/site-packages/keras/optimizers/optimizer_v2/adam.py:110: UserWarning: The `lr` argument is deprecated, use `learning_rate` instead.\n",
      "  super(Adam, self).__init__(name, **kwargs)\n"
     ]
    },
    {
     "name": "stdout",
     "output_type": "stream",
     "text": [
      "1/1 [==============================] - 0s 134ms/step\n",
      "1/1 [==============================] - 0s 120ms/step\n",
      "1/1 [==============================] - 0s 140ms/step\n"
     ]
    },
    {
     "name": "stderr",
     "output_type": "stream",
     "text": [
      "/Users/pratha/opt/anaconda3/lib/python3.8/site-packages/keras/optimizers/optimizer_v2/adam.py:110: UserWarning: The `lr` argument is deprecated, use `learning_rate` instead.\n",
      "  super(Adam, self).__init__(name, **kwargs)\n"
     ]
    },
    {
     "name": "stdout",
     "output_type": "stream",
     "text": [
      "2/2 [==============================] - 1s 266ms/step - loss: 4.9979 - val_loss: 2.0664\n",
      "2/2 [==============================] - 1s 268ms/step - loss: 4.9243 - val_loss: 2.0102\n",
      "2/2 [==============================] - 1s 269ms/step - loss: 4.5623 - val_loss: 2.4378\n",
      "2/2 [==============================] - 1s 289ms/step - loss: 4.8336 - val_loss: 2.5191\n",
      "2/2 [==============================] - 1s 299ms/step - loss: 5.3105 - val_loss: 1.6695\n",
      "1/1 [==============================] - 0s 121ms/step\n",
      "1/1 [==============================] - 0s 101ms/step\n",
      "1/1 [==============================] - 0s 107ms/step\n",
      "1/1 [==============================] - 0s 100ms/step\n",
      "2/2 [==============================] - 1s 293ms/step - loss: 5.7622 - val_loss: 1.6496\n",
      "2/2 [==============================] - 1s 304ms/step - loss: 4.8649 - val_loss: 1.7617\n",
      "2/2 [==============================] - 1s 280ms/step - loss: 5.1230 - val_loss: 1.1181\n",
      "1/1 [==============================] - 0s 105ms/step\n",
      "1/1 [==============================] - 0s 102ms/step\n",
      "1/1 [==============================] - 0s 104ms/step\n"
     ]
    },
    {
     "name": "stderr",
     "output_type": "stream",
     "text": [
      "/Users/pratha/opt/anaconda3/lib/python3.8/site-packages/keras/optimizers/optimizer_v2/adam.py:110: UserWarning: The `lr` argument is deprecated, use `learning_rate` instead.\n",
      "  super(Adam, self).__init__(name, **kwargs)\n",
      "/Users/pratha/opt/anaconda3/lib/python3.8/site-packages/keras/optimizers/optimizer_v2/adam.py:110: UserWarning: The `lr` argument is deprecated, use `learning_rate` instead.\n",
      "  super(Adam, self).__init__(name, **kwargs)\n",
      "/Users/pratha/opt/anaconda3/lib/python3.8/site-packages/keras/optimizers/optimizer_v2/adam.py:110: UserWarning: The `lr` argument is deprecated, use `learning_rate` instead.\n",
      "  super(Adam, self).__init__(name, **kwargs)\n",
      "/Users/pratha/opt/anaconda3/lib/python3.8/site-packages/keras/optimizers/optimizer_v2/adam.py:110: UserWarning: The `lr` argument is deprecated, use `learning_rate` instead.\n",
      "  super(Adam, self).__init__(name, **kwargs)\n",
      "/Users/pratha/opt/anaconda3/lib/python3.8/site-packages/keras/optimizers/optimizer_v2/adam.py:110: UserWarning: The `lr` argument is deprecated, use `learning_rate` instead.\n",
      "  super(Adam, self).__init__(name, **kwargs)\n",
      "/Users/pratha/opt/anaconda3/lib/python3.8/site-packages/keras/optimizers/optimizer_v2/adam.py:110: UserWarning: The `lr` argument is deprecated, use `learning_rate` instead.\n",
      "  super(Adam, self).__init__(name, **kwargs)\n",
      "/Users/pratha/opt/anaconda3/lib/python3.8/site-packages/keras/optimizers/optimizer_v2/adam.py:110: UserWarning: The `lr` argument is deprecated, use `learning_rate` instead.\n",
      "  super(Adam, self).__init__(name, **kwargs)\n",
      "/Users/pratha/opt/anaconda3/lib/python3.8/site-packages/keras/optimizers/optimizer_v2/adam.py:110: UserWarning: The `lr` argument is deprecated, use `learning_rate` instead.\n",
      "  super(Adam, self).__init__(name, **kwargs)\n"
     ]
    },
    {
     "name": "stdout",
     "output_type": "stream",
     "text": [
      "1/1 [==============================] - 0s 117ms/step\n",
      "2/2 [==============================] - 1s 261ms/step - loss: 6.0857 - val_loss: 1.5318\n",
      "2/2 [==============================] - 1s 272ms/step - loss: 5.7805 - val_loss: 1.4776\n",
      "2/2 [==============================] - 1s 313ms/step - loss: 6.0106 - val_loss: 1.3348\n",
      "2/2 [==============================] - 1s 365ms/step - loss: 5.3958 - val_loss: 0.9750\n",
      "1/1 [==============================] - 0s 113ms/step\n",
      "1/1 [==============================] - 0s 121ms/step\n",
      "2/2 [==============================] - 1s 262ms/step - loss: 4.8340 - val_loss: 1.6054\n",
      "2/2 [==============================] - 1s 282ms/step - loss: 4.7352 - val_loss: 1.7407\n",
      "2/2 [==============================] - 1s 265ms/step - loss: 5.2540 - val_loss: 1.2796\n"
     ]
    },
    {
     "name": "stderr",
     "output_type": "stream",
     "text": [
      "/Users/pratha/opt/anaconda3/lib/python3.8/site-packages/keras/optimizers/optimizer_v2/adam.py:110: UserWarning: The `lr` argument is deprecated, use `learning_rate` instead.\n",
      "  super(Adam, self).__init__(name, **kwargs)\n",
      "/Users/pratha/opt/anaconda3/lib/python3.8/site-packages/keras/optimizers/optimizer_v2/adam.py:110: UserWarning: The `lr` argument is deprecated, use `learning_rate` instead.\n",
      "  super(Adam, self).__init__(name, **kwargs)\n",
      "/Users/pratha/opt/anaconda3/lib/python3.8/site-packages/keras/optimizers/optimizer_v2/adam.py:110: UserWarning: The `lr` argument is deprecated, use `learning_rate` instead.\n",
      "  super(Adam, self).__init__(name, **kwargs)\n",
      "/Users/pratha/opt/anaconda3/lib/python3.8/site-packages/keras/optimizers/optimizer_v2/adam.py:110: UserWarning: The `lr` argument is deprecated, use `learning_rate` instead.\n",
      "  super(Adam, self).__init__(name, **kwargs)\n",
      "/Users/pratha/opt/anaconda3/lib/python3.8/site-packages/keras/optimizers/optimizer_v2/adam.py:110: UserWarning: The `lr` argument is deprecated, use `learning_rate` instead.\n",
      "  super(Adam, self).__init__(name, **kwargs)\n",
      "/Users/pratha/opt/anaconda3/lib/python3.8/site-packages/keras/optimizers/optimizer_v2/adam.py:110: UserWarning: The `lr` argument is deprecated, use `learning_rate` instead.\n",
      "  super(Adam, self).__init__(name, **kwargs)\n"
     ]
    },
    {
     "name": "stdout",
     "output_type": "stream",
     "text": [
      "1/1 [==============================] - 0s 123ms/step\n",
      "1/1 [==============================] - 0s 119ms/step\n",
      "1/1 [==============================] - 0s 111ms/step\n",
      "1/1 [==============================] - 0s 112ms/step\n",
      "1/1 [==============================] - 0s 97ms/step\n",
      "2/2 [==============================] - 1s 251ms/step - loss: 5.3079 - val_loss: 1.4821\n"
     ]
    },
    {
     "name": "stderr",
     "output_type": "stream",
     "text": [
      "/Users/pratha/opt/anaconda3/lib/python3.8/site-packages/keras/optimizers/optimizer_v2/adam.py:110: UserWarning: The `lr` argument is deprecated, use `learning_rate` instead.\n",
      "  super(Adam, self).__init__(name, **kwargs)\n",
      "/Users/pratha/opt/anaconda3/lib/python3.8/site-packages/keras/optimizers/optimizer_v2/adam.py:110: UserWarning: The `lr` argument is deprecated, use `learning_rate` instead.\n",
      "  super(Adam, self).__init__(name, **kwargs)\n"
     ]
    },
    {
     "name": "stdout",
     "output_type": "stream",
     "text": [
      "1/1 [==============================] - 0s 110ms/step\n"
     ]
    },
    {
     "name": "stderr",
     "output_type": "stream",
     "text": [
      "WARNING:tensorflow:5 out of the last 9 calls to <function Model.make_train_function.<locals>.train_function at 0x7fe63acca9d0> triggered tf.function retracing. Tracing is expensive and the excessive number of tracings could be due to (1) creating @tf.function repeatedly in a loop, (2) passing tensors with different shapes, (3) passing Python objects instead of tensors. For (1), please define your @tf.function outside of the loop. For (2), @tf.function has reduce_retracing=True option that can avoid unnecessary retracing. For (3), please refer to https://www.tensorflow.org/guide/function#controlling_retracing and https://www.tensorflow.org/api_docs/python/tf/function for  more details.\n",
      "WARNING:tensorflow:5 out of the last 9 calls to <function Model.make_train_function.<locals>.train_function at 0x7fa73826c9d0> triggered tf.function retracing. Tracing is expensive and the excessive number of tracings could be due to (1) creating @tf.function repeatedly in a loop, (2) passing tensors with different shapes, (3) passing Python objects instead of tensors. For (1), please define your @tf.function outside of the loop. For (2), @tf.function has reduce_retracing=True option that can avoid unnecessary retracing. For (3), please refer to https://www.tensorflow.org/guide/function#controlling_retracing and https://www.tensorflow.org/api_docs/python/tf/function for  more details.\n",
      "WARNING:tensorflow:5 out of the last 9 calls to <function Model.make_train_function.<locals>.train_function at 0x7f9b4d2249d0> triggered tf.function retracing. Tracing is expensive and the excessive number of tracings could be due to (1) creating @tf.function repeatedly in a loop, (2) passing tensors with different shapes, (3) passing Python objects instead of tensors. For (1), please define your @tf.function outside of the loop. For (2), @tf.function has reduce_retracing=True option that can avoid unnecessary retracing. For (3), please refer to https://www.tensorflow.org/guide/function#controlling_retracing and https://www.tensorflow.org/api_docs/python/tf/function for  more details.\n",
      "WARNING:tensorflow:5 out of the last 9 calls to <function Model.make_train_function.<locals>.train_function at 0x7f7a66f849d0> triggered tf.function retracing. Tracing is expensive and the excessive number of tracings could be due to (1) creating @tf.function repeatedly in a loop, (2) passing tensors with different shapes, (3) passing Python objects instead of tensors. For (1), please define your @tf.function outside of the loop. For (2), @tf.function has reduce_retracing=True option that can avoid unnecessary retracing. For (3), please refer to https://www.tensorflow.org/guide/function#controlling_retracing and https://www.tensorflow.org/api_docs/python/tf/function for  more details.\n",
      "WARNING:tensorflow:5 out of the last 9 calls to <function Model.make_train_function.<locals>.train_function at 0x7fb9eba7a4c0> triggered tf.function retracing. Tracing is expensive and the excessive number of tracings could be due to (1) creating @tf.function repeatedly in a loop, (2) passing tensors with different shapes, (3) passing Python objects instead of tensors. For (1), please define your @tf.function outside of the loop. For (2), @tf.function has reduce_retracing=True option that can avoid unnecessary retracing. For (3), please refer to https://www.tensorflow.org/guide/function#controlling_retracing and https://www.tensorflow.org/api_docs/python/tf/function for  more details.\n",
      "WARNING:tensorflow:5 out of the last 9 calls to <function Model.make_train_function.<locals>.train_function at 0x7f82cdf7b4c0> triggered tf.function retracing. Tracing is expensive and the excessive number of tracings could be due to (1) creating @tf.function repeatedly in a loop, (2) passing tensors with different shapes, (3) passing Python objects instead of tensors. For (1), please define your @tf.function outside of the loop. For (2), @tf.function has reduce_retracing=True option that can avoid unnecessary retracing. For (3), please refer to https://www.tensorflow.org/guide/function#controlling_retracing and https://www.tensorflow.org/api_docs/python/tf/function for  more details.\n",
      "WARNING:tensorflow:5 out of the last 9 calls to <function Model.make_train_function.<locals>.train_function at 0x7f7d3bb024c0> triggered tf.function retracing. Tracing is expensive and the excessive number of tracings could be due to (1) creating @tf.function repeatedly in a loop, (2) passing tensors with different shapes, (3) passing Python objects instead of tensors. For (1), please define your @tf.function outside of the loop. For (2), @tf.function has reduce_retracing=True option that can avoid unnecessary retracing. For (3), please refer to https://www.tensorflow.org/guide/function#controlling_retracing and https://www.tensorflow.org/api_docs/python/tf/function for  more details.\n"
     ]
    },
    {
     "name": "stdout",
     "output_type": "stream",
     "text": [
      "1/2 [==============>...............] - ETA: 0s - loss: 7.3605"
     ]
    },
    {
     "name": "stderr",
     "output_type": "stream",
     "text": [
      "WARNING:tensorflow:5 out of the last 5 calls to <function Model.make_test_function.<locals>.test_function at 0x7fa7386c1550> triggered tf.function retracing. Tracing is expensive and the excessive number of tracings could be due to (1) creating @tf.function repeatedly in a loop, (2) passing tensors with different shapes, (3) passing Python objects instead of tensors. For (1), please define your @tf.function outside of the loop. For (2), @tf.function has reduce_retracing=True option that can avoid unnecessary retracing. For (3), please refer to https://www.tensorflow.org/guide/function#controlling_retracing and https://www.tensorflow.org/api_docs/python/tf/function for  more details.\n",
      "WARNING:tensorflow:5 out of the last 5 calls to <function Model.make_test_function.<locals>.test_function at 0x7fe63aebe550> triggered tf.function retracing. Tracing is expensive and the excessive number of tracings could be due to (1) creating @tf.function repeatedly in a loop, (2) passing tensors with different shapes, (3) passing Python objects instead of tensors. For (1), please define your @tf.function outside of the loop. For (2), @tf.function has reduce_retracing=True option that can avoid unnecessary retracing. For (3), please refer to https://www.tensorflow.org/guide/function#controlling_retracing and https://www.tensorflow.org/api_docs/python/tf/function for  more details.\n",
      "WARNING:tensorflow:5 out of the last 5 calls to <function Model.make_test_function.<locals>.test_function at 0x7f9b4cc07550> triggered tf.function retracing. Tracing is expensive and the excessive number of tracings could be due to (1) creating @tf.function repeatedly in a loop, (2) passing tensors with different shapes, (3) passing Python objects instead of tensors. For (1), please define your @tf.function outside of the loop. For (2), @tf.function has reduce_retracing=True option that can avoid unnecessary retracing. For (3), please refer to https://www.tensorflow.org/guide/function#controlling_retracing and https://www.tensorflow.org/api_docs/python/tf/function for  more details.\n",
      "WARNING:tensorflow:5 out of the last 9 calls to <function Model.make_train_function.<locals>.train_function at 0x7fe5ad1424c0> triggered tf.function retracing. Tracing is expensive and the excessive number of tracings could be due to (1) creating @tf.function repeatedly in a loop, (2) passing tensors with different shapes, (3) passing Python objects instead of tensors. For (1), please define your @tf.function outside of the loop. For (2), @tf.function has reduce_retracing=True option that can avoid unnecessary retracing. For (3), please refer to https://www.tensorflow.org/guide/function#controlling_retracing and https://www.tensorflow.org/api_docs/python/tf/function for  more details.\n",
      "WARNING:tensorflow:5 out of the last 5 calls to <function Model.make_test_function.<locals>.test_function at 0x7f7a66c84550> triggered tf.function retracing. Tracing is expensive and the excessive number of tracings could be due to (1) creating @tf.function repeatedly in a loop, (2) passing tensors with different shapes, (3) passing Python objects instead of tensors. For (1), please define your @tf.function outside of the loop. For (2), @tf.function has reduce_retracing=True option that can avoid unnecessary retracing. For (3), please refer to https://www.tensorflow.org/guide/function#controlling_retracing and https://www.tensorflow.org/api_docs/python/tf/function for  more details.\n",
      "WARNING:tensorflow:5 out of the last 5 calls to <function Model.make_predict_function.<locals>.predict_function at 0x7fe63aebedc0> triggered tf.function retracing. Tracing is expensive and the excessive number of tracings could be due to (1) creating @tf.function repeatedly in a loop, (2) passing tensors with different shapes, (3) passing Python objects instead of tensors. For (1), please define your @tf.function outside of the loop. For (2), @tf.function has reduce_retracing=True option that can avoid unnecessary retracing. For (3), please refer to https://www.tensorflow.org/guide/function#controlling_retracing and https://www.tensorflow.org/api_docs/python/tf/function for  more details.\n",
      "WARNING:tensorflow:5 out of the last 5 calls to <function Model.make_test_function.<locals>.test_function at 0x7fb9eba7adc0> triggered tf.function retracing. Tracing is expensive and the excessive number of tracings could be due to (1) creating @tf.function repeatedly in a loop, (2) passing tensors with different shapes, (3) passing Python objects instead of tensors. For (1), please define your @tf.function outside of the loop. For (2), @tf.function has reduce_retracing=True option that can avoid unnecessary retracing. For (3), please refer to https://www.tensorflow.org/guide/function#controlling_retracing and https://www.tensorflow.org/api_docs/python/tf/function for  more details.\n",
      "WARNING:tensorflow:5 out of the last 5 calls to <function Model.make_test_function.<locals>.test_function at 0x7f82cdf7bdc0> triggered tf.function retracing. Tracing is expensive and the excessive number of tracings could be due to (1) creating @tf.function repeatedly in a loop, (2) passing tensors with different shapes, (3) passing Python objects instead of tensors. For (1), please define your @tf.function outside of the loop. For (2), @tf.function has reduce_retracing=True option that can avoid unnecessary retracing. For (3), please refer to https://www.tensorflow.org/guide/function#controlling_retracing and https://www.tensorflow.org/api_docs/python/tf/function for  more details.\n",
      "WARNING:tensorflow:5 out of the last 5 calls to <function Model.make_predict_function.<locals>.predict_function at 0x7fa7386c1dc0> triggered tf.function retracing. Tracing is expensive and the excessive number of tracings could be due to (1) creating @tf.function repeatedly in a loop, (2) passing tensors with different shapes, (3) passing Python objects instead of tensors. For (1), please define your @tf.function outside of the loop. For (2), @tf.function has reduce_retracing=True option that can avoid unnecessary retracing. For (3), please refer to https://www.tensorflow.org/guide/function#controlling_retracing and https://www.tensorflow.org/api_docs/python/tf/function for  more details.\n",
      "WARNING:tensorflow:5 out of the last 5 calls to <function Model.make_test_function.<locals>.test_function at 0x7f7d3bb02dc0> triggered tf.function retracing. Tracing is expensive and the excessive number of tracings could be due to (1) creating @tf.function repeatedly in a loop, (2) passing tensors with different shapes, (3) passing Python objects instead of tensors. For (1), please define your @tf.function outside of the loop. For (2), @tf.function has reduce_retracing=True option that can avoid unnecessary retracing. For (3), please refer to https://www.tensorflow.org/guide/function#controlling_retracing and https://www.tensorflow.org/api_docs/python/tf/function for  more details.\n"
     ]
    },
    {
     "name": "stdout",
     "output_type": "stream",
     "text": [
      "2/2 [==============================] - 1s 222ms/step - loss: 5.2316 - val_loss: 1.8782\n",
      "2/2 [==============================] - 1s 227ms/step - loss: 4.6296 - val_loss: 1.8826\n",
      "2/2 [==============================] - 1s 240ms/step - loss: 4.8861 - val_loss: 2.1372\n",
      "2/2 [==============================] - 1s 246ms/step - loss: 5.0753 - val_loss: 2.1052\n",
      "1/1 [==============================] - 0s 95ms/step\n",
      "2/2 [==============================] - 1s 232ms/step - loss: 5.3300 - val_loss: 2.0396\n",
      "2/2 [==============================] - 1s 225ms/step - loss: 5.0153 - val_loss: 1.8283\n",
      "1/1 [==============================] - 0s 108ms/step\n",
      "2/2 [==============================] - 1s 224ms/step - loss: 5.2901 - val_loss: 2.1497\n"
     ]
    },
    {
     "name": "stderr",
     "output_type": "stream",
     "text": [
      "WARNING:tensorflow:5 out of the last 5 calls to <function Model.make_predict_function.<locals>.predict_function at 0x7f9b4cc07dc0> triggered tf.function retracing. Tracing is expensive and the excessive number of tracings could be due to (1) creating @tf.function repeatedly in a loop, (2) passing tensors with different shapes, (3) passing Python objects instead of tensors. For (1), please define your @tf.function outside of the loop. For (2), @tf.function has reduce_retracing=True option that can avoid unnecessary retracing. For (3), please refer to https://www.tensorflow.org/guide/function#controlling_retracing and https://www.tensorflow.org/api_docs/python/tf/function for  more details.\n",
      "/Users/pratha/opt/anaconda3/lib/python3.8/site-packages/keras/optimizers/optimizer_v2/adam.py:110: UserWarning: The `lr` argument is deprecated, use `learning_rate` instead.\n",
      "  super(Adam, self).__init__(name, **kwargs)\n",
      "/Users/pratha/opt/anaconda3/lib/python3.8/site-packages/keras/optimizers/optimizer_v2/adam.py:110: UserWarning: The `lr` argument is deprecated, use `learning_rate` instead.\n",
      "  super(Adam, self).__init__(name, **kwargs)\n",
      "WARNING:tensorflow:5 out of the last 5 calls to <function Model.make_predict_function.<locals>.predict_function at 0x7f7a66c84dc0> triggered tf.function retracing. Tracing is expensive and the excessive number of tracings could be due to (1) creating @tf.function repeatedly in a loop, (2) passing tensors with different shapes, (3) passing Python objects instead of tensors. For (1), please define your @tf.function outside of the loop. For (2), @tf.function has reduce_retracing=True option that can avoid unnecessary retracing. For (3), please refer to https://www.tensorflow.org/guide/function#controlling_retracing and https://www.tensorflow.org/api_docs/python/tf/function for  more details.\n",
      "/Users/pratha/opt/anaconda3/lib/python3.8/site-packages/keras/optimizers/optimizer_v2/adam.py:110: UserWarning: The `lr` argument is deprecated, use `learning_rate` instead.\n",
      "  super(Adam, self).__init__(name, **kwargs)\n",
      "WARNING:tensorflow:5 out of the last 5 calls to <function Model.make_predict_function.<locals>.predict_function at 0x7fb9eba7a940> triggered tf.function retracing. Tracing is expensive and the excessive number of tracings could be due to (1) creating @tf.function repeatedly in a loop, (2) passing tensors with different shapes, (3) passing Python objects instead of tensors. For (1), please define your @tf.function outside of the loop. For (2), @tf.function has reduce_retracing=True option that can avoid unnecessary retracing. For (3), please refer to https://www.tensorflow.org/guide/function#controlling_retracing and https://www.tensorflow.org/api_docs/python/tf/function for  more details.\n",
      "WARNING:tensorflow:5 out of the last 5 calls to <function Model.make_predict_function.<locals>.predict_function at 0x7f82cdf7b940> triggered tf.function retracing. Tracing is expensive and the excessive number of tracings could be due to (1) creating @tf.function repeatedly in a loop, (2) passing tensors with different shapes, (3) passing Python objects instead of tensors. For (1), please define your @tf.function outside of the loop. For (2), @tf.function has reduce_retracing=True option that can avoid unnecessary retracing. For (3), please refer to https://www.tensorflow.org/guide/function#controlling_retracing and https://www.tensorflow.org/api_docs/python/tf/function for  more details.\n",
      "WARNING:tensorflow:5 out of the last 5 calls to <function Model.make_test_function.<locals>.test_function at 0x7fe5ad142dc0> triggered tf.function retracing. Tracing is expensive and the excessive number of tracings could be due to (1) creating @tf.function repeatedly in a loop, (2) passing tensors with different shapes, (3) passing Python objects instead of tensors. For (1), please define your @tf.function outside of the loop. For (2), @tf.function has reduce_retracing=True option that can avoid unnecessary retracing. For (3), please refer to https://www.tensorflow.org/guide/function#controlling_retracing and https://www.tensorflow.org/api_docs/python/tf/function for  more details.\n",
      "WARNING:tensorflow:5 out of the last 5 calls to <function Model.make_predict_function.<locals>.predict_function at 0x7f7d3bb02940> triggered tf.function retracing. Tracing is expensive and the excessive number of tracings could be due to (1) creating @tf.function repeatedly in a loop, (2) passing tensors with different shapes, (3) passing Python objects instead of tensors. For (1), please define your @tf.function outside of the loop. For (2), @tf.function has reduce_retracing=True option that can avoid unnecessary retracing. For (3), please refer to https://www.tensorflow.org/guide/function#controlling_retracing and https://www.tensorflow.org/api_docs/python/tf/function for  more details.\n",
      "/Users/pratha/opt/anaconda3/lib/python3.8/site-packages/keras/optimizers/optimizer_v2/adam.py:110: UserWarning: The `lr` argument is deprecated, use `learning_rate` instead.\n",
      "  super(Adam, self).__init__(name, **kwargs)\n",
      "/Users/pratha/opt/anaconda3/lib/python3.8/site-packages/keras/optimizers/optimizer_v2/adam.py:110: UserWarning: The `lr` argument is deprecated, use `learning_rate` instead.\n",
      "  super(Adam, self).__init__(name, **kwargs)\n",
      "/Users/pratha/opt/anaconda3/lib/python3.8/site-packages/keras/optimizers/optimizer_v2/adam.py:110: UserWarning: The `lr` argument is deprecated, use `learning_rate` instead.\n",
      "  super(Adam, self).__init__(name, **kwargs)\n",
      "/Users/pratha/opt/anaconda3/lib/python3.8/site-packages/keras/optimizers/optimizer_v2/adam.py:110: UserWarning: The `lr` argument is deprecated, use `learning_rate` instead.\n",
      "  super(Adam, self).__init__(name, **kwargs)\n"
     ]
    },
    {
     "name": "stdout",
     "output_type": "stream",
     "text": [
      "1/1 [==============================] - 0s 104ms/step\n",
      "1/1 [==============================] - 0s 103ms/step\n",
      "1/1 [==============================] - 0s 105ms/step\n",
      "1/1 [==============================] - 0s 104ms/step\n",
      "2/2 [==============================] - 1s 220ms/step - loss: 5.0339 - val_loss: 2.0761\n",
      "1/1 [==============================] - 0s 102ms/step\n"
     ]
    },
    {
     "name": "stderr",
     "output_type": "stream",
     "text": [
      "WARNING:tensorflow:5 out of the last 5 calls to <function Model.make_predict_function.<locals>.predict_function at 0x7fe5ad142940> triggered tf.function retracing. Tracing is expensive and the excessive number of tracings could be due to (1) creating @tf.function repeatedly in a loop, (2) passing tensors with different shapes, (3) passing Python objects instead of tensors. For (1), please define your @tf.function outside of the loop. For (2), @tf.function has reduce_retracing=True option that can avoid unnecessary retracing. For (3), please refer to https://www.tensorflow.org/guide/function#controlling_retracing and https://www.tensorflow.org/api_docs/python/tf/function for  more details.\n",
      "/Users/pratha/opt/anaconda3/lib/python3.8/site-packages/keras/optimizers/optimizer_v2/adam.py:110: UserWarning: The `lr` argument is deprecated, use `learning_rate` instead.\n",
      "  super(Adam, self).__init__(name, **kwargs)\n"
     ]
    },
    {
     "name": "stdout",
     "output_type": "stream",
     "text": [
      "1/1 [==============================] - 0s 119ms/step\n"
     ]
    },
    {
     "name": "stderr",
     "output_type": "stream",
     "text": [
      "WARNING:tensorflow:6 out of the last 11 calls to <function Model.make_train_function.<locals>.train_function at 0x7fe61c02a4c0> triggered tf.function retracing. Tracing is expensive and the excessive number of tracings could be due to (1) creating @tf.function repeatedly in a loop, (2) passing tensors with different shapes, (3) passing Python objects instead of tensors. For (1), please define your @tf.function outside of the loop. For (2), @tf.function has reduce_retracing=True option that can avoid unnecessary retracing. For (3), please refer to https://www.tensorflow.org/guide/function#controlling_retracing and https://www.tensorflow.org/api_docs/python/tf/function for  more details.\n",
      "WARNING:tensorflow:6 out of the last 11 calls to <function Model.make_train_function.<locals>.train_function at 0x7fa7395664c0> triggered tf.function retracing. Tracing is expensive and the excessive number of tracings could be due to (1) creating @tf.function repeatedly in a loop, (2) passing tensors with different shapes, (3) passing Python objects instead of tensors. For (1), please define your @tf.function outside of the loop. For (2), @tf.function has reduce_retracing=True option that can avoid unnecessary retracing. For (3), please refer to https://www.tensorflow.org/guide/function#controlling_retracing and https://www.tensorflow.org/api_docs/python/tf/function for  more details.\n",
      "WARNING:tensorflow:6 out of the last 11 calls to <function Model.make_train_function.<locals>.train_function at 0x7f9b4dda44c0> triggered tf.function retracing. Tracing is expensive and the excessive number of tracings could be due to (1) creating @tf.function repeatedly in a loop, (2) passing tensors with different shapes, (3) passing Python objects instead of tensors. For (1), please define your @tf.function outside of the loop. For (2), @tf.function has reduce_retracing=True option that can avoid unnecessary retracing. For (3), please refer to https://www.tensorflow.org/guide/function#controlling_retracing and https://www.tensorflow.org/api_docs/python/tf/function for  more details.\n",
      "WARNING:tensorflow:6 out of the last 11 calls to <function Model.make_train_function.<locals>.train_function at 0x7f7a6547a4c0> triggered tf.function retracing. Tracing is expensive and the excessive number of tracings could be due to (1) creating @tf.function repeatedly in a loop, (2) passing tensors with different shapes, (3) passing Python objects instead of tensors. For (1), please define your @tf.function outside of the loop. For (2), @tf.function has reduce_retracing=True option that can avoid unnecessary retracing. For (3), please refer to https://www.tensorflow.org/guide/function#controlling_retracing and https://www.tensorflow.org/api_docs/python/tf/function for  more details.\n",
      "WARNING:tensorflow:6 out of the last 11 calls to <function Model.make_train_function.<locals>.train_function at 0x7f7d1cf4f1f0> triggered tf.function retracing. Tracing is expensive and the excessive number of tracings could be due to (1) creating @tf.function repeatedly in a loop, (2) passing tensors with different shapes, (3) passing Python objects instead of tensors. For (1), please define your @tf.function outside of the loop. For (2), @tf.function has reduce_retracing=True option that can avoid unnecessary retracing. For (3), please refer to https://www.tensorflow.org/guide/function#controlling_retracing and https://www.tensorflow.org/api_docs/python/tf/function for  more details.\n",
      "WARNING:tensorflow:6 out of the last 11 calls to <function Model.make_train_function.<locals>.train_function at 0x7fb9cd12c1f0> triggered tf.function retracing. Tracing is expensive and the excessive number of tracings could be due to (1) creating @tf.function repeatedly in a loop, (2) passing tensors with different shapes, (3) passing Python objects instead of tensors. For (1), please define your @tf.function outside of the loop. For (2), @tf.function has reduce_retracing=True option that can avoid unnecessary retracing. For (3), please refer to https://www.tensorflow.org/guide/function#controlling_retracing and https://www.tensorflow.org/api_docs/python/tf/function for  more details.\n",
      "WARNING:tensorflow:6 out of the last 11 calls to <function Model.make_train_function.<locals>.train_function at 0x7f82af9701f0> triggered tf.function retracing. Tracing is expensive and the excessive number of tracings could be due to (1) creating @tf.function repeatedly in a loop, (2) passing tensors with different shapes, (3) passing Python objects instead of tensors. For (1), please define your @tf.function outside of the loop. For (2), @tf.function has reduce_retracing=True option that can avoid unnecessary retracing. For (3), please refer to https://www.tensorflow.org/guide/function#controlling_retracing and https://www.tensorflow.org/api_docs/python/tf/function for  more details.\n"
     ]
    },
    {
     "name": "stdout",
     "output_type": "stream",
     "text": [
      "1/2 [==============>...............] - ETA: 0s - loss: 6.7044"
     ]
    },
    {
     "name": "stderr",
     "output_type": "stream",
     "text": [
      "WARNING:tensorflow:6 out of the last 6 calls to <function Model.make_test_function.<locals>.test_function at 0x7fe61c02a8b0> triggered tf.function retracing. Tracing is expensive and the excessive number of tracings could be due to (1) creating @tf.function repeatedly in a loop, (2) passing tensors with different shapes, (3) passing Python objects instead of tensors. For (1), please define your @tf.function outside of the loop. For (2), @tf.function has reduce_retracing=True option that can avoid unnecessary retracing. For (3), please refer to https://www.tensorflow.org/guide/function#controlling_retracing and https://www.tensorflow.org/api_docs/python/tf/function for  more details.\n",
      "WARNING:tensorflow:6 out of the last 6 calls to <function Model.make_test_function.<locals>.test_function at 0x7fa7395668b0> triggered tf.function retracing. Tracing is expensive and the excessive number of tracings could be due to (1) creating @tf.function repeatedly in a loop, (2) passing tensors with different shapes, (3) passing Python objects instead of tensors. For (1), please define your @tf.function outside of the loop. For (2), @tf.function has reduce_retracing=True option that can avoid unnecessary retracing. For (3), please refer to https://www.tensorflow.org/guide/function#controlling_retracing and https://www.tensorflow.org/api_docs/python/tf/function for  more details.\n",
      "WARNING:tensorflow:6 out of the last 6 calls to <function Model.make_test_function.<locals>.test_function at 0x7f9b4dda48b0> triggered tf.function retracing. Tracing is expensive and the excessive number of tracings could be due to (1) creating @tf.function repeatedly in a loop, (2) passing tensors with different shapes, (3) passing Python objects instead of tensors. For (1), please define your @tf.function outside of the loop. For (2), @tf.function has reduce_retracing=True option that can avoid unnecessary retracing. For (3), please refer to https://www.tensorflow.org/guide/function#controlling_retracing and https://www.tensorflow.org/api_docs/python/tf/function for  more details.\n",
      "WARNING:tensorflow:6 out of the last 6 calls to <function Model.make_test_function.<locals>.test_function at 0x7f7a6547a8b0> triggered tf.function retracing. Tracing is expensive and the excessive number of tracings could be due to (1) creating @tf.function repeatedly in a loop, (2) passing tensors with different shapes, (3) passing Python objects instead of tensors. For (1), please define your @tf.function outside of the loop. For (2), @tf.function has reduce_retracing=True option that can avoid unnecessary retracing. For (3), please refer to https://www.tensorflow.org/guide/function#controlling_retracing and https://www.tensorflow.org/api_docs/python/tf/function for  more details.\n",
      "WARNING:tensorflow:6 out of the last 11 calls to <function Model.make_train_function.<locals>.train_function at 0x7fe58eb231f0> triggered tf.function retracing. Tracing is expensive and the excessive number of tracings could be due to (1) creating @tf.function repeatedly in a loop, (2) passing tensors with different shapes, (3) passing Python objects instead of tensors. For (1), please define your @tf.function outside of the loop. For (2), @tf.function has reduce_retracing=True option that can avoid unnecessary retracing. For (3), please refer to https://www.tensorflow.org/guide/function#controlling_retracing and https://www.tensorflow.org/api_docs/python/tf/function for  more details.\n",
      "WARNING:tensorflow:6 out of the last 6 calls to <function Model.make_test_function.<locals>.test_function at 0x7f7d1cf4fee0> triggered tf.function retracing. Tracing is expensive and the excessive number of tracings could be due to (1) creating @tf.function repeatedly in a loop, (2) passing tensors with different shapes, (3) passing Python objects instead of tensors. For (1), please define your @tf.function outside of the loop. For (2), @tf.function has reduce_retracing=True option that can avoid unnecessary retracing. For (3), please refer to https://www.tensorflow.org/guide/function#controlling_retracing and https://www.tensorflow.org/api_docs/python/tf/function for  more details.\n",
      "WARNING:tensorflow:6 out of the last 6 calls to <function Model.make_predict_function.<locals>.predict_function at 0x7fe61c1dbaf0> triggered tf.function retracing. Tracing is expensive and the excessive number of tracings could be due to (1) creating @tf.function repeatedly in a loop, (2) passing tensors with different shapes, (3) passing Python objects instead of tensors. For (1), please define your @tf.function outside of the loop. For (2), @tf.function has reduce_retracing=True option that can avoid unnecessary retracing. For (3), please refer to https://www.tensorflow.org/guide/function#controlling_retracing and https://www.tensorflow.org/api_docs/python/tf/function for  more details.\n",
      "WARNING:tensorflow:6 out of the last 6 calls to <function Model.make_test_function.<locals>.test_function at 0x7fb9cd12cee0> triggered tf.function retracing. Tracing is expensive and the excessive number of tracings could be due to (1) creating @tf.function repeatedly in a loop, (2) passing tensors with different shapes, (3) passing Python objects instead of tensors. For (1), please define your @tf.function outside of the loop. For (2), @tf.function has reduce_retracing=True option that can avoid unnecessary retracing. For (3), please refer to https://www.tensorflow.org/guide/function#controlling_retracing and https://www.tensorflow.org/api_docs/python/tf/function for  more details.\n",
      "WARNING:tensorflow:6 out of the last 6 calls to <function Model.make_test_function.<locals>.test_function at 0x7f82af970ee0> triggered tf.function retracing. Tracing is expensive and the excessive number of tracings could be due to (1) creating @tf.function repeatedly in a loop, (2) passing tensors with different shapes, (3) passing Python objects instead of tensors. For (1), please define your @tf.function outside of the loop. For (2), @tf.function has reduce_retracing=True option that can avoid unnecessary retracing. For (3), please refer to https://www.tensorflow.org/guide/function#controlling_retracing and https://www.tensorflow.org/api_docs/python/tf/function for  more details.\n"
     ]
    },
    {
     "name": "stdout",
     "output_type": "stream",
     "text": [
      "2/2 [==============================] - 1s 253ms/step - loss: 5.1790 - val_loss: 1.3438\n",
      "2/2 [==============================] - 1s 303ms/step - loss: 6.5465 - val_loss: 2.5622\n",
      "2/2 [==============================] - 1s 274ms/step - loss: 6.2675 - val_loss: 2.4755\n",
      "2/2 [==============================] - 1s 260ms/step - loss: 5.9384 - val_loss: 1.8390\n",
      "2/2 [==============================] - 1s 258ms/step - loss: 5.2703 - val_loss: 0.9712\n",
      "1/1 [==============================] - 0s 107ms/step\n",
      "2/2 [==============================] - 1s 255ms/step - loss: 5.4497 - val_loss: 1.6498\n",
      "2/2 [==============================] - 1s 234ms/step - loss: 5.7773 - val_loss: 1.1924\n"
     ]
    },
    {
     "name": "stderr",
     "output_type": "stream",
     "text": [
      "WARNING:tensorflow:6 out of the last 6 calls to <function Model.make_predict_function.<locals>.predict_function at 0x7fa719721af0> triggered tf.function retracing. Tracing is expensive and the excessive number of tracings could be due to (1) creating @tf.function repeatedly in a loop, (2) passing tensors with different shapes, (3) passing Python objects instead of tensors. For (1), please define your @tf.function outside of the loop. For (2), @tf.function has reduce_retracing=True option that can avoid unnecessary retracing. For (3), please refer to https://www.tensorflow.org/guide/function#controlling_retracing and https://www.tensorflow.org/api_docs/python/tf/function for  more details.\n",
      "/Users/pratha/opt/anaconda3/lib/python3.8/site-packages/keras/optimizers/optimizer_v2/adam.py:110: UserWarning: The `lr` argument is deprecated, use `learning_rate` instead.\n",
      "  super(Adam, self).__init__(name, **kwargs)\n",
      "WARNING:tensorflow:6 out of the last 6 calls to <function Model.make_predict_function.<locals>.predict_function at 0x7f9b2df60af0> triggered tf.function retracing. Tracing is expensive and the excessive number of tracings could be due to (1) creating @tf.function repeatedly in a loop, (2) passing tensors with different shapes, (3) passing Python objects instead of tensors. For (1), please define your @tf.function outside of the loop. For (2), @tf.function has reduce_retracing=True option that can avoid unnecessary retracing. For (3), please refer to https://www.tensorflow.org/guide/function#controlling_retracing and https://www.tensorflow.org/api_docs/python/tf/function for  more details.\n",
      "/Users/pratha/opt/anaconda3/lib/python3.8/site-packages/keras/optimizers/optimizer_v2/adam.py:110: UserWarning: The `lr` argument is deprecated, use `learning_rate` instead.\n",
      "  super(Adam, self).__init__(name, **kwargs)\n",
      "WARNING:tensorflow:6 out of the last 6 calls to <function Model.make_predict_function.<locals>.predict_function at 0x7f7a67dbeaf0> triggered tf.function retracing. Tracing is expensive and the excessive number of tracings could be due to (1) creating @tf.function repeatedly in a loop, (2) passing tensors with different shapes, (3) passing Python objects instead of tensors. For (1), please define your @tf.function outside of the loop. For (2), @tf.function has reduce_retracing=True option that can avoid unnecessary retracing. For (3), please refer to https://www.tensorflow.org/guide/function#controlling_retracing and https://www.tensorflow.org/api_docs/python/tf/function for  more details.\n",
      "WARNING:tensorflow:6 out of the last 6 calls to <function Model.make_predict_function.<locals>.predict_function at 0x7f7d1d0a5280> triggered tf.function retracing. Tracing is expensive and the excessive number of tracings could be due to (1) creating @tf.function repeatedly in a loop, (2) passing tensors with different shapes, (3) passing Python objects instead of tensors. For (1), please define your @tf.function outside of the loop. For (2), @tf.function has reduce_retracing=True option that can avoid unnecessary retracing. For (3), please refer to https://www.tensorflow.org/guide/function#controlling_retracing and https://www.tensorflow.org/api_docs/python/tf/function for  more details.\n",
      "/Users/pratha/opt/anaconda3/lib/python3.8/site-packages/keras/optimizers/optimizer_v2/adam.py:110: UserWarning: The `lr` argument is deprecated, use `learning_rate` instead.\n",
      "  super(Adam, self).__init__(name, **kwargs)\n",
      "WARNING:tensorflow:6 out of the last 6 calls to <function Model.make_predict_function.<locals>.predict_function at 0x7f82afd84280> triggered tf.function retracing. Tracing is expensive and the excessive number of tracings could be due to (1) creating @tf.function repeatedly in a loop, (2) passing tensors with different shapes, (3) passing Python objects instead of tensors. For (1), please define your @tf.function outside of the loop. For (2), @tf.function has reduce_retracing=True option that can avoid unnecessary retracing. For (3), please refer to https://www.tensorflow.org/guide/function#controlling_retracing and https://www.tensorflow.org/api_docs/python/tf/function for  more details.\n",
      "WARNING:tensorflow:6 out of the last 6 calls to <function Model.make_predict_function.<locals>.predict_function at 0x7fb9cd754280> triggered tf.function retracing. Tracing is expensive and the excessive number of tracings could be due to (1) creating @tf.function repeatedly in a loop, (2) passing tensors with different shapes, (3) passing Python objects instead of tensors. For (1), please define your @tf.function outside of the loop. For (2), @tf.function has reduce_retracing=True option that can avoid unnecessary retracing. For (3), please refer to https://www.tensorflow.org/guide/function#controlling_retracing and https://www.tensorflow.org/api_docs/python/tf/function for  more details.\n"
     ]
    },
    {
     "name": "stdout",
     "output_type": "stream",
     "text": [
      "1/1 [==============================] - 0s 99ms/step\n",
      "1/1 [==============================] - 0s 114ms/step\n",
      "1/1 [==============================] - 0s 136ms/step\n",
      "1/1 [==============================] - 0s 126ms/step\n",
      "1/1 [==============================] - 0s 142ms/step\n",
      "1/1 [==============================] - 0s 135ms/step\n"
     ]
    },
    {
     "name": "stderr",
     "output_type": "stream",
     "text": [
      "WARNING:tensorflow:6 out of the last 6 calls to <function Model.make_test_function.<locals>.test_function at 0x7fe58eb23ee0> triggered tf.function retracing. Tracing is expensive and the excessive number of tracings could be due to (1) creating @tf.function repeatedly in a loop, (2) passing tensors with different shapes, (3) passing Python objects instead of tensors. For (1), please define your @tf.function outside of the loop. For (2), @tf.function has reduce_retracing=True option that can avoid unnecessary retracing. For (3), please refer to https://www.tensorflow.org/guide/function#controlling_retracing and https://www.tensorflow.org/api_docs/python/tf/function for  more details.\n",
      "/Users/pratha/opt/anaconda3/lib/python3.8/site-packages/keras/optimizers/optimizer_v2/adam.py:110: UserWarning: The `lr` argument is deprecated, use `learning_rate` instead.\n",
      "  super(Adam, self).__init__(name, **kwargs)\n",
      "/Users/pratha/opt/anaconda3/lib/python3.8/site-packages/keras/optimizers/optimizer_v2/adam.py:110: UserWarning: The `lr` argument is deprecated, use `learning_rate` instead.\n",
      "  super(Adam, self).__init__(name, **kwargs)\n",
      "/Users/pratha/opt/anaconda3/lib/python3.8/site-packages/keras/optimizers/optimizer_v2/adam.py:110: UserWarning: The `lr` argument is deprecated, use `learning_rate` instead.\n",
      "  super(Adam, self).__init__(name, **kwargs)\n",
      "/Users/pratha/opt/anaconda3/lib/python3.8/site-packages/keras/optimizers/optimizer_v2/adam.py:110: UserWarning: The `lr` argument is deprecated, use `learning_rate` instead.\n",
      "  super(Adam, self).__init__(name, **kwargs)\n"
     ]
    },
    {
     "name": "stdout",
     "output_type": "stream",
     "text": [
      "2/2 [==============================] - 1s 313ms/step - loss: 6.2889 - val_loss: 1.7548\n"
     ]
    },
    {
     "name": "stderr",
     "output_type": "stream",
     "text": [
      "WARNING:tensorflow:6 out of the last 6 calls to <function Model.make_predict_function.<locals>.predict_function at 0x7fe58ef38280> triggered tf.function retracing. Tracing is expensive and the excessive number of tracings could be due to (1) creating @tf.function repeatedly in a loop, (2) passing tensors with different shapes, (3) passing Python objects instead of tensors. For (1), please define your @tf.function outside of the loop. For (2), @tf.function has reduce_retracing=True option that can avoid unnecessary retracing. For (3), please refer to https://www.tensorflow.org/guide/function#controlling_retracing and https://www.tensorflow.org/api_docs/python/tf/function for  more details.\n",
      "/Users/pratha/opt/anaconda3/lib/python3.8/site-packages/keras/optimizers/optimizer_v2/adam.py:110: UserWarning: The `lr` argument is deprecated, use `learning_rate` instead.\n",
      "  super(Adam, self).__init__(name, **kwargs)\n"
     ]
    },
    {
     "name": "stdout",
     "output_type": "stream",
     "text": [
      "1/1 [==============================] - 0s 171ms/step\n",
      "2/2 [==============================] - 1s 446ms/step - loss: 5.0593 - val_loss: 1.3986\n",
      "2/2 [==============================] - 1s 327ms/step - loss: 5.1350 - val_loss: 1.5360\n",
      "2/2 [==============================] - 1s 343ms/step - loss: 4.9240 - val_loss: 1.6296\n",
      "2/2 [==============================] - 1s 339ms/step - loss: 4.9260 - val_loss: 1.5787\n",
      "2/2 [==============================] - 1s 376ms/step - loss: 5.2550 - val_loss: 1.6199\n",
      "1/1 [==============================] - 0s 220ms/step\n",
      "2/2 [==============================] - 1s 394ms/step - loss: 4.2531 - val_loss: 2.3655\n",
      "2/2 [==============================] - 1s 390ms/step - loss: 5.1931 - val_loss: 1.8360\n",
      "1/1 [==============================] - 0s 237ms/step\n",
      "1/2 [==============>...............] - ETA: 1s - loss: 8.1112"
     ]
    },
    {
     "name": "stderr",
     "output_type": "stream",
     "text": [
      "/Users/pratha/opt/anaconda3/lib/python3.8/site-packages/keras/optimizers/optimizer_v2/adam.py:110: UserWarning: The `lr` argument is deprecated, use `learning_rate` instead.\n",
      "  super(Adam, self).__init__(name, **kwargs)\n",
      "/Users/pratha/opt/anaconda3/lib/python3.8/site-packages/keras/optimizers/optimizer_v2/adam.py:110: UserWarning: The `lr` argument is deprecated, use `learning_rate` instead.\n",
      "  super(Adam, self).__init__(name, **kwargs)\n"
     ]
    },
    {
     "name": "stdout",
     "output_type": "stream",
     "text": [
      "1/1 [==============================] - 0s 250ms/step\n",
      "1/1 [==============================] - 0s 199ms/step\n",
      "1/1 [==============================] - 0s 207ms/step\n",
      "1/1 [==============================] - 0s 229ms/step\n",
      "1/1 [==============================] - 0s 225ms/step\n"
     ]
    },
    {
     "name": "stderr",
     "output_type": "stream",
     "text": [
      "/Users/pratha/opt/anaconda3/lib/python3.8/site-packages/keras/optimizers/optimizer_v2/adam.py:110: UserWarning: The `lr` argument is deprecated, use `learning_rate` instead.\n",
      "  super(Adam, self).__init__(name, **kwargs)\n",
      "/Users/pratha/opt/anaconda3/lib/python3.8/site-packages/keras/optimizers/optimizer_v2/adam.py:110: UserWarning: The `lr` argument is deprecated, use `learning_rate` instead.\n",
      "  super(Adam, self).__init__(name, **kwargs)\n",
      "/Users/pratha/opt/anaconda3/lib/python3.8/site-packages/keras/optimizers/optimizer_v2/adam.py:110: UserWarning: The `lr` argument is deprecated, use `learning_rate` instead.\n",
      "  super(Adam, self).__init__(name, **kwargs)\n",
      "/Users/pratha/opt/anaconda3/lib/python3.8/site-packages/keras/optimizers/optimizer_v2/adam.py:110: UserWarning: The `lr` argument is deprecated, use `learning_rate` instead.\n",
      "  super(Adam, self).__init__(name, **kwargs)\n",
      "/Users/pratha/opt/anaconda3/lib/python3.8/site-packages/keras/optimizers/optimizer_v2/adam.py:110: UserWarning: The `lr` argument is deprecated, use `learning_rate` instead.\n",
      "  super(Adam, self).__init__(name, **kwargs)\n"
     ]
    },
    {
     "name": "stdout",
     "output_type": "stream",
     "text": [
      "2/2 [==============================] - 2s 449ms/step - loss: 5.7361 - val_loss: 1.5567\n",
      "1/1 [==============================] - 0s 192ms/step\n"
     ]
    },
    {
     "name": "stderr",
     "output_type": "stream",
     "text": [
      "/Users/pratha/opt/anaconda3/lib/python3.8/site-packages/keras/optimizers/optimizer_v2/adam.py:110: UserWarning: The `lr` argument is deprecated, use `learning_rate` instead.\n",
      "  super(Adam, self).__init__(name, **kwargs)\n"
     ]
    },
    {
     "name": "stdout",
     "output_type": "stream",
     "text": [
      "2/2 [==============================] - 2s 492ms/step - loss: 4.4722 - val_loss: 2.0464\n",
      "2/2 [==============================] - 2s 514ms/step - loss: 4.9103 - val_loss: 2.1102\n",
      "2/2 [==============================] - 2s 426ms/step - loss: 5.1168 - val_loss: 2.4955\n",
      "2/2 [==============================] - 2s 389ms/step - loss: 4.6517 - val_loss: 2.6296\n",
      "1/1 [==============================] - 0s 179ms/step\n",
      "1/1 [==============================] - 0s 225ms/step\n",
      "2/2 [==============================] - 2s 528ms/step - loss: 6.0662 - val_loss: 2.0706\n",
      "2/2 [==============================] - 2s 537ms/step - loss: 5.7718 - val_loss: 1.9284\n",
      "1/1 [==============================] - 0s 318ms/step\n",
      "2/2 [==============================] - 2s 518ms/step - loss: 5.9826 - val_loss: 1.8261\n",
      "1/2 [==============>...............] - ETA: 1s - loss: 6.8892"
     ]
    },
    {
     "name": "stderr",
     "output_type": "stream",
     "text": [
      "/Users/pratha/opt/anaconda3/lib/python3.8/site-packages/keras/optimizers/optimizer_v2/adam.py:110: UserWarning: The `lr` argument is deprecated, use `learning_rate` instead.\n",
      "  super(Adam, self).__init__(name, **kwargs)\n",
      "/Users/pratha/opt/anaconda3/lib/python3.8/site-packages/keras/optimizers/optimizer_v2/adam.py:110: UserWarning: The `lr` argument is deprecated, use `learning_rate` instead.\n",
      "  super(Adam, self).__init__(name, **kwargs)\n"
     ]
    },
    {
     "name": "stdout",
     "output_type": "stream",
     "text": [
      "1/1 [==============================] - 0s 218ms/step\n",
      "1/1 [==============================] - 0s 231ms/step\n",
      "1/1 [==============================] - 0s 238ms/step\n",
      "1/1 [==============================] - 0s 204ms/step\n"
     ]
    },
    {
     "name": "stderr",
     "output_type": "stream",
     "text": [
      "/Users/pratha/opt/anaconda3/lib/python3.8/site-packages/keras/optimizers/optimizer_v2/adam.py:110: UserWarning: The `lr` argument is deprecated, use `learning_rate` instead.\n",
      "  super(Adam, self).__init__(name, **kwargs)\n",
      "/Users/pratha/opt/anaconda3/lib/python3.8/site-packages/keras/optimizers/optimizer_v2/adam.py:110: UserWarning: The `lr` argument is deprecated, use `learning_rate` instead.\n",
      "  super(Adam, self).__init__(name, **kwargs)\n",
      "/Users/pratha/opt/anaconda3/lib/python3.8/site-packages/keras/optimizers/optimizer_v2/adam.py:110: UserWarning: The `lr` argument is deprecated, use `learning_rate` instead.\n",
      "  super(Adam, self).__init__(name, **kwargs)\n",
      "/Users/pratha/opt/anaconda3/lib/python3.8/site-packages/keras/optimizers/optimizer_v2/adam.py:110: UserWarning: The `lr` argument is deprecated, use `learning_rate` instead.\n",
      "  super(Adam, self).__init__(name, **kwargs)\n",
      "/Users/pratha/opt/anaconda3/lib/python3.8/site-packages/keras/optimizers/optimizer_v2/adam.py:110: UserWarning: The `lr` argument is deprecated, use `learning_rate` instead.\n",
      "  super(Adam, self).__init__(name, **kwargs)\n"
     ]
    },
    {
     "name": "stdout",
     "output_type": "stream",
     "text": [
      "2/2 [==============================] - 2s 566ms/step - loss: 5.8863 - val_loss: 1.9078\n",
      "1/1 [==============================] - 0s 214ms/step\n"
     ]
    },
    {
     "name": "stderr",
     "output_type": "stream",
     "text": [
      "/Users/pratha/opt/anaconda3/lib/python3.8/site-packages/keras/optimizers/optimizer_v2/adam.py:110: UserWarning: The `lr` argument is deprecated, use `learning_rate` instead.\n",
      "  super(Adam, self).__init__(name, **kwargs)\n"
     ]
    },
    {
     "name": "stdout",
     "output_type": "stream",
     "text": [
      "2/2 [==============================] - 2s 337ms/step - loss: 5.4080 - val_loss: 1.2440\n",
      "2/2 [==============================] - 2s 438ms/step - loss: 5.4729 - val_loss: 1.1650\n",
      "2/2 [==============================] - 2s 439ms/step - loss: 6.1978 - val_loss: 1.3785\n",
      "1/1 [==============================] - 0s 217ms/step\n",
      "2/2 [==============================] - 2s 440ms/step - loss: 5.2367 - val_loss: 0.9381\n",
      "1/1 [==============================] - 0s 257ms/step\n",
      "2/2 [==============================] - 2s 507ms/step - loss: 6.3485 - val_loss: 1.4590\n",
      "1/1 [==============================] - 0s 246ms/step\n",
      "2/2 [==============================] - 2s 426ms/step - loss: 4.8202 - val_loss: 1.3948\n",
      "2/2 [==============================] - 2s 447ms/step - loss: 5.3318 - val_loss: 1.4250\n",
      "1/1 [==============================] - 0s 285ms/step\n"
     ]
    },
    {
     "name": "stderr",
     "output_type": "stream",
     "text": [
      "/Users/pratha/opt/anaconda3/lib/python3.8/site-packages/keras/optimizers/optimizer_v2/adam.py:110: UserWarning: The `lr` argument is deprecated, use `learning_rate` instead.\n",
      "  super(Adam, self).__init__(name, **kwargs)\n",
      "/Users/pratha/opt/anaconda3/lib/python3.8/site-packages/keras/optimizers/optimizer_v2/adam.py:110: UserWarning: The `lr` argument is deprecated, use `learning_rate` instead.\n",
      "  super(Adam, self).__init__(name, **kwargs)\n"
     ]
    },
    {
     "name": "stdout",
     "output_type": "stream",
     "text": [
      "1/2 [==============>...............] - ETA: 1s - loss: 6.8356"
     ]
    },
    {
     "name": "stderr",
     "output_type": "stream",
     "text": [
      "/Users/pratha/opt/anaconda3/lib/python3.8/site-packages/keras/optimizers/optimizer_v2/adam.py:110: UserWarning: The `lr` argument is deprecated, use `learning_rate` instead.\n",
      "  super(Adam, self).__init__(name, **kwargs)\n",
      "/Users/pratha/opt/anaconda3/lib/python3.8/site-packages/keras/optimizers/optimizer_v2/adam.py:110: UserWarning: The `lr` argument is deprecated, use `learning_rate` instead.\n",
      "  super(Adam, self).__init__(name, **kwargs)\n"
     ]
    },
    {
     "name": "stdout",
     "output_type": "stream",
     "text": [
      "1/1 [==============================] - 0s 349ms/step\n",
      "1/1 [==============================] - 0s 371ms/step\n",
      "1/1 [==============================] - 0s 377ms/step\n",
      "2/2 [==============================] - 2s 636ms/step - loss: 5.4063 - val_loss: 1.4840\n",
      "1/1 [==============================] - 0s 163ms/step\n"
     ]
    },
    {
     "name": "stderr",
     "output_type": "stream",
     "text": [
      "/Users/pratha/opt/anaconda3/lib/python3.8/site-packages/keras/optimizers/optimizer_v2/adam.py:110: UserWarning: The `lr` argument is deprecated, use `learning_rate` instead.\n",
      "  super(Adam, self).__init__(name, **kwargs)\n",
      "/Users/pratha/opt/anaconda3/lib/python3.8/site-packages/keras/optimizers/optimizer_v2/adam.py:110: UserWarning: The `lr` argument is deprecated, use `learning_rate` instead.\n",
      "  super(Adam, self).__init__(name, **kwargs)\n",
      "/Users/pratha/opt/anaconda3/lib/python3.8/site-packages/keras/optimizers/optimizer_v2/adam.py:110: UserWarning: The `lr` argument is deprecated, use `learning_rate` instead.\n",
      "  super(Adam, self).__init__(name, **kwargs)\n",
      "/Users/pratha/opt/anaconda3/lib/python3.8/site-packages/keras/optimizers/optimizer_v2/adam.py:110: UserWarning: The `lr` argument is deprecated, use `learning_rate` instead.\n",
      "  super(Adam, self).__init__(name, **kwargs)\n"
     ]
    },
    {
     "name": "stdout",
     "output_type": "stream",
     "text": [
      "2/2 [==============================] - 2s 425ms/step - loss: 4.3919 - val_loss: 2.2493\n",
      "2/2 [==============================] - 2s 426ms/step - loss: 4.9192 - val_loss: 2.2213\n",
      "1/1 [==============================] - 0s 217ms/step\n",
      "2/2 [==============================] - 2s 422ms/step - loss: 5.7911 - val_loss: 1.4442\n"
     ]
    },
    {
     "name": "stderr",
     "output_type": "stream",
     "text": [
      "/Users/pratha/opt/anaconda3/lib/python3.8/site-packages/keras/optimizers/optimizer_v2/adam.py:110: UserWarning: The `lr` argument is deprecated, use `learning_rate` instead.\n",
      "  super(Adam, self).__init__(name, **kwargs)\n"
     ]
    },
    {
     "name": "stdout",
     "output_type": "stream",
     "text": [
      "2/2 [==============================] - 2s 451ms/step - loss: 4.7203 - val_loss: 2.2973\n",
      "2/2 [==============================] - 2s 392ms/step - loss: 5.2173 - val_loss: 1.9784\n",
      "1/1 [==============================] - 0s 194ms/step\n",
      "2/2 [==============================] - 2s 416ms/step - loss: 5.2435 - val_loss: 2.1954\n",
      "2/2 [==============================] - 2s 394ms/step - loss: 3.9947 - val_loss: 2.1504\n"
     ]
    },
    {
     "name": "stderr",
     "output_type": "stream",
     "text": [
      "/Users/pratha/opt/anaconda3/lib/python3.8/site-packages/keras/optimizers/optimizer_v2/adam.py:110: UserWarning: The `lr` argument is deprecated, use `learning_rate` instead.\n",
      "  super(Adam, self).__init__(name, **kwargs)\n",
      "/Users/pratha/opt/anaconda3/lib/python3.8/site-packages/keras/optimizers/optimizer_v2/adam.py:110: UserWarning: The `lr` argument is deprecated, use `learning_rate` instead.\n",
      "  super(Adam, self).__init__(name, **kwargs)\n",
      "/Users/pratha/opt/anaconda3/lib/python3.8/site-packages/keras/optimizers/optimizer_v2/adam.py:110: UserWarning: The `lr` argument is deprecated, use `learning_rate` instead.\n",
      "  super(Adam, self).__init__(name, **kwargs)\n"
     ]
    },
    {
     "name": "stdout",
     "output_type": "stream",
     "text": [
      "1/1 [==============================] - 0s 209ms/step\n",
      "1/1 [==============================] - 0s 250ms/step\n",
      "1/1 [==============================] - 0s 232ms/step\n",
      "1/1 [==============================] - 0s 182ms/step\n",
      "1/1 [==============================] - 0s 191ms/step\n"
     ]
    },
    {
     "name": "stderr",
     "output_type": "stream",
     "text": [
      "/Users/pratha/opt/anaconda3/lib/python3.8/site-packages/keras/optimizers/optimizer_v2/adam.py:110: UserWarning: The `lr` argument is deprecated, use `learning_rate` instead.\n",
      "  super(Adam, self).__init__(name, **kwargs)\n",
      "/Users/pratha/opt/anaconda3/lib/python3.8/site-packages/keras/optimizers/optimizer_v2/adam.py:110: UserWarning: The `lr` argument is deprecated, use `learning_rate` instead.\n",
      "  super(Adam, self).__init__(name, **kwargs)\n",
      "/Users/pratha/opt/anaconda3/lib/python3.8/site-packages/keras/optimizers/optimizer_v2/adam.py:110: UserWarning: The `lr` argument is deprecated, use `learning_rate` instead.\n",
      "  super(Adam, self).__init__(name, **kwargs)\n"
     ]
    },
    {
     "name": "stdout",
     "output_type": "stream",
     "text": [
      "2/2 [==============================] - 2s 411ms/step - loss: 4.7302 - val_loss: 2.3263\n",
      "1/1 [==============================] - 0s 217ms/steps: 6.7135\n",
      "1/2 [==============>...............] - ETA: 0s - loss: 7.0275"
     ]
    },
    {
     "name": "stderr",
     "output_type": "stream",
     "text": [
      "/Users/pratha/opt/anaconda3/lib/python3.8/site-packages/keras/optimizers/optimizer_v2/adam.py:110: UserWarning: The `lr` argument is deprecated, use `learning_rate` instead.\n",
      "  super(Adam, self).__init__(name, **kwargs)\n"
     ]
    },
    {
     "name": "stdout",
     "output_type": "stream",
     "text": [
      "2/2 [==============================] - 1s 376ms/step - loss: 6.6382 - val_loss: 6.0459\n",
      "1/1 [==============================] - 0s 152ms/steps: 7.4077\n",
      "2/2 [==============================] - 1s 388ms/step - loss: 7.0337 - val_loss: 6.1176\n",
      "1/2 [==============>...............] - ETA: 1s - loss: 7.5208"
     ]
    },
    {
     "name": "stderr",
     "output_type": "stream",
     "text": [
      "/Users/pratha/opt/anaconda3/lib/python3.8/site-packages/keras/optimizers/optimizer_v2/adam.py:110: UserWarning: The `lr` argument is deprecated, use `learning_rate` instead.\n",
      "  super(Adam, self).__init__(name, **kwargs)\n"
     ]
    },
    {
     "name": "stdout",
     "output_type": "stream",
     "text": [
      "2/2 [==============================] - 1s 452ms/step - loss: 7.0985 - val_loss: 6.2105\n",
      "2/2 [==============================] - 1s 427ms/step - loss: 7.0792 - val_loss: 6.1929\n",
      "1/1 [==============================] - 0s 207ms/step\n",
      "2/2 [==============================] - 1s 395ms/step - loss: 5.6932 - val_loss: 5.0117\n",
      "2/2 [==============================] - 1s 391ms/step - loss: 6.8962 - val_loss: 5.8752\n",
      "2/2 [==============================] - 1s 380ms/step - loss: 7.6513 - val_loss: 6.6551\n",
      "1/1 [==============================] - 0s 115ms/step\n"
     ]
    },
    {
     "name": "stderr",
     "output_type": "stream",
     "text": [
      "/Users/pratha/opt/anaconda3/lib/python3.8/site-packages/keras/optimizers/optimizer_v2/adam.py:110: UserWarning: The `lr` argument is deprecated, use `learning_rate` instead.\n",
      "  super(Adam, self).__init__(name, **kwargs)\n",
      "/Users/pratha/opt/anaconda3/lib/python3.8/site-packages/keras/optimizers/optimizer_v2/adam.py:110: UserWarning: The `lr` argument is deprecated, use `learning_rate` instead.\n",
      "  super(Adam, self).__init__(name, **kwargs)\n"
     ]
    },
    {
     "name": "stdout",
     "output_type": "stream",
     "text": [
      "1/1 [==============================] - 0s 135ms/step\n",
      "1/1 [==============================] - 0s 151ms/step\n",
      "1/1 [==============================] - 0s 126ms/step\n"
     ]
    },
    {
     "name": "stderr",
     "output_type": "stream",
     "text": [
      "/Users/pratha/opt/anaconda3/lib/python3.8/site-packages/keras/optimizers/optimizer_v2/adam.py:110: UserWarning: The `lr` argument is deprecated, use `learning_rate` instead.\n",
      "  super(Adam, self).__init__(name, **kwargs)\n",
      "/Users/pratha/opt/anaconda3/lib/python3.8/site-packages/keras/optimizers/optimizer_v2/adam.py:110: UserWarning: The `lr` argument is deprecated, use `learning_rate` instead.\n",
      "  super(Adam, self).__init__(name, **kwargs)\n",
      "/Users/pratha/opt/anaconda3/lib/python3.8/site-packages/keras/optimizers/optimizer_v2/adam.py:110: UserWarning: The `lr` argument is deprecated, use `learning_rate` instead.\n",
      "  super(Adam, self).__init__(name, **kwargs)\n"
     ]
    },
    {
     "name": "stdout",
     "output_type": "stream",
     "text": [
      "1/1 [==============================] - 0s 191ms/step\n",
      "1/2 [==============>...............] - ETA: 1s - loss: 7.2144"
     ]
    },
    {
     "name": "stderr",
     "output_type": "stream",
     "text": [
      "/Users/pratha/opt/anaconda3/lib/python3.8/site-packages/keras/optimizers/optimizer_v2/adam.py:110: UserWarning: The `lr` argument is deprecated, use `learning_rate` instead.\n",
      "  super(Adam, self).__init__(name, **kwargs)\n"
     ]
    },
    {
     "name": "stdout",
     "output_type": "stream",
     "text": [
      "2/2 [==============================] - 2s 733ms/step - loss: 6.8981 - val_loss: 5.9222\n",
      "1/1 [==============================] - 0s 338ms/steps: 7.7662\n"
     ]
    },
    {
     "name": "stderr",
     "output_type": "stream",
     "text": [
      "/Users/pratha/opt/anaconda3/lib/python3.8/site-packages/keras/optimizers/optimizer_v2/adam.py:110: UserWarning: The `lr` argument is deprecated, use `learning_rate` instead.\n",
      "  super(Adam, self).__init__(name, **kwargs)\n"
     ]
    },
    {
     "name": "stdout",
     "output_type": "stream",
     "text": [
      "2/2 [==============================] - 2s 713ms/step - loss: 7.6794 - val_loss: 6.8970\n",
      "1/1 [==============================] - 0s 211ms/steps: 7.3002\n",
      "2/2 [==============================] - 2s 508ms/step - loss: 7.3567 - val_loss: 6.2618\n",
      "1/2 [==============>...............] - ETA: 1s - loss: 6.6732"
     ]
    },
    {
     "name": "stderr",
     "output_type": "stream",
     "text": [
      "/Users/pratha/opt/anaconda3/lib/python3.8/site-packages/keras/optimizers/optimizer_v2/adam.py:110: UserWarning: The `lr` argument is deprecated, use `learning_rate` instead.\n",
      "  super(Adam, self).__init__(name, **kwargs)\n"
     ]
    },
    {
     "name": "stdout",
     "output_type": "stream",
     "text": [
      "1/1 [==============================] - 0s 240ms/steps: 7.0387\n",
      "2/2 [==============================] - 3s 552ms/step - loss: 6.7438 - val_loss: 5.6525\n",
      "2/2 [==============================] - 3s 555ms/step - loss: 6.9448 - val_loss: 5.8626\n",
      "2/2 [==============================] - 2s 521ms/step - loss: 6.7344 - val_loss: 5.8483\n",
      "2/2 [==============================] - 2s 450ms/step - loss: 6.5988 - val_loss: 5.3725\n"
     ]
    },
    {
     "name": "stderr",
     "output_type": "stream",
     "text": [
      "/Users/pratha/opt/anaconda3/lib/python3.8/site-packages/keras/optimizers/optimizer_v2/adam.py:110: UserWarning: The `lr` argument is deprecated, use `learning_rate` instead.\n",
      "  super(Adam, self).__init__(name, **kwargs)\n"
     ]
    },
    {
     "name": "stdout",
     "output_type": "stream",
     "text": [
      "1/1 [==============================] - 0s 175ms/step\n",
      "1/1 [==============================] - 0s 230ms/step\n"
     ]
    },
    {
     "name": "stderr",
     "output_type": "stream",
     "text": [
      "/Users/pratha/opt/anaconda3/lib/python3.8/site-packages/keras/optimizers/optimizer_v2/adam.py:110: UserWarning: The `lr` argument is deprecated, use `learning_rate` instead.\n",
      "  super(Adam, self).__init__(name, **kwargs)\n",
      "/Users/pratha/opt/anaconda3/lib/python3.8/site-packages/keras/optimizers/optimizer_v2/adam.py:110: UserWarning: The `lr` argument is deprecated, use `learning_rate` instead.\n",
      "  super(Adam, self).__init__(name, **kwargs)\n"
     ]
    },
    {
     "name": "stdout",
     "output_type": "stream",
     "text": [
      "1/1 [==============================] - 0s 321ms/step\n",
      "2/2 [==============================] - 3s 545ms/step - loss: 6.7240 - val_loss: 5.5331\n",
      "1/1 [==============================] - 0s 391ms/step\n"
     ]
    },
    {
     "name": "stderr",
     "output_type": "stream",
     "text": [
      "/Users/pratha/opt/anaconda3/lib/python3.8/site-packages/keras/optimizers/optimizer_v2/adam.py:110: UserWarning: The `lr` argument is deprecated, use `learning_rate` instead.\n",
      "  super(Adam, self).__init__(name, **kwargs)\n",
      "/Users/pratha/opt/anaconda3/lib/python3.8/site-packages/keras/optimizers/optimizer_v2/adam.py:110: UserWarning: The `lr` argument is deprecated, use `learning_rate` instead.\n",
      "  super(Adam, self).__init__(name, **kwargs)\n"
     ]
    },
    {
     "name": "stdout",
     "output_type": "stream",
     "text": [
      "1/1 [==============================] - 0s 424ms/steps: 6.8587\n"
     ]
    },
    {
     "name": "stderr",
     "output_type": "stream",
     "text": [
      "/Users/pratha/opt/anaconda3/lib/python3.8/site-packages/keras/optimizers/optimizer_v2/adam.py:110: UserWarning: The `lr` argument is deprecated, use `learning_rate` instead.\n",
      "  super(Adam, self).__init__(name, **kwargs)\n"
     ]
    },
    {
     "name": "stdout",
     "output_type": "stream",
     "text": [
      "2/2 [==============================] - 3s 972ms/step - loss: 6.8941 - val_loss: 5.7068\n",
      "1/1 [==============================] - 0s 257ms/steps: 7.5014\n",
      "1/2 [==============>...............] - ETA: 2s - loss: 7.6310"
     ]
    },
    {
     "name": "stderr",
     "output_type": "stream",
     "text": [
      "/Users/pratha/opt/anaconda3/lib/python3.8/site-packages/keras/optimizers/optimizer_v2/adam.py:110: UserWarning: The `lr` argument is deprecated, use `learning_rate` instead.\n",
      "  super(Adam, self).__init__(name, **kwargs)\n"
     ]
    },
    {
     "name": "stdout",
     "output_type": "stream",
     "text": [
      "2/2 [==============================] - 3s 558ms/step - loss: 7.0277 - val_loss: 5.9904\n",
      "1/1 [==============================] - 0s 188ms/steps: 6.9683\n",
      "2/2 [==============================] - 3s 528ms/step - loss: 6.9543 - val_loss: 5.6389\n"
     ]
    },
    {
     "name": "stderr",
     "output_type": "stream",
     "text": [
      "/Users/pratha/opt/anaconda3/lib/python3.8/site-packages/keras/optimizers/optimizer_v2/adam.py:110: UserWarning: The `lr` argument is deprecated, use `learning_rate` instead.\n",
      "  super(Adam, self).__init__(name, **kwargs)\n"
     ]
    },
    {
     "name": "stdout",
     "output_type": "stream",
     "text": [
      "1/1 [==============================] - 0s 215ms/steps: 6.6564\n",
      "2/2 [==============================] - 3s 507ms/step - loss: 6.4714 - val_loss: 5.1755\n",
      "2/2 [==============================] - 2s 523ms/step - loss: 6.6567 - val_loss: 5.3493\n",
      "1/2 [==============>...............] - ETA: 1s - loss: 7.6875"
     ]
    },
    {
     "name": "stderr",
     "output_type": "stream",
     "text": [
      "/Users/pratha/opt/anaconda3/lib/python3.8/site-packages/keras/optimizers/optimizer_v2/adam.py:110: UserWarning: The `lr` argument is deprecated, use `learning_rate` instead.\n",
      "  super(Adam, self).__init__(name, **kwargs)\n"
     ]
    },
    {
     "name": "stdout",
     "output_type": "stream",
     "text": [
      "1/1 [==============================] - 0s 218ms/step\n",
      "2/2 [==============================] - 3s 563ms/step - loss: 6.7095 - val_loss: 6.0231\n",
      "1/1 [==============================] - 0s 248ms/step\n",
      "2/2 [==============================] - 3s 565ms/step - loss: 6.5106 - val_loss: 5.5404\n"
     ]
    },
    {
     "name": "stderr",
     "output_type": "stream",
     "text": [
      "/Users/pratha/opt/anaconda3/lib/python3.8/site-packages/keras/optimizers/optimizer_v2/adam.py:110: UserWarning: The `lr` argument is deprecated, use `learning_rate` instead.\n",
      "  super(Adam, self).__init__(name, **kwargs)\n",
      "/Users/pratha/opt/anaconda3/lib/python3.8/site-packages/keras/optimizers/optimizer_v2/adam.py:110: UserWarning: The `lr` argument is deprecated, use `learning_rate` instead.\n",
      "  super(Adam, self).__init__(name, **kwargs)\n"
     ]
    },
    {
     "name": "stdout",
     "output_type": "stream",
     "text": [
      "2/2 [==============================] - 2s 549ms/step - loss: 7.1385 - val_loss: 6.1860\n",
      "1/1 [==============================] - 0s 260ms/step\n",
      "1/1 [==============================] - 0s 232ms/step\n"
     ]
    },
    {
     "name": "stderr",
     "output_type": "stream",
     "text": [
      "/Users/pratha/opt/anaconda3/lib/python3.8/site-packages/keras/optimizers/optimizer_v2/adam.py:110: UserWarning: The `lr` argument is deprecated, use `learning_rate` instead.\n",
      "  super(Adam, self).__init__(name, **kwargs)\n",
      "/Users/pratha/opt/anaconda3/lib/python3.8/site-packages/keras/optimizers/optimizer_v2/adam.py:110: UserWarning: The `lr` argument is deprecated, use `learning_rate` instead.\n",
      "  super(Adam, self).__init__(name, **kwargs)\n"
     ]
    },
    {
     "name": "stdout",
     "output_type": "stream",
     "text": [
      "1/1 [==============================] - 0s 255ms/steps: 7.2853\n"
     ]
    },
    {
     "name": "stderr",
     "output_type": "stream",
     "text": [
      "/Users/pratha/opt/anaconda3/lib/python3.8/site-packages/keras/optimizers/optimizer_v2/adam.py:110: UserWarning: The `lr` argument is deprecated, use `learning_rate` instead.\n",
      "  super(Adam, self).__init__(name, **kwargs)\n"
     ]
    },
    {
     "name": "stdout",
     "output_type": "stream",
     "text": [
      "2/2 [==============================] - 2s 550ms/step - loss: 7.4653 - val_loss: 6.5398\n",
      "1/1 [==============================] - 0s 256ms/steps: 6.7183\n",
      "2/2 [==============================] - 2s 517ms/step - loss: 6.5540 - val_loss: 5.7771\n"
     ]
    },
    {
     "name": "stderr",
     "output_type": "stream",
     "text": [
      "/Users/pratha/opt/anaconda3/lib/python3.8/site-packages/keras/optimizers/optimizer_v2/adam.py:110: UserWarning: The `lr` argument is deprecated, use `learning_rate` instead.\n",
      "  super(Adam, self).__init__(name, **kwargs)\n"
     ]
    },
    {
     "name": "stdout",
     "output_type": "stream",
     "text": [
      "1/1 [==============================] - 0s 324ms/steps: 7.6721\n",
      "2/2 [==============================] - 2s 611ms/step - loss: 6.8989 - val_loss: 5.8373\n"
     ]
    },
    {
     "name": "stderr",
     "output_type": "stream",
     "text": [
      "/Users/pratha/opt/anaconda3/lib/python3.8/site-packages/keras/optimizers/optimizer_v2/adam.py:110: UserWarning: The `lr` argument is deprecated, use `learning_rate` instead.\n",
      "  super(Adam, self).__init__(name, **kwargs)\n"
     ]
    },
    {
     "name": "stdout",
     "output_type": "stream",
     "text": [
      "2/2 [==============================] - 2s 584ms/step - loss: 7.0783 - val_loss: 6.0345\n",
      "1/1 [==============================] - 0s 208ms/step\n",
      "2/2 [==============================] - 2s 557ms/step - loss: 7.1195 - val_loss: 6.0620\n"
     ]
    },
    {
     "name": "stderr",
     "output_type": "stream",
     "text": [
      "/Users/pratha/opt/anaconda3/lib/python3.8/site-packages/keras/optimizers/optimizer_v2/adam.py:110: UserWarning: The `lr` argument is deprecated, use `learning_rate` instead.\n",
      "  super(Adam, self).__init__(name, **kwargs)\n"
     ]
    },
    {
     "name": "stdout",
     "output_type": "stream",
     "text": [
      "1/1 [==============================] - 0s 269ms/steps: 7.1604\n",
      "1/1 [==============================] - 0s 264ms/step\n",
      "2/2 [==============================] - 2s 560ms/step - loss: 6.5163 - val_loss: 5.6367\n",
      "2/2 [==============================] - 2s 592ms/step - loss: 6.8693 - val_loss: 5.6628\n"
     ]
    },
    {
     "name": "stderr",
     "output_type": "stream",
     "text": [
      "/Users/pratha/opt/anaconda3/lib/python3.8/site-packages/keras/optimizers/optimizer_v2/adam.py:110: UserWarning: The `lr` argument is deprecated, use `learning_rate` instead.\n",
      "  super(Adam, self).__init__(name, **kwargs)\n",
      "/Users/pratha/opt/anaconda3/lib/python3.8/site-packages/keras/optimizers/optimizer_v2/adam.py:110: UserWarning: The `lr` argument is deprecated, use `learning_rate` instead.\n",
      "  super(Adam, self).__init__(name, **kwargs)\n"
     ]
    },
    {
     "name": "stdout",
     "output_type": "stream",
     "text": [
      "2/2 [==============================] - 2s 487ms/step - loss: 7.2329 - val_loss: 6.0600\n",
      "1/1 [==============================] - 0s 177ms/step\n",
      "1/1 [==============================] - 0s 173ms/step\n"
     ]
    },
    {
     "name": "stderr",
     "output_type": "stream",
     "text": [
      "/Users/pratha/opt/anaconda3/lib/python3.8/site-packages/keras/optimizers/optimizer_v2/adam.py:110: UserWarning: The `lr` argument is deprecated, use `learning_rate` instead.\n",
      "  super(Adam, self).__init__(name, **kwargs)\n",
      "/Users/pratha/opt/anaconda3/lib/python3.8/site-packages/keras/optimizers/optimizer_v2/adam.py:110: UserWarning: The `lr` argument is deprecated, use `learning_rate` instead.\n",
      "  super(Adam, self).__init__(name, **kwargs)\n"
     ]
    },
    {
     "name": "stdout",
     "output_type": "stream",
     "text": [
      "1/1 [==============================] - 0s 260ms/steps: 6.0458\n"
     ]
    },
    {
     "name": "stderr",
     "output_type": "stream",
     "text": [
      "/Users/pratha/opt/anaconda3/lib/python3.8/site-packages/keras/optimizers/optimizer_v2/adam.py:110: UserWarning: The `lr` argument is deprecated, use `learning_rate` instead.\n",
      "  super(Adam, self).__init__(name, **kwargs)\n"
     ]
    },
    {
     "name": "stdout",
     "output_type": "stream",
     "text": [
      "2/2 [==============================] - 2s 726ms/step - loss: 6.4473 - val_loss: 5.3046\n",
      "1/1 [==============================] - 0s 318ms/steps: 6.1938\n",
      "1/2 [==============>...............] - ETA: 1s - loss: 7.5873"
     ]
    },
    {
     "name": "stderr",
     "output_type": "stream",
     "text": [
      "/Users/pratha/opt/anaconda3/lib/python3.8/site-packages/keras/optimizers/optimizer_v2/adam.py:110: UserWarning: The `lr` argument is deprecated, use `learning_rate` instead.\n",
      "  super(Adam, self).__init__(name, **kwargs)\n"
     ]
    },
    {
     "name": "stdout",
     "output_type": "stream",
     "text": [
      "2/2 [==============================] - 3s 710ms/step - loss: 5.9891 - val_loss: 4.9680\n",
      "1/1 [==============================] - 0s 360ms/steps: 7.7460\n",
      "2/2 [==============================] - 3s 741ms/step - loss: 7.2559 - val_loss: 5.9334\n"
     ]
    },
    {
     "name": "stderr",
     "output_type": "stream",
     "text": [
      "/Users/pratha/opt/anaconda3/lib/python3.8/site-packages/keras/optimizers/optimizer_v2/adam.py:110: UserWarning: The `lr` argument is deprecated, use `learning_rate` instead.\n",
      "  super(Adam, self).__init__(name, **kwargs)\n"
     ]
    },
    {
     "name": "stdout",
     "output_type": "stream",
     "text": [
      "2/2 [==============================] - 3s 750ms/step - loss: 7.0706 - val_loss: 5.7863\n",
      "2/2 [==============================] - 3s 859ms/step - loss: 6.7808 - val_loss: 5.4874\n",
      "1/1 [==============================] - 0s 350ms/step\n"
     ]
    },
    {
     "name": "stderr",
     "output_type": "stream",
     "text": [
      "/Users/pratha/opt/anaconda3/lib/python3.8/site-packages/keras/optimizers/optimizer_v2/adam.py:110: UserWarning: The `lr` argument is deprecated, use `learning_rate` instead.\n",
      "  super(Adam, self).__init__(name, **kwargs)\n"
     ]
    },
    {
     "name": "stdout",
     "output_type": "stream",
     "text": [
      "1/1 [==============================] - 0s 379ms/steps: 7.0999\n",
      "1/1 [==============================] - 0s 411ms/step\n",
      "2/2 [==============================] - 3s 693ms/step - loss: 6.2122 - val_loss: 5.0637\n",
      "2/2 [==============================] - 3s 659ms/step - loss: 6.8629 - val_loss: 5.4260\n"
     ]
    },
    {
     "name": "stderr",
     "output_type": "stream",
     "text": [
      "/Users/pratha/opt/anaconda3/lib/python3.8/site-packages/keras/optimizers/optimizer_v2/adam.py:110: UserWarning: The `lr` argument is deprecated, use `learning_rate` instead.\n",
      "  super(Adam, self).__init__(name, **kwargs)\n",
      "/Users/pratha/opt/anaconda3/lib/python3.8/site-packages/keras/optimizers/optimizer_v2/adam.py:110: UserWarning: The `lr` argument is deprecated, use `learning_rate` instead.\n",
      "  super(Adam, self).__init__(name, **kwargs)\n"
     ]
    },
    {
     "name": "stdout",
     "output_type": "stream",
     "text": [
      "2/2 [==============================] - 3s 586ms/step - loss: 6.8281 - val_loss: 5.3741\n",
      "1/1 [==============================] - 0s 233ms/steps: 8.0253\n",
      "1/1 [==============================] - 0s 199ms/step\n",
      "1/1 [==============================] - 0s 225ms/step\n"
     ]
    },
    {
     "name": "stderr",
     "output_type": "stream",
     "text": [
      "/Users/pratha/opt/anaconda3/lib/python3.8/site-packages/keras/optimizers/optimizer_v2/adam.py:110: UserWarning: The `lr` argument is deprecated, use `learning_rate` instead.\n",
      "  super(Adam, self).__init__(name, **kwargs)\n",
      "/Users/pratha/opt/anaconda3/lib/python3.8/site-packages/keras/optimizers/optimizer_v2/adam.py:110: UserWarning: The `lr` argument is deprecated, use `learning_rate` instead.\n",
      "  super(Adam, self).__init__(name, **kwargs)\n",
      "/Users/pratha/opt/anaconda3/lib/python3.8/site-packages/keras/optimizers/optimizer_v2/adam.py:110: UserWarning: The `lr` argument is deprecated, use `learning_rate` instead.\n",
      "  super(Adam, self).__init__(name, **kwargs)\n"
     ]
    },
    {
     "name": "stdout",
     "output_type": "stream",
     "text": [
      "2/2 [==============================] - 3s 627ms/step - loss: 7.4024 - val_loss: 5.9645\n",
      "2/2 [==============================] - 2s 406ms/step - loss: 7.5016 - val_loss: 6.8243\n",
      "1/1 [==============================] - 0s 137ms/steps: 6.6550\n",
      "2/2 [==============================] - 2s 401ms/step - loss: 7.4117 - val_loss: 6.4055\n",
      "1/1 [==============================] - 0s 186ms/step\n",
      "2/2 [==============================] - 2s 408ms/step - loss: 6.6796 - val_loss: 5.7392\n"
     ]
    },
    {
     "name": "stderr",
     "output_type": "stream",
     "text": [
      "/Users/pratha/opt/anaconda3/lib/python3.8/site-packages/keras/optimizers/optimizer_v2/adam.py:110: UserWarning: The `lr` argument is deprecated, use `learning_rate` instead.\n",
      "  super(Adam, self).__init__(name, **kwargs)\n"
     ]
    },
    {
     "name": "stdout",
     "output_type": "stream",
     "text": [
      "2/2 [==============================] - 2s 449ms/step - loss: 6.9085 - val_loss: 5.9301\n",
      "1/1 [==============================] - 0s 323ms/step\n"
     ]
    },
    {
     "name": "stderr",
     "output_type": "stream",
     "text": [
      "/Users/pratha/opt/anaconda3/lib/python3.8/site-packages/keras/optimizers/optimizer_v2/adam.py:110: UserWarning: The `lr` argument is deprecated, use `learning_rate` instead.\n",
      "  super(Adam, self).__init__(name, **kwargs)\n"
     ]
    },
    {
     "name": "stdout",
     "output_type": "stream",
     "text": [
      "1/1 [==============================] - 0s 329ms/steps: 7.2062\n",
      "1/2 [==============>...............] - ETA: 1s - loss: 7.0993"
     ]
    },
    {
     "name": "stderr",
     "output_type": "stream",
     "text": [
      "/Users/pratha/opt/anaconda3/lib/python3.8/site-packages/keras/optimizers/optimizer_v2/adam.py:110: UserWarning: The `lr` argument is deprecated, use `learning_rate` instead.\n",
      "  super(Adam, self).__init__(name, **kwargs)\n",
      "/Users/pratha/opt/anaconda3/lib/python3.8/site-packages/keras/optimizers/optimizer_v2/adam.py:110: UserWarning: The `lr` argument is deprecated, use `learning_rate` instead.\n",
      "  super(Adam, self).__init__(name, **kwargs)\n"
     ]
    },
    {
     "name": "stdout",
     "output_type": "stream",
     "text": [
      "1/1 [==============================] - 0s 309ms/step\n"
     ]
    },
    {
     "name": "stderr",
     "output_type": "stream",
     "text": [
      "/Users/pratha/opt/anaconda3/lib/python3.8/site-packages/keras/optimizers/optimizer_v2/adam.py:110: UserWarning: The `lr` argument is deprecated, use `learning_rate` instead.\n",
      "  super(Adam, self).__init__(name, **kwargs)\n"
     ]
    },
    {
     "name": "stdout",
     "output_type": "stream",
     "text": [
      "2/2 [==============================] - 2s 656ms/step - loss: 6.4346 - val_loss: 5.6758\n",
      "2/2 [==============================] - 2s 690ms/step - loss: 6.9106 - val_loss: 5.8139\n",
      "2/2 [==============================] - 2s 660ms/step - loss: 7.2547 - val_loss: 6.1600\n",
      "1/1 [==============================] - 0s 250ms/step\n",
      "1/1 [==============================] - 0s 304ms/step\n",
      "1/1 [==============================] - 0s 368ms/step\n"
     ]
    },
    {
     "name": "stderr",
     "output_type": "stream",
     "text": [
      "/Users/pratha/opt/anaconda3/lib/python3.8/site-packages/keras/optimizers/optimizer_v2/adam.py:110: UserWarning: The `lr` argument is deprecated, use `learning_rate` instead.\n",
      "  super(Adam, self).__init__(name, **kwargs)\n",
      "/Users/pratha/opt/anaconda3/lib/python3.8/site-packages/keras/optimizers/optimizer_v2/adam.py:110: UserWarning: The `lr` argument is deprecated, use `learning_rate` instead.\n",
      "  super(Adam, self).__init__(name, **kwargs)\n",
      "/Users/pratha/opt/anaconda3/lib/python3.8/site-packages/keras/optimizers/optimizer_v2/adam.py:110: UserWarning: The `lr` argument is deprecated, use `learning_rate` instead.\n",
      "  super(Adam, self).__init__(name, **kwargs)\n"
     ]
    },
    {
     "name": "stdout",
     "output_type": "stream",
     "text": [
      "2/2 [==============================] - 3s 512ms/step - loss: 7.9053 - val_loss: 6.8610\n",
      "2/2 [==============================] - 3s 517ms/step - loss: 6.5931 - val_loss: 5.6635\n",
      "1/1 [==============================] - 0s 295ms/step\n",
      "2/2 [==============================] - 2s 552ms/step - loss: 6.8441 - val_loss: 5.6558\n"
     ]
    },
    {
     "name": "stderr",
     "output_type": "stream",
     "text": [
      "/Users/pratha/opt/anaconda3/lib/python3.8/site-packages/keras/optimizers/optimizer_v2/adam.py:110: UserWarning: The `lr` argument is deprecated, use `learning_rate` instead.\n",
      "  super(Adam, self).__init__(name, **kwargs)\n"
     ]
    },
    {
     "name": "stdout",
     "output_type": "stream",
     "text": [
      "2/2 [==============================] - 2s 527ms/step - loss: 6.7296 - val_loss: 5.5636\n",
      "1/1 [==============================] - 0s 219ms/step\n",
      "2/2 [==============================] - 2s 529ms/step - loss: 7.3267 - val_loss: 6.1355\n"
     ]
    },
    {
     "name": "stderr",
     "output_type": "stream",
     "text": [
      "/Users/pratha/opt/anaconda3/lib/python3.8/site-packages/keras/optimizers/optimizer_v2/adam.py:110: UserWarning: The `lr` argument is deprecated, use `learning_rate` instead.\n",
      "  super(Adam, self).__init__(name, **kwargs)\n"
     ]
    },
    {
     "name": "stdout",
     "output_type": "stream",
     "text": [
      "1/1 [==============================] - 0s 244ms/steps: 5.8442\n",
      "1/1 [==============================] - 0s 254ms/steps: 7.4799\n",
      "1/1 [==============================] - 0s 221ms/steps: 6.6537\n"
     ]
    },
    {
     "name": "stderr",
     "output_type": "stream",
     "text": [
      "/Users/pratha/opt/anaconda3/lib/python3.8/site-packages/keras/optimizers/optimizer_v2/adam.py:110: UserWarning: The `lr` argument is deprecated, use `learning_rate` instead.\n",
      "  super(Adam, self).__init__(name, **kwargs)\n",
      "/Users/pratha/opt/anaconda3/lib/python3.8/site-packages/keras/optimizers/optimizer_v2/adam.py:110: UserWarning: The `lr` argument is deprecated, use `learning_rate` instead.\n",
      "  super(Adam, self).__init__(name, **kwargs)\n",
      "/Users/pratha/opt/anaconda3/lib/python3.8/site-packages/keras/optimizers/optimizer_v2/adam.py:110: UserWarning: The `lr` argument is deprecated, use `learning_rate` instead.\n",
      "  super(Adam, self).__init__(name, **kwargs)\n"
     ]
    },
    {
     "name": "stdout",
     "output_type": "stream",
     "text": [
      "2/2 [==============================] - 2s 470ms/step - loss: 5.7356 - val_loss: 4.6890\n",
      "2/2 [==============================] - 2s 469ms/step - loss: 6.8542 - val_loss: 5.4983\n",
      "2/2 [==============================] - 2s 458ms/step - loss: 6.7816 - val_loss: 5.4153\n",
      "1/1 [==============================] - 0s 243ms/step\n",
      "1/1 [==============================] - 0s 245ms/step\n",
      "1/1 [==============================] - 0s 251ms/step\n"
     ]
    },
    {
     "name": "stderr",
     "output_type": "stream",
     "text": [
      "/Users/pratha/opt/anaconda3/lib/python3.8/site-packages/keras/optimizers/optimizer_v2/adam.py:110: UserWarning: The `lr` argument is deprecated, use `learning_rate` instead.\n",
      "  super(Adam, self).__init__(name, **kwargs)\n",
      "/Users/pratha/opt/anaconda3/lib/python3.8/site-packages/keras/optimizers/optimizer_v2/adam.py:110: UserWarning: The `lr` argument is deprecated, use `learning_rate` instead.\n",
      "  super(Adam, self).__init__(name, **kwargs)\n",
      "/Users/pratha/opt/anaconda3/lib/python3.8/site-packages/keras/optimizers/optimizer_v2/adam.py:110: UserWarning: The `lr` argument is deprecated, use `learning_rate` instead.\n",
      "  super(Adam, self).__init__(name, **kwargs)\n"
     ]
    },
    {
     "name": "stdout",
     "output_type": "stream",
     "text": [
      "2/2 [==============================] - 2s 470ms/step - loss: 6.7703 - val_loss: 5.4265\n",
      "1/1 [==============================] - 0s 161ms/step\n"
     ]
    },
    {
     "name": "stderr",
     "output_type": "stream",
     "text": [
      "/Users/pratha/opt/anaconda3/lib/python3.8/site-packages/keras/optimizers/optimizer_v2/adam.py:110: UserWarning: The `lr` argument is deprecated, use `learning_rate` instead.\n",
      "  super(Adam, self).__init__(name, **kwargs)\n"
     ]
    },
    {
     "name": "stdout",
     "output_type": "stream",
     "text": [
      "2/2 [==============================] - 3s 472ms/step - loss: 5.6348 - val_loss: 4.4630\n",
      "2/2 [==============================] - 3s 410ms/step - loss: 6.4166 - val_loss: 4.9661\n",
      "2/2 [==============================] - 3s 466ms/step - loss: 6.7997 - val_loss: 5.3380\n",
      "2/2 [==============================] - 3s 536ms/step - loss: 6.2611 - val_loss: 4.8281\n",
      "1/1 [==============================] - 0s 267ms/step\n",
      "1/1 [==============================] - 0s 262ms/step\n",
      "1/1 [==============================] - 0s 298ms/steps: 7.3804\n"
     ]
    },
    {
     "name": "stderr",
     "output_type": "stream",
     "text": [
      "/Users/pratha/opt/anaconda3/lib/python3.8/site-packages/keras/optimizers/optimizer_v2/adam.py:110: UserWarning: The `lr` argument is deprecated, use `learning_rate` instead.\n",
      "  super(Adam, self).__init__(name, **kwargs)\n",
      "/Users/pratha/opt/anaconda3/lib/python3.8/site-packages/keras/optimizers/optimizer_v2/adam.py:110: UserWarning: The `lr` argument is deprecated, use `learning_rate` instead.\n",
      "  super(Adam, self).__init__(name, **kwargs)\n"
     ]
    },
    {
     "name": "stdout",
     "output_type": "stream",
     "text": [
      "1/1 [==============================] - 0s 311ms/step\n",
      "1/2 [==============>...............] - ETA: 2s - loss: 7.4337"
     ]
    },
    {
     "name": "stderr",
     "output_type": "stream",
     "text": [
      "/Users/pratha/opt/anaconda3/lib/python3.8/site-packages/keras/optimizers/optimizer_v2/adam.py:110: UserWarning: The `lr` argument is deprecated, use `learning_rate` instead.\n",
      "  super(Adam, self).__init__(name, **kwargs)\n",
      "/Users/pratha/opt/anaconda3/lib/python3.8/site-packages/keras/optimizers/optimizer_v2/adam.py:110: UserWarning: The `lr` argument is deprecated, use `learning_rate` instead.\n",
      "  super(Adam, self).__init__(name, **kwargs)\n"
     ]
    },
    {
     "name": "stdout",
     "output_type": "stream",
     "text": [
      "2/2 [==============================] - 3s 606ms/step - loss: 6.9475 - val_loss: 5.9647\n",
      "2/2 [==============================] - 3s 659ms/step - loss: 6.3562 - val_loss: 5.7008\n",
      "2/2 [==============================] - 3s 583ms/step - loss: 6.9500 - val_loss: 5.9840\n",
      "1/1 [==============================] - 0s 299ms/step\n",
      "1/1 [==============================] - 0s 298ms/step\n"
     ]
    },
    {
     "name": "stderr",
     "output_type": "stream",
     "text": [
      "/Users/pratha/opt/anaconda3/lib/python3.8/site-packages/keras/optimizers/optimizer_v2/adam.py:110: UserWarning: The `lr` argument is deprecated, use `learning_rate` instead.\n",
      "  super(Adam, self).__init__(name, **kwargs)\n",
      "/Users/pratha/opt/anaconda3/lib/python3.8/site-packages/keras/optimizers/optimizer_v2/adam.py:110: UserWarning: The `lr` argument is deprecated, use `learning_rate` instead.\n",
      "  super(Adam, self).__init__(name, **kwargs)\n"
     ]
    },
    {
     "name": "stdout",
     "output_type": "stream",
     "text": [
      "1/1 [==============================] - 0s 313ms/steps: 6.9376\n"
     ]
    },
    {
     "name": "stderr",
     "output_type": "stream",
     "text": [
      "/Users/pratha/opt/anaconda3/lib/python3.8/site-packages/keras/optimizers/optimizer_v2/adam.py:110: UserWarning: The `lr` argument is deprecated, use `learning_rate` instead.\n",
      "  super(Adam, self).__init__(name, **kwargs)\n"
     ]
    },
    {
     "name": "stdout",
     "output_type": "stream",
     "text": [
      "2/2 [==============================] - 3s 498ms/step - loss: 6.5351 - val_loss: 5.5724\n",
      "1/1 [==============================] - 0s 388ms/step\n",
      "1/2 [==============>...............] - ETA: 2s - loss: 6.4153"
     ]
    },
    {
     "name": "stderr",
     "output_type": "stream",
     "text": [
      "/Users/pratha/opt/anaconda3/lib/python3.8/site-packages/keras/optimizers/optimizer_v2/adam.py:110: UserWarning: The `lr` argument is deprecated, use `learning_rate` instead.\n",
      "  super(Adam, self).__init__(name, **kwargs)\n"
     ]
    },
    {
     "name": "stdout",
     "output_type": "stream",
     "text": [
      "2/2 [==============================] - 3s 632ms/step - loss: 7.2359 - val_loss: 6.4605\n",
      "2/2 [==============================] - 3s 596ms/step - loss: 6.1516 - val_loss: 5.0440\n",
      "2/2 [==============================] - 3s 559ms/step - loss: 7.0725 - val_loss: 6.0035\n",
      "2/2 [==============================] - 3s 572ms/step - loss: 7.2433 - val_loss: 6.1614\n",
      "1/1 [==============================] - 0s 269ms/step\n",
      "1/1 [==============================] - 0s 289ms/step\n",
      "1/1 [==============================] - 0s 317ms/steps: 7.0064\n",
      "1/1 [==============================] - 0s 297ms/step\n",
      "1/2 [==============>...............] - ETA: 2s - loss: 7.9857"
     ]
    },
    {
     "name": "stderr",
     "output_type": "stream",
     "text": [
      "/Users/pratha/opt/anaconda3/lib/python3.8/site-packages/keras/optimizers/optimizer_v2/adam.py:110: UserWarning: The `lr` argument is deprecated, use `learning_rate` instead.\n",
      "  super(Adam, self).__init__(name, **kwargs)\n",
      "/Users/pratha/opt/anaconda3/lib/python3.8/site-packages/keras/optimizers/optimizer_v2/adam.py:110: UserWarning: The `lr` argument is deprecated, use `learning_rate` instead.\n",
      "  super(Adam, self).__init__(name, **kwargs)\n",
      "/Users/pratha/opt/anaconda3/lib/python3.8/site-packages/keras/optimizers/optimizer_v2/adam.py:110: UserWarning: The `lr` argument is deprecated, use `learning_rate` instead.\n",
      "  super(Adam, self).__init__(name, **kwargs)\n",
      "/Users/pratha/opt/anaconda3/lib/python3.8/site-packages/keras/optimizers/optimizer_v2/adam.py:110: UserWarning: The `lr` argument is deprecated, use `learning_rate` instead.\n",
      "  super(Adam, self).__init__(name, **kwargs)\n"
     ]
    },
    {
     "name": "stdout",
     "output_type": "stream",
     "text": [
      "2/2 [==============================] - 3s 503ms/step - loss: 7.9110 - val_loss: 6.6903\n",
      "2/2 [==============================] - 3s 487ms/step - loss: 6.6831 - val_loss: 5.7450\n",
      "2/2 [==============================] - 3s 459ms/step - loss: 7.4752 - val_loss: 6.2590\n",
      "1/1 [==============================] - 0s 212ms/step\n",
      "1/1 [==============================] - 0s 207ms/step\n"
     ]
    },
    {
     "name": "stderr",
     "output_type": "stream",
     "text": [
      "/Users/pratha/opt/anaconda3/lib/python3.8/site-packages/keras/optimizers/optimizer_v2/adam.py:110: UserWarning: The `lr` argument is deprecated, use `learning_rate` instead.\n",
      "  super(Adam, self).__init__(name, **kwargs)\n",
      "/Users/pratha/opt/anaconda3/lib/python3.8/site-packages/keras/optimizers/optimizer_v2/adam.py:110: UserWarning: The `lr` argument is deprecated, use `learning_rate` instead.\n",
      "  super(Adam, self).__init__(name, **kwargs)\n"
     ]
    },
    {
     "name": "stdout",
     "output_type": "stream",
     "text": [
      "1/1 [==============================] - 0s 250ms/step\n",
      "1/2 [==============>...............] - ETA: 1s - loss: 6.5644"
     ]
    },
    {
     "name": "stderr",
     "output_type": "stream",
     "text": [
      "/Users/pratha/opt/anaconda3/lib/python3.8/site-packages/keras/optimizers/optimizer_v2/adam.py:110: UserWarning: The `lr` argument is deprecated, use `learning_rate` instead.\n",
      "  super(Adam, self).__init__(name, **kwargs)\n"
     ]
    },
    {
     "name": "stdout",
     "output_type": "stream",
     "text": [
      "2/2 [==============================] - 2s 430ms/step - loss: 6.7815 - val_loss: 5.5827\n",
      "1/1 [==============================] - 0s 261ms/step\n",
      "1/2 [==============>...............] - ETA: 1s - loss: 8.4141"
     ]
    },
    {
     "name": "stderr",
     "output_type": "stream",
     "text": [
      "/Users/pratha/opt/anaconda3/lib/python3.8/site-packages/keras/optimizers/optimizer_v2/adam.py:110: UserWarning: The `lr` argument is deprecated, use `learning_rate` instead.\n",
      "  super(Adam, self).__init__(name, **kwargs)\n"
     ]
    },
    {
     "name": "stdout",
     "output_type": "stream",
     "text": [
      "2/2 [==============================] - 2s 543ms/step - loss: 5.9165 - val_loss: 4.8636\n",
      "2/2 [==============================] - 2s 526ms/step - loss: 6.7145 - val_loss: 5.3507\n",
      "2/2 [==============================] - 2s 620ms/step - loss: 7.1205 - val_loss: 5.7681\n",
      "2/2 [==============================] - 2s 676ms/step - loss: 7.6828 - val_loss: 6.3920\n",
      "1/1 [==============================] - 0s 345ms/step\n",
      "1/1 [==============================] - 0s 316ms/step\n",
      "1/1 [==============================] - 0s 299ms/steps: 6.5067\n",
      "1/1 [==============================] - 0s 271ms/step\n",
      "2/2 [==============================] - 2s 387ms/step - loss: 6.2850 - val_loss: 5.1307\n",
      "2/2 [==============================] - 2s 396ms/step - loss: 6.6688 - val_loss: 5.1672\n",
      "2/2 [==============================] - 2s 333ms/step - loss: 6.0049 - val_loss: 4.5508\n",
      "1/1 [==============================] - 0s 152ms/step\n",
      "1/1 [==============================] - 0s 156ms/step\n",
      "2/2 [==============================] - 2s 245ms/step - loss: 7.1886 - val_loss: 5.7349\n",
      "1/1 [==============================] - 0s 126ms/step\n",
      "1/1 [==============================] - 0s 104ms/step\n",
      "3/3 [==============================] - 1s 87ms/step - loss: 4.5021 - val_loss: 2.6258\n",
      "Best: -1.688190 using {'learning_rate': 0.005, 'n_hidden': 2, 'n_neurons': 400}\n",
      "mean: -3.137307, std: (0.577459) parameters: {'learning_rate': 0.005, 'n_hidden': 2, 'n_neurons': 250}\n",
      "mean: -2.376779, std: (0.377811) parameters: {'learning_rate': 0.005, 'n_hidden': 2, 'n_neurons': 300}\n",
      "mean: -1.922162, std: (0.294948) parameters: {'learning_rate': 0.005, 'n_hidden': 2, 'n_neurons': 350}\n",
      "mean: -1.688190, std: (0.683243) parameters: {'learning_rate': 0.005, 'n_hidden': 2, 'n_neurons': 400}\n",
      "mean: -2.472745, std: (0.385734) parameters: {'learning_rate': 0.005, 'n_hidden': 2, 'n_neurons': 450}\n",
      "mean: -2.018900, std: (0.514826) parameters: {'learning_rate': 0.005, 'n_hidden': 3, 'n_neurons': 250}\n",
      "mean: -1.863060, std: (0.576556) parameters: {'learning_rate': 0.005, 'n_hidden': 3, 'n_neurons': 300}\n",
      "mean: -1.853129, std: (0.554057) parameters: {'learning_rate': 0.005, 'n_hidden': 3, 'n_neurons': 350}\n",
      "mean: -2.231543, std: (0.410926) parameters: {'learning_rate': 0.005, 'n_hidden': 3, 'n_neurons': 400}\n",
      "mean: -2.236301, std: (0.324626) parameters: {'learning_rate': 0.005, 'n_hidden': 3, 'n_neurons': 450}\n",
      "mean: -2.605720, std: (0.276173) parameters: {'learning_rate': 0.005, 'n_hidden': 4, 'n_neurons': 250}\n",
      "mean: -1.937990, std: (0.693218) parameters: {'learning_rate': 0.005, 'n_hidden': 4, 'n_neurons': 300}\n",
      "mean: -1.912304, std: (0.417359) parameters: {'learning_rate': 0.005, 'n_hidden': 4, 'n_neurons': 350}\n",
      "mean: -2.073818, std: (0.660582) parameters: {'learning_rate': 0.005, 'n_hidden': 4, 'n_neurons': 400}\n",
      "mean: -2.480943, std: (0.388672) parameters: {'learning_rate': 0.005, 'n_hidden': 4, 'n_neurons': 450}\n",
      "mean: -2.446390, std: (0.403037) parameters: {'learning_rate': 0.005, 'n_hidden': 5, 'n_neurons': 250}\n",
      "mean: -1.714066, std: (0.573604) parameters: {'learning_rate': 0.005, 'n_hidden': 5, 'n_neurons': 300}\n",
      "mean: -1.910488, std: (0.495469) parameters: {'learning_rate': 0.005, 'n_hidden': 5, 'n_neurons': 350}\n",
      "mean: -2.321309, std: (0.576823) parameters: {'learning_rate': 0.005, 'n_hidden': 5, 'n_neurons': 400}\n",
      "mean: -2.433158, std: (0.441644) parameters: {'learning_rate': 0.005, 'n_hidden': 5, 'n_neurons': 450}\n",
      "mean: -6.628523, std: (0.332349) parameters: {'learning_rate': 0.0005, 'n_hidden': 2, 'n_neurons': 250}\n",
      "mean: -6.354361, std: (0.358621) parameters: {'learning_rate': 0.0005, 'n_hidden': 2, 'n_neurons': 300}\n",
      "mean: -6.654776, std: (0.820595) parameters: {'learning_rate': 0.0005, 'n_hidden': 2, 'n_neurons': 350}\n",
      "mean: -6.102945, std: (0.535726) parameters: {'learning_rate': 0.0005, 'n_hidden': 2, 'n_neurons': 400}\n",
      "mean: -6.024895, std: (0.652820) parameters: {'learning_rate': 0.0005, 'n_hidden': 2, 'n_neurons': 450}\n",
      "mean: -6.559165, std: (0.526844) parameters: {'learning_rate': 0.0005, 'n_hidden': 3, 'n_neurons': 250}\n",
      "mean: -6.414738, std: (0.318180) parameters: {'learning_rate': 0.0005, 'n_hidden': 3, 'n_neurons': 300}\n",
      "mean: -6.152888, std: (0.457542) parameters: {'learning_rate': 0.0005, 'n_hidden': 3, 'n_neurons': 350}\n",
      "mean: -6.030906, std: (0.134982) parameters: {'learning_rate': 0.0005, 'n_hidden': 3, 'n_neurons': 400}\n",
      "mean: -5.943992, std: (0.287313) parameters: {'learning_rate': 0.0005, 'n_hidden': 3, 'n_neurons': 450}\n",
      "mean: -6.711707, std: (0.752958) parameters: {'learning_rate': 0.0005, 'n_hidden': 4, 'n_neurons': 250}\n",
      "mean: -6.614707, std: (0.420017) parameters: {'learning_rate': 0.0005, 'n_hidden': 4, 'n_neurons': 300}\n",
      "mean: -6.241619, std: (0.397864) parameters: {'learning_rate': 0.0005, 'n_hidden': 4, 'n_neurons': 350}\n",
      "mean: -5.744106, std: (0.052094) parameters: {'learning_rate': 0.0005, 'n_hidden': 4, 'n_neurons': 400}\n",
      "mean: -5.385825, std: (0.198116) parameters: {'learning_rate': 0.0005, 'n_hidden': 4, 'n_neurons': 450}\n",
      "mean: -6.292481, std: (0.356050) parameters: {'learning_rate': 0.0005, 'n_hidden': 5, 'n_neurons': 250}\n",
      "mean: -6.404346, std: (0.835150) parameters: {'learning_rate': 0.0005, 'n_hidden': 5, 'n_neurons': 300}\n",
      "mean: -6.556223, std: (0.416548) parameters: {'learning_rate': 0.0005, 'n_hidden': 5, 'n_neurons': 350}\n",
      "mean: -6.080590, std: (0.400837) parameters: {'learning_rate': 0.0005, 'n_hidden': 5, 'n_neurons': 400}\n",
      "mean: -5.632863, std: (0.553439) parameters: {'learning_rate': 0.0005, 'n_hidden': 5, 'n_neurons': 450}\n"
     ]
    }
   ],
   "source": [
    "# GridSearch for the ANN\n",
    "from sklearn.model_selection import GridSearchCV\n",
    "from sklearn.metrics import mean_absolute_error, make_scorer\n",
    "\n",
    "# param_distribs = {\n",
    "#     \"n_hidden\": [1, 2, 3, 4],\n",
    "#     \"n_neurons\": [900, 1100, 1300, 1500],\n",
    "#     \"learning_rate\": [1e-2, 1e-3],\n",
    "# }\n",
    "\n",
    "tolerance_value = 25\n",
    "\n",
    "param_distribs = {\n",
    "    \"n_hidden\": [2, 3, 4, 5],\n",
    "    #   \"n_neurons\": [5500, 5700, 5900],\n",
    "    \"n_neurons\": [250, 300, 350, 400, 450],\n",
    "    # \"n_neurons\": [150, 200,240, 245, 250, 255, 260, 300, 350, 400, 450],\n",
    "    \"learning_rate\": [5*1e-3, 5*1e-4],\n",
    "}\n",
    "\n",
    "search_cv = GridSearchCV(estimator=keras_reg,\n",
    "                         param_grid=param_distribs,\n",
    "                         cv=4,\n",
    "                         #scoring= make_scorer(mean_absolute_error, greater_is_better=True),\n",
    "                         scoring='neg_mean_absolute_error',\n",
    "                         #refit=False,\n",
    "                         n_jobs=-1)\n",
    "\n",
    "\n",
    "# Best estimator is selected for further proceedings\n",
    "grid_result = search_cv.fit(X_train, y_train,\n",
    "                  validation_data=(X_test, y_test))\n",
    "#                   callbacks=[keras.callbacks.EarlyStopping(monitor='loss', patience=tolerance_value)])\n",
    "\n",
    "\n",
    "print(\"Best: %f using %s\" % (grid_result.best_score_, grid_result.best_params_))\n",
    "means = grid_result.cv_results_['mean_test_score']\n",
    "stds = grid_result.cv_results_['std_test_score']\n",
    "params = grid_result.cv_results_['params']\n",
    "\n",
    "for mean, stdev, param in zip(means, stds, params):\n",
    "    print(\"mean: %f, std: (%f) parameters: %r\" % (mean, stdev, param))\n"
   ]
  },
  {
   "cell_type": "markdown",
   "id": "million-worse",
   "metadata": {},
   "source": [
    "The result from GS is in. And the quick look can be done in following bullets\n",
    "- number of hidden layers (n_hidden) = 2\n",
    "- number of neural nodes in each hidden layers (n_neurons) = 450\n",
    "- learning rate for Adam optimizer = 0.0005\n",
    "\n",
    "I will now extract the best performing model from the GS object. This model is already set up with the set of hyperparameters for which the loss was minimium. The outcome of the model is same as before and is appended to the code."
   ]
  },
  {
   "cell_type": "code",
   "execution_count": 10,
   "id": "federal-algorithm",
   "metadata": {},
   "outputs": [
    {
     "name": "stdout",
     "output_type": "stream",
     "text": [
      "\n",
      "History object\n",
      "\n",
      "Epoch 1/600\n",
      "3/3 [==============================] - 1s 78ms/step - loss: 4.3404 - val_loss: 2.4421\n",
      "Epoch 2/600\n",
      "3/3 [==============================] - 0s 17ms/step - loss: 2.5395 - val_loss: 1.8691\n",
      "Epoch 3/600\n",
      "3/3 [==============================] - 0s 16ms/step - loss: 1.9504 - val_loss: 1.4425\n",
      "Epoch 4/600\n",
      "3/3 [==============================] - 0s 17ms/step - loss: 1.7468 - val_loss: 1.1756\n",
      "Epoch 5/600\n",
      "3/3 [==============================] - 0s 16ms/step - loss: 1.6183 - val_loss: 1.0790\n",
      "Epoch 6/600\n",
      "3/3 [==============================] - 0s 16ms/step - loss: 1.6459 - val_loss: 1.0440\n",
      "Epoch 7/600\n",
      "3/3 [==============================] - 0s 16ms/step - loss: 1.5462 - val_loss: 1.0135\n",
      "Epoch 8/600\n",
      "3/3 [==============================] - 0s 17ms/step - loss: 1.4957 - val_loss: 1.0784\n",
      "Epoch 9/600\n",
      "3/3 [==============================] - 0s 17ms/step - loss: 1.4742 - val_loss: 1.0982\n",
      "Epoch 10/600\n",
      "3/3 [==============================] - 0s 18ms/step - loss: 1.4980 - val_loss: 1.0999\n",
      "Epoch 11/600\n",
      "3/3 [==============================] - 0s 17ms/step - loss: 1.4636 - val_loss: 1.0994\n",
      "Epoch 12/600\n",
      "3/3 [==============================] - 0s 16ms/step - loss: 1.4728 - val_loss: 0.9973\n",
      "Epoch 13/600\n",
      "3/3 [==============================] - 0s 16ms/step - loss: 1.4376 - val_loss: 1.0018\n",
      "Epoch 14/600\n",
      "3/3 [==============================] - 0s 18ms/step - loss: 1.4341 - val_loss: 1.0307\n",
      "Epoch 15/600\n",
      "3/3 [==============================] - 0s 19ms/step - loss: 1.4801 - val_loss: 1.0061\n",
      "Epoch 16/600\n",
      "3/3 [==============================] - 0s 20ms/step - loss: 1.4294 - val_loss: 1.0703\n",
      "Epoch 17/600\n",
      "3/3 [==============================] - 0s 38ms/step - loss: 1.4681 - val_loss: 1.0056\n",
      "Epoch 18/600\n",
      "3/3 [==============================] - 0s 26ms/step - loss: 1.4444 - val_loss: 1.0449\n",
      "Epoch 19/600\n",
      "3/3 [==============================] - 0s 23ms/step - loss: 1.4551 - val_loss: 1.0083\n",
      "Epoch 20/600\n",
      "3/3 [==============================] - 0s 22ms/step - loss: 1.4469 - val_loss: 1.0508\n",
      "Epoch 21/600\n",
      "3/3 [==============================] - 0s 17ms/step - loss: 1.4364 - val_loss: 1.0859\n",
      "Epoch 22/600\n",
      "3/3 [==============================] - 0s 17ms/step - loss: 1.4731 - val_loss: 1.0373\n",
      "Epoch 23/600\n",
      "3/3 [==============================] - 0s 16ms/step - loss: 1.4513 - val_loss: 1.0134\n",
      "Epoch 24/600\n",
      "3/3 [==============================] - 0s 16ms/step - loss: 1.4441 - val_loss: 0.9981\n",
      "Epoch 25/600\n",
      "3/3 [==============================] - 0s 16ms/step - loss: 1.4357 - val_loss: 1.0256\n",
      "Epoch 26/600\n",
      "3/3 [==============================] - 0s 16ms/step - loss: 1.4397 - val_loss: 1.0663\n",
      "Epoch 27/600\n",
      "3/3 [==============================] - 0s 15ms/step - loss: 1.4429 - val_loss: 1.0082\n",
      "Epoch 28/600\n",
      "3/3 [==============================] - 0s 16ms/step - loss: 1.4282 - val_loss: 0.9803\n",
      "Epoch 29/600\n",
      "3/3 [==============================] - 0s 17ms/step - loss: 1.4326 - val_loss: 0.9746\n",
      "Epoch 30/600\n",
      "3/3 [==============================] - 0s 18ms/step - loss: 1.4541 - val_loss: 0.9757\n",
      "Epoch 31/600\n",
      "3/3 [==============================] - 0s 18ms/step - loss: 1.4475 - val_loss: 0.9943\n",
      "Epoch 32/600\n",
      "3/3 [==============================] - 0s 17ms/step - loss: 1.4300 - val_loss: 1.0794\n",
      "Epoch 33/600\n",
      "3/3 [==============================] - 0s 16ms/step - loss: 1.4511 - val_loss: 1.0678\n",
      "Epoch 34/600\n",
      "3/3 [==============================] - 0s 15ms/step - loss: 1.4532 - val_loss: 1.0004\n",
      "Epoch 35/600\n",
      "3/3 [==============================] - 0s 20ms/step - loss: 1.4225 - val_loss: 0.9730\n",
      "Epoch 36/600\n",
      "3/3 [==============================] - 0s 22ms/step - loss: 1.4315 - val_loss: 0.9943\n",
      "Epoch 37/600\n",
      "3/3 [==============================] - 0s 22ms/step - loss: 1.4309 - val_loss: 1.0428\n",
      "Epoch 38/600\n",
      "3/3 [==============================] - 0s 20ms/step - loss: 1.4210 - val_loss: 1.0049\n",
      "Epoch 39/600\n",
      "3/3 [==============================] - 0s 16ms/step - loss: 1.4180 - val_loss: 0.9662\n",
      "Epoch 40/600\n",
      "3/3 [==============================] - 0s 18ms/step - loss: 1.4137 - val_loss: 0.9713\n",
      "Epoch 41/600\n",
      "3/3 [==============================] - 0s 16ms/step - loss: 1.4191 - val_loss: 0.9779\n",
      "Epoch 42/600\n",
      "3/3 [==============================] - 0s 16ms/step - loss: 1.4119 - val_loss: 1.0163\n",
      "Epoch 43/600\n",
      "3/3 [==============================] - 0s 21ms/step - loss: 1.4109 - val_loss: 0.9813\n",
      "Epoch 44/600\n",
      "3/3 [==============================] - 0s 31ms/step - loss: 1.4048 - val_loss: 0.9665\n",
      "Epoch 45/600\n",
      "3/3 [==============================] - 0s 28ms/step - loss: 1.3995 - val_loss: 0.9809\n",
      "Epoch 46/600\n",
      "3/3 [==============================] - 0s 35ms/step - loss: 1.3846 - val_loss: 0.9611\n",
      "Epoch 47/600\n",
      "3/3 [==============================] - 0s 18ms/step - loss: 1.3769 - val_loss: 0.9516\n",
      "Epoch 48/600\n",
      "3/3 [==============================] - 0s 16ms/step - loss: 1.3939 - val_loss: 0.9704\n",
      "Epoch 49/600\n",
      "3/3 [==============================] - 0s 15ms/step - loss: 1.3956 - val_loss: 0.9896\n",
      "Epoch 50/600\n",
      "3/3 [==============================] - 0s 20ms/step - loss: 1.4045 - val_loss: 0.9757\n",
      "Epoch 51/600\n",
      "3/3 [==============================] - 0s 16ms/step - loss: 1.3754 - val_loss: 0.9662\n",
      "Epoch 52/600\n",
      "3/3 [==============================] - 0s 17ms/step - loss: 1.3458 - val_loss: 0.9298\n",
      "Epoch 53/600\n",
      "3/3 [==============================] - 0s 15ms/step - loss: 1.3579 - val_loss: 0.9524\n",
      "Epoch 54/600\n",
      "3/3 [==============================] - 0s 15ms/step - loss: 1.3555 - val_loss: 0.9795\n",
      "Epoch 55/600\n",
      "3/3 [==============================] - 0s 15ms/step - loss: 1.3331 - val_loss: 0.9416\n",
      "Epoch 56/600\n",
      "3/3 [==============================] - 0s 15ms/step - loss: 1.3060 - val_loss: 0.9190\n",
      "Epoch 57/600\n",
      "3/3 [==============================] - 0s 16ms/step - loss: 1.2905 - val_loss: 0.9281\n",
      "Epoch 58/600\n",
      "3/3 [==============================] - 0s 16ms/step - loss: 1.2860 - val_loss: 0.9291\n",
      "Epoch 59/600\n",
      "3/3 [==============================] - 0s 15ms/step - loss: 1.2941 - val_loss: 0.9417\n",
      "Epoch 60/600\n",
      "3/3 [==============================] - 0s 15ms/step - loss: 1.3046 - val_loss: 1.0027\n",
      "Epoch 61/600\n",
      "3/3 [==============================] - 0s 16ms/step - loss: 1.3092 - val_loss: 0.9427\n",
      "Epoch 62/600\n",
      "3/3 [==============================] - 0s 16ms/step - loss: 1.2929 - val_loss: 1.0024\n",
      "Epoch 63/600\n",
      "3/3 [==============================] - 0s 16ms/step - loss: 1.3067 - val_loss: 0.9678\n",
      "Epoch 64/600\n",
      "3/3 [==============================] - 0s 15ms/step - loss: 1.3034 - val_loss: 0.9982\n",
      "Epoch 65/600\n",
      "3/3 [==============================] - 0s 14ms/step - loss: 1.2926 - val_loss: 0.9821\n",
      "Epoch 66/600\n",
      "3/3 [==============================] - 0s 14ms/step - loss: 1.2943 - val_loss: 0.9560\n",
      "Epoch 67/600\n",
      "3/3 [==============================] - 0s 15ms/step - loss: 1.2767 - val_loss: 0.9980\n",
      "Epoch 68/600\n",
      "3/3 [==============================] - 0s 15ms/step - loss: 1.3013 - val_loss: 0.9889\n",
      "Epoch 69/600\n",
      "3/3 [==============================] - 0s 14ms/step - loss: 1.2924 - val_loss: 0.9762\n",
      "Epoch 70/600\n",
      "3/3 [==============================] - 0s 14ms/step - loss: 1.2850 - val_loss: 0.9721\n",
      "Epoch 71/600\n",
      "3/3 [==============================] - 0s 14ms/step - loss: 1.2896 - val_loss: 0.9846\n",
      "Epoch 72/600\n",
      "3/3 [==============================] - 0s 15ms/step - loss: 1.2941 - val_loss: 0.9780\n",
      "Epoch 73/600\n",
      "3/3 [==============================] - 0s 14ms/step - loss: 1.2731 - val_loss: 0.9723\n",
      "Epoch 74/600\n",
      "3/3 [==============================] - 0s 15ms/step - loss: 1.2741 - val_loss: 0.9728\n",
      "Epoch 75/600\n",
      "3/3 [==============================] - 0s 15ms/step - loss: 1.2705 - val_loss: 0.9856\n",
      "Epoch 76/600\n",
      "3/3 [==============================] - 0s 14ms/step - loss: 1.2618 - val_loss: 0.9976\n",
      "Epoch 77/600\n",
      "3/3 [==============================] - 0s 15ms/step - loss: 1.2646 - val_loss: 1.0261\n",
      "Epoch 78/600\n",
      "3/3 [==============================] - 0s 15ms/step - loss: 1.2928 - val_loss: 1.0099\n",
      "Epoch 79/600\n",
      "3/3 [==============================] - 0s 15ms/step - loss: 1.2926 - val_loss: 1.0018\n",
      "Epoch 80/600\n",
      "3/3 [==============================] - 0s 15ms/step - loss: 1.2941 - val_loss: 0.9748\n",
      "Epoch 81/600\n",
      "3/3 [==============================] - 0s 15ms/step - loss: 1.2652 - val_loss: 1.0062\n",
      "Epoch 82/600\n",
      "3/3 [==============================] - 0s 14ms/step - loss: 1.2814 - val_loss: 0.9777\n",
      "Epoch 83/600\n",
      "3/3 [==============================] - 0s 14ms/step - loss: 1.2615 - val_loss: 0.9814\n",
      "Epoch 84/600\n",
      "3/3 [==============================] - 0s 14ms/step - loss: 1.2679 - val_loss: 0.9899\n",
      "Epoch 85/600\n",
      "3/3 [==============================] - 0s 14ms/step - loss: 1.2693 - val_loss: 0.9988\n",
      "Epoch 86/600\n",
      "3/3 [==============================] - 0s 15ms/step - loss: 1.2792 - val_loss: 0.9967\n",
      "Epoch 87/600\n",
      "3/3 [==============================] - 0s 15ms/step - loss: 1.2949 - val_loss: 0.9812\n",
      "Epoch 88/600\n",
      "3/3 [==============================] - 0s 15ms/step - loss: 1.2700 - val_loss: 0.9967\n",
      "Epoch 89/600\n",
      "3/3 [==============================] - 0s 15ms/step - loss: 1.2605 - val_loss: 0.9883\n",
      "Epoch 90/600\n",
      "3/3 [==============================] - 0s 14ms/step - loss: 1.2559 - val_loss: 1.0142\n",
      "Epoch 91/600\n",
      "3/3 [==============================] - 0s 14ms/step - loss: 1.2645 - val_loss: 1.0546\n",
      "Epoch 92/600\n",
      "3/3 [==============================] - 0s 14ms/step - loss: 1.3265 - val_loss: 0.9767\n",
      "Epoch 93/600\n",
      "3/3 [==============================] - 0s 15ms/step - loss: 1.2768 - val_loss: 0.9749\n",
      "Epoch 94/600\n",
      "3/3 [==============================] - 0s 14ms/step - loss: 1.2799 - val_loss: 0.9675\n",
      "Epoch 95/600\n",
      "3/3 [==============================] - 0s 15ms/step - loss: 1.2858 - val_loss: 0.9767\n",
      "Epoch 96/600\n",
      "3/3 [==============================] - 0s 15ms/step - loss: 1.2633 - val_loss: 1.0356\n",
      "Epoch 97/600\n",
      "3/3 [==============================] - 0s 15ms/step - loss: 1.2916 - val_loss: 1.0123\n",
      "Epoch 98/600\n",
      "3/3 [==============================] - 0s 15ms/step - loss: 1.2645 - val_loss: 1.0138\n",
      "Epoch 99/600\n",
      "3/3 [==============================] - 0s 15ms/step - loss: 1.2731 - val_loss: 0.9840\n",
      "Epoch 100/600\n",
      "3/3 [==============================] - 0s 14ms/step - loss: 1.2643 - val_loss: 0.9702\n",
      "Epoch 101/600\n",
      "3/3 [==============================] - 0s 15ms/step - loss: 1.2472 - val_loss: 0.9735\n",
      "Epoch 102/600\n",
      "3/3 [==============================] - 0s 14ms/step - loss: 1.2410 - val_loss: 0.9682\n",
      "Epoch 103/600\n",
      "3/3 [==============================] - 0s 14ms/step - loss: 1.2398 - val_loss: 0.9760\n",
      "Epoch 104/600\n",
      "3/3 [==============================] - 0s 14ms/step - loss: 1.2730 - val_loss: 0.9798\n",
      "Epoch 105/600\n",
      "3/3 [==============================] - 0s 15ms/step - loss: 1.2464 - val_loss: 1.0053\n",
      "Epoch 106/600\n",
      "3/3 [==============================] - 0s 16ms/step - loss: 1.2792 - val_loss: 1.0019\n",
      "Epoch 107/600\n",
      "3/3 [==============================] - 0s 15ms/step - loss: 1.2905 - val_loss: 1.0329\n",
      "Epoch 108/600\n",
      "3/3 [==============================] - 0s 18ms/step - loss: 1.2858 - val_loss: 0.9739\n",
      "Epoch 109/600\n",
      "3/3 [==============================] - 0s 17ms/step - loss: 1.2562 - val_loss: 0.9997\n",
      "Epoch 110/600\n",
      "3/3 [==============================] - 0s 17ms/step - loss: 1.2571 - val_loss: 0.9851\n",
      "Epoch 111/600\n",
      "3/3 [==============================] - 0s 15ms/step - loss: 1.2630 - val_loss: 0.9624\n",
      "Epoch 112/600\n",
      "3/3 [==============================] - 0s 15ms/step - loss: 1.2312 - val_loss: 1.0247\n",
      "Epoch 113/600\n",
      "3/3 [==============================] - 0s 22ms/step - loss: 1.2838 - val_loss: 0.9912\n",
      "Epoch 114/600\n",
      "3/3 [==============================] - 0s 39ms/step - loss: 1.2520 - val_loss: 1.0063\n",
      "Epoch 115/600\n",
      "3/3 [==============================] - 0s 23ms/step - loss: 1.2596 - val_loss: 1.0304\n",
      "Epoch 116/600\n",
      "3/3 [==============================] - 0s 19ms/step - loss: 1.2779 - val_loss: 1.0121\n",
      "Epoch 117/600\n",
      "3/3 [==============================] - 0s 23ms/step - loss: 1.2668 - val_loss: 1.0146\n",
      "Epoch 118/600\n",
      "3/3 [==============================] - 0s 15ms/step - loss: 1.2455 - val_loss: 1.0201\n",
      "Epoch 119/600\n",
      "3/3 [==============================] - 0s 15ms/step - loss: 1.2524 - val_loss: 1.0020\n",
      "Epoch 120/600\n",
      "3/3 [==============================] - 0s 22ms/step - loss: 1.2461 - val_loss: 0.9951\n",
      "Epoch 121/600\n",
      "3/3 [==============================] - 0s 18ms/step - loss: 1.2492 - val_loss: 0.9853\n",
      "Epoch 122/600\n",
      "3/3 [==============================] - 0s 17ms/step - loss: 1.2226 - val_loss: 0.9928\n",
      "Epoch 123/600\n",
      "3/3 [==============================] - 0s 18ms/step - loss: 1.2418 - val_loss: 0.9969\n",
      "Epoch 124/600\n",
      "3/3 [==============================] - 0s 19ms/step - loss: 1.2389 - val_loss: 0.9849\n",
      "Epoch 125/600\n",
      "3/3 [==============================] - 0s 19ms/step - loss: 1.2323 - val_loss: 0.9946\n",
      "Epoch 126/600\n",
      "3/3 [==============================] - 0s 28ms/step - loss: 1.2207 - val_loss: 0.9975\n",
      "Epoch 127/600\n",
      "3/3 [==============================] - 0s 22ms/step - loss: 1.2226 - val_loss: 0.9851\n",
      "Epoch 128/600\n",
      "3/3 [==============================] - 0s 17ms/step - loss: 1.2177 - val_loss: 0.9742\n",
      "Epoch 129/600\n",
      "3/3 [==============================] - 0s 17ms/step - loss: 1.2120 - val_loss: 0.9752\n",
      "Epoch 130/600\n",
      "3/3 [==============================] - 0s 19ms/step - loss: 1.2075 - val_loss: 0.9870\n",
      "Epoch 131/600\n",
      "3/3 [==============================] - 0s 20ms/step - loss: 1.2202 - val_loss: 0.9727\n",
      "Epoch 132/600\n",
      "3/3 [==============================] - 0s 18ms/step - loss: 1.2385 - val_loss: 0.9989\n",
      "Epoch 133/600\n",
      "3/3 [==============================] - 0s 16ms/step - loss: 1.2397 - val_loss: 1.0039\n",
      "Epoch 134/600\n",
      "3/3 [==============================] - 0s 15ms/step - loss: 1.2423 - val_loss: 0.9679\n",
      "Epoch 135/600\n",
      "3/3 [==============================] - 0s 17ms/step - loss: 1.2268 - val_loss: 0.9829\n",
      "Epoch 136/600\n",
      "3/3 [==============================] - 0s 19ms/step - loss: 1.2306 - val_loss: 0.9872\n",
      "Epoch 137/600\n",
      "3/3 [==============================] - 0s 24ms/step - loss: 1.2220 - val_loss: 0.9842\n",
      "Epoch 138/600\n",
      "3/3 [==============================] - 0s 17ms/step - loss: 1.2236 - val_loss: 1.0021\n",
      "Epoch 139/600\n",
      "3/3 [==============================] - 0s 22ms/step - loss: 1.2293 - val_loss: 1.0044\n",
      "Epoch 140/600\n",
      "3/3 [==============================] - 0s 22ms/step - loss: 1.2226 - val_loss: 1.0219\n",
      "Epoch 141/600\n",
      "3/3 [==============================] - 0s 17ms/step - loss: 1.2522 - val_loss: 0.9718\n",
      "Epoch 142/600\n",
      "3/3 [==============================] - 0s 17ms/step - loss: 1.2342 - val_loss: 0.9907\n",
      "Epoch 143/600\n",
      "3/3 [==============================] - 0s 16ms/step - loss: 1.2231 - val_loss: 1.0075\n",
      "Epoch 144/600\n",
      "3/3 [==============================] - 0s 17ms/step - loss: 1.2868 - val_loss: 0.9570\n",
      "Epoch 145/600\n",
      "3/3 [==============================] - 0s 16ms/step - loss: 1.2478 - val_loss: 1.0581\n",
      "Epoch 146/600\n",
      "3/3 [==============================] - 0s 47ms/step - loss: 1.2891 - val_loss: 0.9484\n"
     ]
    },
    {
     "data": {
      "image/png": "[encoded data removed]",
      "text/plain": [
       "<Figure size 432x288 with 1 Axes>"
      ]
     },
     "metadata": {
      "needs_background": "light"
     },
     "output_type": "display_data"
    },
    {
     "name": "stdout",
     "output_type": "stream",
     "text": [
      "\n",
      " Best Model's Parameters\n",
      "{'learning_rate': 0.005, 'n_hidden': 2, 'n_neurons': 400, 'build_fn': <function build_model at 0x7f8338420a60>}\n",
      "\n",
      " The mean absolute error (MAE)\n",
      "1/1 [==============================] - 0s 18ms/step - loss: 0.9484\n",
      "-0.9483539462089539\n",
      "\n",
      " The predicted values (Lattice constants)\n",
      "1/1 [==============================] - 0s 43ms/step\n",
      "[[5.909957  5.7848105 6.218035 ]\n",
      " [5.9385877 5.800298  6.218889 ]\n",
      " [6.005991  5.863728  6.045023 ]\n",
      " [5.6844926 5.5604434 8.579358 ]\n",
      " [5.804164  5.63578   8.428767 ]\n",
      " [5.994995  5.800789  9.875567 ]\n",
      " [5.878152  5.7979274 5.991011 ]\n",
      " [6.02343   5.8729925 6.042743 ]\n",
      " [5.9322233 5.802819  5.9464793]\n",
      " [5.6791744 5.5768843 8.6665945]\n",
      " [5.8642507 5.6506295 8.699523 ]\n",
      " [5.7503014 5.642207  8.340329 ]\n",
      " [5.735632  5.556531  8.4901705]\n",
      " [5.9366755 5.820037  6.025593 ]\n",
      " [5.8621855 5.781974  6.0112643]\n",
      " [5.7285423 5.6245914 8.942616 ]\n",
      " [5.812298  5.7608085 9.901356 ]\n",
      " [5.898486  5.788572  6.5503345]\n",
      " [5.950659  5.8257537 5.9785037]\n",
      " [5.8538094 5.7936215 6.241756 ]]\n"
     ]
    }
   ],
   "source": [
    "best_model = grid_result.best_estimator_\n",
    "tolerance_value = 90\n",
    "print(\"\\nHistory object\\n\")\n",
    "best_model_history = best_model.fit(X_train, y_train, epochs=n_epochs,\n",
    "                                    validation_data=(X_test, y_test),\n",
    "                                    callbacks=[keras.callbacks.EarlyStopping(patience=tolerance_value)])\n",
    "\n",
    "plt.figure()\n",
    "plt.plot(best_model_history.history['loss'])\n",
    "plt.plot(best_model_history.history['val_loss'])\n",
    "plt.title(\"Model loss\")\n",
    "plt.ylabel(\"Loss (MAE)\")\n",
    "plt.xlabel(\"Epoch\")\n",
    "plt.legend([\"Train\", \"Test\"])\n",
    "plt.show()\n",
    "\n",
    "print(\"\\n Best Model's Parameters\")\n",
    "print(best_model.get_params())\n",
    "print(\"\\n The mean absolute error (MAE)\")\n",
    "print(best_model.score(X_test, y_test))\n",
    "print(\"\\n The predicted values (Lattice constants)\")\n",
    "print(best_model.predict(X_test))\n"
   ]
  },
  {
   "cell_type": "markdown",
   "id": "european-vulnerability",
   "metadata": {
    "id": "PyWxHUQn92zG"
   },
   "source": [
    "## Conclusion\n",
    "\n",
    "In this notebook too I deployed the ANN and found was successful in predicting the lattice constants with the mean absolute error around -0.05. The GridSearch did not perform well I would have expected it do. However, it along a few techniques like feature scaling and the commented out linear model is next task in my schedule. \n",
    "\n",
    "This notebook could not be amongst the best performer. However, especially after building an ANN I am motivated to work further on Machine Learning domain. I have all the incentives to move ahead. "
   ]
  },
  {
   "cell_type": "markdown",
   "id": "comparable-township",
   "metadata": {},
   "source": [
    "## References\n",
    "\n",
    "[1] Chonghe, Li, et al. \"Prediction of lattice constant in perovskites of GdFeO3 structure.\" Journal of Physics and Chemistry of Solids 64.11 (2003): 2147-2156.\n",
    "\n",
    "[2] Alade, Ibrahim Olanrewaju, Ismail Adewale Olumegbon, and Aliyu Bagudu. \"Lattice constant prediction of A2XY6 cubic crystals (A= K, Cs, Rb, TI; X= tetravalent cation; Y= F, Cl, Br, I) using computational intelligence approach.\" Journal of Applied Physics 127.1 (2020): 015303.\n",
    "\n",
    "[3] Jiang, L. Q., et al. \"Prediction of lattice constant in cubic perovskites.\" Journal of Physics and Chemistry of Solids 67.7 (2006): 1531-1536.\n",
    "\n",
    "[4] “Introduction to Machine Learning with Python, A Guide for Data Scientists\", by Andreas C. Müller and Sarah Guido\n",
    "\n",
    "[5] “Hands-On Machine Learning with Scikit-Learn, Keras, and TensorFlow\", by Aurélien Géron\n",
    "\n",
    "[6] \"The Hundred-Page Machine Learning Book\", by Andriy Burkov"
   ]
  },
  {
   "cell_type": "code",
   "execution_count": null,
   "id": "general-magnet",
   "metadata": {},
   "outputs": [],
   "source": []
  }
 ],
 "metadata": {
  "colab": {
   "collapsed_sections": [],
   "name": "ANN-ABO3.ipynb",
   "provenance": []
  },
  "kernelspec": {
   "display_name": "Python 3.8.8 ('base')",
   "language": "python",
   "name": "python3"
  },
  "language_info": {
   "codemirror_mode": {
    "name": "ipython",
    "version": 3
   },
   "file_extension": ".py",
   "mimetype": "text/x-python",
   "name": "python",
   "nbconvert_exporter": "python",
   "pygments_lexer": "ipython3",
   "version": "3.8.8"
  },
  "vscode": {
   "interpreter": {
    "hash": "e2bdd490934a09705ff8383ec209f981ee6c3f52d9195f76ed6e6522e520a5e6"
   }
  }
 },
 "nbformat": 4,
 "nbformat_minor": 5
}
